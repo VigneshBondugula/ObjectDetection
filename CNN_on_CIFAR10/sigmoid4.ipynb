{
 "cells": [
  {
   "cell_type": "code",
   "execution_count": 1,
   "id": "0fe0f012",
   "metadata": {
    "execution": {
     "iopub.execute_input": "2022-03-29T18:00:24.179085Z",
     "iopub.status.busy": "2022-03-29T18:00:24.178256Z",
     "iopub.status.idle": "2022-03-29T18:00:25.819888Z",
     "shell.execute_reply": "2022-03-29T18:00:25.820362Z",
     "shell.execute_reply.started": "2022-03-29T17:20:48.434348Z"
    },
    "papermill": {
     "duration": 1.669043,
     "end_time": "2022-03-29T18:00:25.820666",
     "exception": false,
     "start_time": "2022-03-29T18:00:24.151623",
     "status": "completed"
    },
    "tags": []
   },
   "outputs": [],
   "source": [
    "%matplotlib inline\n",
    "import torch\n",
    "import numpy as np\n",
    "import matplotlib.pyplot as plt\n",
    "import torch.nn as nn\n",
    "import torch.nn.functional as F\n",
    "from torchvision.datasets import CIFAR10\n",
    "from torchvision.transforms import ToTensor, Compose, Normalize\n",
    "from torch.utils.data.dataloader import DataLoader\n",
    "from torch.utils.data import random_split\n",
    "from torchvision.utils import make_grid\n",
    "import time\n",
    "import torch.optim as optim\n",
    "from tqdm import tqdm\n",
    "from torch.optim import lr_scheduler"
   ]
  },
  {
   "cell_type": "code",
   "execution_count": 2,
   "id": "90033d84",
   "metadata": {
    "execution": {
     "iopub.execute_input": "2022-03-29T18:00:25.858014Z",
     "iopub.status.busy": "2022-03-29T18:00:25.849264Z",
     "iopub.status.idle": "2022-03-29T18:00:25.860310Z",
     "shell.execute_reply": "2022-03-29T18:00:25.859882Z",
     "shell.execute_reply.started": "2022-03-29T17:20:48.447258Z"
    },
    "papermill": {
     "duration": 0.026883,
     "end_time": "2022-03-29T18:00:25.860453",
     "exception": false,
     "start_time": "2022-03-29T18:00:25.833570",
     "status": "completed"
    },
    "tags": []
   },
   "outputs": [],
   "source": [
    "#Allow autofill on kaggle\n",
    "%config Completer.use_jedi = False"
   ]
  },
  {
   "cell_type": "code",
   "execution_count": 3,
   "id": "fb64d0e0",
   "metadata": {
    "execution": {
     "iopub.execute_input": "2022-03-29T18:00:25.887955Z",
     "iopub.status.busy": "2022-03-29T18:00:25.887128Z",
     "iopub.status.idle": "2022-03-29T18:00:25.894684Z",
     "shell.execute_reply": "2022-03-29T18:00:25.894238Z",
     "shell.execute_reply.started": "2022-03-29T17:20:48.471709Z"
    },
    "papermill": {
     "duration": 0.022083,
     "end_time": "2022-03-29T18:00:25.894800",
     "exception": false,
     "start_time": "2022-03-29T18:00:25.872717",
     "status": "completed"
    },
    "tags": []
   },
   "outputs": [],
   "source": [
    "# Helper functions to load data into gpu if available\n",
    "\n",
    "def get_default_device():\n",
    "  #Pick GPU if available, else CPU\n",
    "  if torch.cuda.is_available():\n",
    "    return torch.device('cuda')\n",
    "  else:\n",
    "    return torch.device('cpu')\n",
    "\n",
    "def to_device(data, device):\n",
    "  #Move tensor(s) to chosen device\n",
    "    if isinstance(data, (list,tuple)):\n",
    "        return [to_device(x, device) for x in data]\n",
    "    return data.to(device, non_blocking=True)\n",
    "\n",
    "class DeviceDataLoader():\n",
    "    #Wrap a dataloader to move data to a device\n",
    "    def __init__(self, dl, device):\n",
    "        self.dl = dl\n",
    "        self.device = device\n",
    "      \n",
    "    def __iter__(self):\n",
    "    #Yield a batch of data after moving it to device\n",
    "        for b in self.dl: \n",
    "            yield to_device(b, self.device)\n",
    "\n",
    "    def __len__(self):\n",
    "    #Number of batches\n",
    "        return len(self.dl)"
   ]
  },
  {
   "cell_type": "code",
   "execution_count": 4,
   "id": "d20dd7c4",
   "metadata": {
    "execution": {
     "iopub.execute_input": "2022-03-29T18:00:25.927683Z",
     "iopub.status.busy": "2022-03-29T18:00:25.923265Z",
     "iopub.status.idle": "2022-03-29T18:00:36.391572Z",
     "shell.execute_reply": "2022-03-29T18:00:36.392505Z",
     "shell.execute_reply.started": "2022-03-29T17:20:48.482897Z"
    },
    "papermill": {
     "duration": 10.485627,
     "end_time": "2022-03-29T18:00:36.392715",
     "exception": false,
     "start_time": "2022-03-29T18:00:25.907088",
     "status": "completed"
    },
    "tags": []
   },
   "outputs": [
    {
     "name": "stdout",
     "output_type": "stream",
     "text": [
      "Downloading https://www.cs.toronto.edu/~kriz/cifar-10-python.tar.gz to data/cifar-10-python.tar.gz\n"
     ]
    },
    {
     "data": {
      "application/vnd.jupyter.widget-view+json": {
       "model_id": "a97023bf35a4462a9bceaa572692a79b",
       "version_major": 2,
       "version_minor": 0
      },
      "text/plain": [
       "  0%|          | 0/170498071 [00:00<?, ?it/s]"
      ]
     },
     "metadata": {},
     "output_type": "display_data"
    },
    {
     "name": "stdout",
     "output_type": "stream",
     "text": [
      "Extracting data/cifar-10-python.tar.gz to data/\n"
     ]
    },
    {
     "name": "stderr",
     "output_type": "stream",
     "text": [
      "/opt/conda/lib/python3.7/site-packages/torch/utils/data/dataloader.py:481: UserWarning: This DataLoader will create 4 worker processes in total. Our suggested max number of worker in current system is 2, which is smaller than what this DataLoader is going to create. Please be aware that excessive worker creation might get DataLoader running slow or even freeze, lower the worker number to avoid potential slowness/freeze if necessary.\n",
      "  cpuset_checked))\n"
     ]
    },
    {
     "name": "stdout",
     "output_type": "stream",
     "text": [
      "Files already downloaded and verified\n",
      "cuda\n"
     ]
    }
   ],
   "source": [
    "#Loading Dataset\n",
    "transform = Compose(\n",
    "    [ToTensor(),\n",
    "     Normalize((0.5, 0.5, 0.5), (0.5, 0.5, 0.5))])\n",
    "\n",
    "batch_size = 64\n",
    "\n",
    "dataset = CIFAR10(root='data/', train=True,download=True, transform=transform)\n",
    "\n",
    "val_size = 8000\n",
    "train_size = len(dataset) - val_size\n",
    "trainset, valset = random_split(dataset, [train_size, val_size])\n",
    "trainloader = DataLoader(trainset, batch_size=batch_size,shuffle=True, num_workers=4, pin_memory = True)\n",
    "valloader = DataLoader(valset, batch_size=batch_size, num_workers=4, pin_memory=True)\n",
    "\n",
    "testset = CIFAR10(root='data/', train=False,download=True, transform=transform)\n",
    "testloader = DataLoader(testset, batch_size=batch_size,shuffle=False, num_workers=4, pin_memory = True)\n",
    "\n",
    "classes = ('plane', 'car', 'bird', 'cat', 'deer', 'dog', 'frog', 'horse', 'ship', 'truck')\n",
    "\n",
    "device = get_default_device()\n",
    "print(device)"
   ]
  },
  {
   "cell_type": "code",
   "execution_count": 5,
   "id": "e27985b4",
   "metadata": {
    "execution": {
     "iopub.execute_input": "2022-03-29T18:00:36.431369Z",
     "iopub.status.busy": "2022-03-29T18:00:36.430730Z",
     "iopub.status.idle": "2022-03-29T18:00:40.010285Z",
     "shell.execute_reply": "2022-03-29T18:00:40.009656Z",
     "shell.execute_reply.started": "2022-03-29T17:20:50.227933Z"
    },
    "papermill": {
     "duration": 3.602351,
     "end_time": "2022-03-29T18:00:40.010458",
     "exception": false,
     "start_time": "2022-03-29T18:00:36.408107",
     "status": "completed"
    },
    "tags": []
   },
   "outputs": [
    {
     "data": {
      "image/png": "[encoded data removed]",
      "text/plain": [
       "<Figure size 432x288 with 1 Axes>"
      ]
     },
     "metadata": {
      "needs_background": "light"
     },
     "output_type": "display_data"
    },
    {
     "name": "stdout",
     "output_type": "stream",
     "text": [
      "plane ship  plane plane frog  horse deer  ship  deer  plane car   car   dog   cat   truck car   ship  dog   car   ship  car   plane cat   deer  horse car   ship  frog  car   plane bird  horse truck bird  ship  bird  plane car   dog   cat   horse bird  horse frog  car   deer  frog  dog   cat   bird  ship  plane plane dog   plane horse truck dog   truck deer  ship  horse bird  deer \n"
     ]
    }
   ],
   "source": [
    "#Showing few images in the loaded data\n",
    "def imshow(img):\n",
    "    img = img / 2 + 0.5  \n",
    "    npimg = img.numpy()\n",
    "    plt.imshow(np.transpose(npimg, (1, 2, 0)))\n",
    "    plt.show()\n",
    "\n",
    "dataiter = iter(trainloader)\n",
    "images, labels = dataiter.next()\n",
    "\n",
    "imshow(make_grid(images))\n",
    "print(' '.join(f'{classes[labels[j]]:5s}' for j in range(batch_size)))"
   ]
  },
  {
   "cell_type": "code",
   "execution_count": 6,
   "id": "82a82dff",
   "metadata": {
    "execution": {
     "iopub.execute_input": "2022-03-29T18:00:40.065018Z",
     "iopub.status.busy": "2022-03-29T18:00:40.064164Z",
     "iopub.status.idle": "2022-03-29T18:00:40.096857Z",
     "shell.execute_reply": "2022-03-29T18:00:40.096010Z",
     "shell.execute_reply.started": "2022-03-29T17:20:50.802994Z"
    },
    "papermill": {
     "duration": 0.068184,
     "end_time": "2022-03-29T18:00:40.097047",
     "exception": false,
     "start_time": "2022-03-29T18:00:40.028863",
     "status": "completed"
    },
    "tags": []
   },
   "outputs": [
    {
     "data": {
      "text/plain": [
       "Net(\n",
       "  (conv1): Conv2d(3, 16, kernel_size=(3, 3), stride=(1, 1), padding=(1, 1))\n",
       "  (pool): MaxPool2d(kernel_size=2, stride=2, padding=0, dilation=1, ceil_mode=False)\n",
       "  (conv2): Conv2d(16, 32, kernel_size=(3, 3), stride=(1, 1), padding=(1, 1))\n",
       "  (conv3): Conv2d(32, 64, kernel_size=(3, 3), stride=(1, 1), padding=(1, 1))\n",
       "  (fc1): Linear(in_features=1024, out_features=512, bias=True)\n",
       "  (fc2): Linear(in_features=512, out_features=64, bias=True)\n",
       "  (fc3): Linear(in_features=64, out_features=10, bias=True)\n",
       "  (criterion): CrossEntropyLoss()\n",
       "  (dropout): Dropout(p=0.5, inplace=False)\n",
       ")"
      ]
     },
     "execution_count": 6,
     "metadata": {},
     "output_type": "execute_result"
    }
   ],
   "source": [
    "#CNN with 3 convolutional layers and 3 linear layers\n",
    "def accuracy(outputs, labels):\n",
    "  _, preds = torch.max(outputs, dim=1)\n",
    "  return torch.tensor(torch.sum(preds == labels).item() / len(preds))\n",
    "\n",
    "class Net(nn.Module):\n",
    "    def __init__(self):\n",
    "        super().__init__()\n",
    "        self.conv1 =  nn.Conv2d(3, 16, 3, padding=1)\n",
    "        self.pool = nn.MaxPool2d(2, 2)\n",
    "        self.conv2 = nn.Conv2d(16, 32, 3, padding=1)        \n",
    "        self.conv3 = nn.Conv2d(32, 64, 3, padding=1)        \n",
    "        self.fc1 = nn.Linear(64*4*4, 512)\n",
    "        self.fc2 = nn.Linear(512, 64)\n",
    "        self.fc3 =  nn.Linear(64, 10)\n",
    "        self.criterion = nn.CrossEntropyLoss()\n",
    "        self.dropout = nn.Dropout(p=.5)\n",
    "\n",
    "    def forward(self, x):\n",
    "        x = self.pool(F.sigmoid(self.conv1(x)))\n",
    "        x = self.pool(F.sigmoid(self.conv2(x)))\n",
    "        x = self.pool(F.sigmoid(self.conv3(x)))\n",
    "        x = torch.flatten(x, 1) # flatten all dimensions except batch\n",
    "        x = self.dropout(F.sigmoid(self.fc1(x)))\n",
    "        x = self.dropout(F.sigmoid(self.fc2(x)))\n",
    "        x = self.fc3(x)\n",
    "        return x\n",
    "    \n",
    "    def training_step(self, batch):\n",
    "        images, labels = batch \n",
    "        out = self(images)                  # Generate predictions\n",
    "        loss = self.criterion(out, labels) # Calculate loss\n",
    "        acc = accuracy(out, labels)           # Calculate accuracy\n",
    "        return loss, acc\n",
    "\n",
    "    def validation_step(self, batch):\n",
    "        images, labels = batch \n",
    "        out = self(images)                    # Generate predictions\n",
    "        loss = self.criterion(out, labels)   # Calculate loss\n",
    "        acc = accuracy(out, labels)           # Calculate accuracy\n",
    "        return {'val_loss': loss, 'val_acc': acc}\n",
    "\n",
    "    def validation_epoch_end(self, outputs):\n",
    "        batch_losses = [x['val_loss'] for x in outputs]\n",
    "        epoch_loss = torch.stack(batch_losses).mean()   # Combine losses\n",
    "        batch_accs = [x['val_acc'] for x in outputs]\n",
    "        epoch_acc = torch.stack(batch_accs).mean()      # Combine accuracies\n",
    "        return {'val_loss': epoch_loss.item(), 'val_acc': epoch_acc.item()}\n",
    "\n",
    "    def epoch_end(self, epoch, result):\n",
    "        print(\"Epoch [{}], Time taken :{:.4f}, train_loss : {:.4f}, train_acc: {:.4f}, val_loss: {:.4f}, val_acc: {:.4f}\".format(epoch, result['time'], result['train_loss'], result['train_acc'], result['val_loss'], result['val_acc']))\n",
    "\n",
    "net = Net()\n",
    "net.to(device)"
   ]
  },
  {
   "cell_type": "code",
   "execution_count": 7,
   "id": "e35ab924",
   "metadata": {
    "execution": {
     "iopub.execute_input": "2022-03-29T18:00:40.210462Z",
     "iopub.status.busy": "2022-03-29T18:00:40.209560Z",
     "iopub.status.idle": "2022-03-29T18:00:40.211555Z",
     "shell.execute_reply": "2022-03-29T18:00:40.212053Z",
     "shell.execute_reply.started": "2022-03-29T17:20:50.837613Z"
    },
    "papermill": {
     "duration": 0.048897,
     "end_time": "2022-03-29T18:00:40.212195",
     "exception": false,
     "start_time": "2022-03-29T18:00:40.163298",
     "status": "completed"
    },
    "tags": []
   },
   "outputs": [],
   "source": [
    "def evaluate(model, val_loader):\n",
    "    outputs = [model.validation_step(to_device(batch,device)) for batch in val_loader]\n",
    "    return model.validation_epoch_end(outputs)\n",
    "\n",
    "def fit(epochs, model, train_loader, val_loader, lr=0.01,momentum = 0.9):\n",
    "    history = []\n",
    "    lrs = []\n",
    "    optimizer = optim.SGD(net.parameters(), lr=lr, momentum=momentum)\n",
    "    end = 0\n",
    "    scheduler = lr_scheduler.StepLR(optimizer, step_size=7, gamma=0.1)\n",
    "    for epoch in range(epochs):\n",
    "        # Training Phase \n",
    "        train_losses = []\n",
    "        train_accuracy = []\n",
    "        start = time.time()\n",
    "        for batch in tqdm(train_loader):\n",
    "            batch = to_device(batch, device)\n",
    "            loss,acc= model.training_step(batch)\n",
    "            train_losses.append(loss)\n",
    "            train_accuracy.append(acc)\n",
    "            loss.backward()\n",
    "            optimizer.step()\n",
    "            optimizer.zero_grad()\n",
    "        # Validation phase\n",
    "        result =  evaluate(model, val_loader)\n",
    "        result['train_loss'] = torch.stack(train_losses).mean().item()\n",
    "        result['train_acc'] = torch.stack(train_accuracy).mean().item()\n",
    "        end = time.time()\n",
    "        result['time'] = end - start\n",
    "        model.epoch_end(epoch, result)\n",
    "        history.append(result)\n",
    "        lrs.append(scheduler.get_last_lr())\n",
    "        scheduler.step()\n",
    "    return history, end, lrs"
   ]
  },
  {
   "cell_type": "code",
   "execution_count": 8,
   "id": "b48d649a",
   "metadata": {
    "execution": {
     "iopub.execute_input": "2022-03-29T18:00:40.254443Z",
     "iopub.status.busy": "2022-03-29T18:00:40.253735Z",
     "iopub.status.idle": "2022-03-29T18:03:57.957090Z",
     "shell.execute_reply": "2022-03-29T18:03:57.957571Z",
     "shell.execute_reply.started": "2022-03-29T17:20:50.851013Z"
    },
    "papermill": {
     "duration": 197.727269,
     "end_time": "2022-03-29T18:03:57.957744",
     "exception": false,
     "start_time": "2022-03-29T18:00:40.230475",
     "status": "completed"
    },
    "tags": []
   },
   "outputs": [
    {
     "name": "stderr",
     "output_type": "stream",
     "text": [
      "  0%|          | 0/657 [00:00<?, ?it/s]/opt/conda/lib/python3.7/site-packages/torch/nn/functional.py:1805: UserWarning: nn.functional.sigmoid is deprecated. Use torch.sigmoid instead.\n",
      "  warnings.warn(\"nn.functional.sigmoid is deprecated. Use torch.sigmoid instead.\")\n",
      "100%|██████████| 657/657 [00:16<00:00, 40.70it/s]\n"
     ]
    },
    {
     "name": "stdout",
     "output_type": "stream",
     "text": [
      "Epoch [0], Time taken :17.9946, train_loss : 2.3134, train_acc: 0.0985, val_loss: 2.3071, val_acc: 0.0969\n"
     ]
    },
    {
     "name": "stderr",
     "output_type": "stream",
     "text": [
      "100%|██████████| 657/657 [00:10<00:00, 60.29it/s]\n"
     ]
    },
    {
     "name": "stdout",
     "output_type": "stream",
     "text": [
      "Epoch [1], Time taken :12.8419, train_loss : 2.3044, train_acc: 0.1005, val_loss: 2.3030, val_acc: 0.1016\n"
     ]
    },
    {
     "name": "stderr",
     "output_type": "stream",
     "text": [
      "100%|██████████| 657/657 [00:10<00:00, 63.04it/s]\n"
     ]
    },
    {
     "name": "stdout",
     "output_type": "stream",
     "text": [
      "Epoch [2], Time taken :12.5543, train_loss : 2.3037, train_acc: 0.1011, val_loss: 2.3039, val_acc: 0.0997\n"
     ]
    },
    {
     "name": "stderr",
     "output_type": "stream",
     "text": [
      "100%|██████████| 657/657 [00:10<00:00, 62.67it/s]\n"
     ]
    },
    {
     "name": "stdout",
     "output_type": "stream",
     "text": [
      "Epoch [3], Time taken :12.6027, train_loss : 2.3033, train_acc: 0.0983, val_loss: 2.3039, val_acc: 0.0989\n"
     ]
    },
    {
     "name": "stderr",
     "output_type": "stream",
     "text": [
      "100%|██████████| 657/657 [00:11<00:00, 58.15it/s]\n"
     ]
    },
    {
     "name": "stdout",
     "output_type": "stream",
     "text": [
      "Epoch [4], Time taken :13.1019, train_loss : 2.3034, train_acc: 0.0990, val_loss: 2.3037, val_acc: 0.0978\n"
     ]
    },
    {
     "name": "stderr",
     "output_type": "stream",
     "text": [
      "100%|██████████| 657/657 [00:10<00:00, 62.70it/s]\n"
     ]
    },
    {
     "name": "stdout",
     "output_type": "stream",
     "text": [
      "Epoch [5], Time taken :12.2735, train_loss : 2.3034, train_acc: 0.0985, val_loss: 2.3039, val_acc: 0.0934\n"
     ]
    },
    {
     "name": "stderr",
     "output_type": "stream",
     "text": [
      "100%|██████████| 657/657 [00:11<00:00, 58.18it/s]\n"
     ]
    },
    {
     "name": "stdout",
     "output_type": "stream",
     "text": [
      "Epoch [6], Time taken :13.2300, train_loss : 2.3032, train_acc: 0.0991, val_loss: 2.3033, val_acc: 0.0972\n"
     ]
    },
    {
     "name": "stderr",
     "output_type": "stream",
     "text": [
      "100%|██████████| 657/657 [00:10<00:00, 62.99it/s]\n"
     ]
    },
    {
     "name": "stdout",
     "output_type": "stream",
     "text": [
      "Epoch [7], Time taken :12.2386, train_loss : 2.3030, train_acc: 0.0997, val_loss: 2.3026, val_acc: 0.1019\n"
     ]
    },
    {
     "name": "stderr",
     "output_type": "stream",
     "text": [
      "100%|██████████| 657/657 [00:11<00:00, 58.96it/s]\n"
     ]
    },
    {
     "name": "stdout",
     "output_type": "stream",
     "text": [
      "Epoch [8], Time taken :13.3374, train_loss : 2.3029, train_acc: 0.0968, val_loss: 2.3028, val_acc: 0.1014\n"
     ]
    },
    {
     "name": "stderr",
     "output_type": "stream",
     "text": [
      "100%|██████████| 657/657 [00:11<00:00, 57.75it/s]\n"
     ]
    },
    {
     "name": "stdout",
     "output_type": "stream",
     "text": [
      "Epoch [9], Time taken :13.1793, train_loss : 2.3027, train_acc: 0.1014, val_loss: 2.3025, val_acc: 0.0994\n"
     ]
    },
    {
     "name": "stderr",
     "output_type": "stream",
     "text": [
      "100%|██████████| 657/657 [00:10<00:00, 62.88it/s]\n"
     ]
    },
    {
     "name": "stdout",
     "output_type": "stream",
     "text": [
      "Epoch [10], Time taken :12.5027, train_loss : 2.3027, train_acc: 0.1029, val_loss: 2.3030, val_acc: 0.0996\n"
     ]
    },
    {
     "name": "stderr",
     "output_type": "stream",
     "text": [
      "100%|██████████| 657/657 [00:10<00:00, 60.84it/s]\n"
     ]
    },
    {
     "name": "stdout",
     "output_type": "stream",
     "text": [
      "Epoch [11], Time taken :13.2341, train_loss : 2.3028, train_acc: 0.0990, val_loss: 2.3028, val_acc: 0.0966\n"
     ]
    },
    {
     "name": "stderr",
     "output_type": "stream",
     "text": [
      "100%|██████████| 657/657 [00:10<00:00, 61.98it/s]\n"
     ]
    },
    {
     "name": "stdout",
     "output_type": "stream",
     "text": [
      "Epoch [12], Time taken :12.4426, train_loss : 2.3027, train_acc: 0.1007, val_loss: 2.3029, val_acc: 0.0997\n"
     ]
    },
    {
     "name": "stderr",
     "output_type": "stream",
     "text": [
      "100%|██████████| 657/657 [00:10<00:00, 62.42it/s]\n"
     ]
    },
    {
     "name": "stdout",
     "output_type": "stream",
     "text": [
      "Epoch [13], Time taken :12.3243, train_loss : 2.3029, train_acc: 0.0998, val_loss: 2.3028, val_acc: 0.0985\n"
     ]
    },
    {
     "name": "stderr",
     "output_type": "stream",
     "text": [
      "100%|██████████| 657/657 [00:11<00:00, 56.33it/s]\n"
     ]
    },
    {
     "name": "stdout",
     "output_type": "stream",
     "text": [
      "Epoch [14], Time taken :13.6378, train_loss : 2.3028, train_acc: 0.1011, val_loss: 2.3022, val_acc: 0.1061\n",
      "Finished Training in 197.6822054386139secs\n"
     ]
    }
   ],
   "source": [
    "begin = time.time()\n",
    "history, end, lrs = fit(15, net, trainloader, valloader)\n",
    "print('Finished Training in '+ str(end-begin) + 'secs')"
   ]
  },
  {
   "cell_type": "code",
   "execution_count": 9,
   "id": "8c174764",
   "metadata": {
    "execution": {
     "iopub.execute_input": "2022-03-29T18:03:58.876172Z",
     "iopub.status.busy": "2022-03-29T18:03:58.875613Z",
     "iopub.status.idle": "2022-03-29T18:03:58.888561Z",
     "shell.execute_reply": "2022-03-29T18:03:58.888060Z",
     "shell.execute_reply.started": "2022-03-29T17:23:54.226106Z"
    },
    "papermill": {
     "duration": 0.467015,
     "end_time": "2022-03-29T18:03:58.888688",
     "exception": false,
     "start_time": "2022-03-29T18:03:58.421673",
     "status": "completed"
    },
    "tags": []
   },
   "outputs": [],
   "source": [
    "PATH = './cifar_net.pth'\n",
    "torch.save(net.state_dict(), PATH)"
   ]
  },
  {
   "cell_type": "code",
   "execution_count": 10,
   "id": "e52b16b0",
   "metadata": {
    "execution": {
     "iopub.execute_input": "2022-03-29T18:03:59.806965Z",
     "iopub.status.busy": "2022-03-29T18:03:59.806028Z",
     "iopub.status.idle": "2022-03-29T18:04:00.389477Z",
     "shell.execute_reply": "2022-03-29T18:04:00.390806Z",
     "shell.execute_reply.started": "2022-03-29T17:23:54.243625Z"
    },
    "papermill": {
     "duration": 1.055985,
     "end_time": "2022-03-29T18:04:00.391091",
     "exception": false,
     "start_time": "2022-03-29T18:03:59.335106",
     "status": "completed"
    },
    "tags": []
   },
   "outputs": [
    {
     "data": {
      "image/png": "[encoded data removed]",
      "text/plain": [
       "<Figure size 1440x432 with 2 Axes>"
      ]
     },
     "metadata": {
      "needs_background": "light"
     },
     "output_type": "display_data"
    },
    {
     "data": {
      "image/png": "[encoded data removed]",
      "text/plain": [
       "<Figure size 432x288 with 1 Axes>"
      ]
     },
     "metadata": {
      "needs_background": "light"
     },
     "output_type": "display_data"
    },
    {
     "data": {
      "image/png": "[encoded data removed]",
      "text/plain": [
       "<Figure size 432x288 with 1 Axes>"
      ]
     },
     "metadata": {
      "needs_background": "light"
     },
     "output_type": "display_data"
    }
   ],
   "source": [
    "def plot_results(history, lrs):\n",
    "    val_accs = [x['val_acc'] for x in history]\n",
    "    train_accs = [x['train_acc'] for x in history]\n",
    "    val_losses = [x['val_loss'] for x in history]\n",
    "    train_losses = [x['train_loss'] for x in history] \n",
    "    time_taken = [x['time'] for x in history]\n",
    "    plt.figure(figsize=(20,6))\n",
    "    plt.subplots_adjust(wspace= 0.25, hspace= 0.25)\n",
    "    plt.subplot(221)\n",
    "    plt.plot(train_accs, '-r')\n",
    "    plt.plot(val_accs, '-b')\n",
    "    ax = plt.gca()\n",
    "    ax.set_xlabel('Epochs')\n",
    "    ax.set_ylabel('Accuracies')\n",
    "    plt.legend(['Training', 'Validation'])\n",
    "    plt.title('Accuracy vs. No. of epochs')\n",
    "    \n",
    "    plt.subplot(222)\n",
    "    plt.plot(train_losses, '-r')\n",
    "    plt.plot(val_losses, '-b')\n",
    "    ax = plt.gca()\n",
    "    ax.set_xlabel('Epochs')\n",
    "    ax.set_ylabel('Losses')\n",
    "    plt.legend(['Training', 'Validation'])\n",
    "    plt.title('Losses vs. No. of epochs')\n",
    "    plt.show()\n",
    "    \n",
    "    plt.subplot(223)\n",
    "    plt.plot(time_taken)\n",
    "    ax = plt.gca()\n",
    "    ax.set_xlabel('Epochs')\n",
    "    ax.set_ylabel('Time(s)')\n",
    "    plt.title('Time vs. Epoch')\n",
    "    plt.show()\n",
    "    \n",
    "    plt.subplot(224)\n",
    "    plt.plot(lrs)\n",
    "    ax = plt.gca()\n",
    "    ax.set_xlabel('Epochs')\n",
    "    ax.set_ylabel('Learning Rate')\n",
    "    plt.title('Learning rates vs. Epoch')\n",
    "    plt.show()\n",
    "              \n",
    "plot_results(history, lrs)"
   ]
  },
  {
   "cell_type": "code",
   "execution_count": 11,
   "id": "848880a2",
   "metadata": {
    "execution": {
     "iopub.execute_input": "2022-03-29T18:04:01.322156Z",
     "iopub.status.busy": "2022-03-29T18:04:01.321339Z",
     "iopub.status.idle": "2022-03-29T18:04:01.336270Z",
     "shell.execute_reply": "2022-03-29T18:04:01.336734Z",
     "shell.execute_reply.started": "2022-03-29T17:23:55.096529Z"
    },
    "papermill": {
     "duration": 0.470343,
     "end_time": "2022-03-29T18:04:01.336883",
     "exception": false,
     "start_time": "2022-03-29T18:04:00.866540",
     "status": "completed"
    },
    "tags": []
   },
   "outputs": [
    {
     "data": {
      "text/plain": [
       "Net(\n",
       "  (conv1): Conv2d(3, 16, kernel_size=(3, 3), stride=(1, 1), padding=(1, 1))\n",
       "  (pool): MaxPool2d(kernel_size=2, stride=2, padding=0, dilation=1, ceil_mode=False)\n",
       "  (conv2): Conv2d(16, 32, kernel_size=(3, 3), stride=(1, 1), padding=(1, 1))\n",
       "  (conv3): Conv2d(32, 64, kernel_size=(3, 3), stride=(1, 1), padding=(1, 1))\n",
       "  (fc1): Linear(in_features=1024, out_features=512, bias=True)\n",
       "  (fc2): Linear(in_features=512, out_features=64, bias=True)\n",
       "  (fc3): Linear(in_features=64, out_features=10, bias=True)\n",
       "  (criterion): CrossEntropyLoss()\n",
       "  (dropout): Dropout(p=0.5, inplace=False)\n",
       ")"
      ]
     },
     "execution_count": 11,
     "metadata": {},
     "output_type": "execute_result"
    }
   ],
   "source": [
    "net = Net()\n",
    "net.load_state_dict(torch.load(PATH))\n",
    "net.to(device)"
   ]
  },
  {
   "cell_type": "code",
   "execution_count": 12,
   "id": "703fc37b",
   "metadata": {
    "execution": {
     "iopub.execute_input": "2022-03-29T18:04:02.246090Z",
     "iopub.status.busy": "2022-03-29T18:04:02.245078Z",
     "iopub.status.idle": "2022-03-29T18:04:05.247823Z",
     "shell.execute_reply": "2022-03-29T18:04:05.248399Z",
     "shell.execute_reply.started": "2022-03-29T17:23:55.120919Z"
    },
    "papermill": {
     "duration": 3.460167,
     "end_time": "2022-03-29T18:04:05.248605",
     "exception": false,
     "start_time": "2022-03-29T18:04:01.788438",
     "status": "completed"
    },
    "tags": []
   },
   "outputs": [
    {
     "name": "stdout",
     "output_type": "stream",
     "text": [
      "Accuracy of the network on the 10000 test images: 9 %\n"
     ]
    }
   ],
   "source": [
    "correct = 0\n",
    "total = 0\n",
    "with torch.no_grad():\n",
    "    for data in testloader:\n",
    "        data = to_device(data, device)\n",
    "        images, labels = data\n",
    "        outputs = net(images)\n",
    "        _, predicted = torch.max(outputs.data, 1)\n",
    "        total += labels.size(0)\n",
    "        correct += (predicted == labels).sum().item()\n",
    "\n",
    "print(f'Accuracy of the network on the 10000 test images: {100 * correct // total} %')"
   ]
  },
  {
   "cell_type": "code",
   "execution_count": 13,
   "id": "4956e30d",
   "metadata": {
    "execution": {
     "iopub.execute_input": "2022-03-29T18:04:06.198889Z",
     "iopub.status.busy": "2022-03-29T18:04:06.198098Z",
     "iopub.status.idle": "2022-03-29T18:04:09.160977Z",
     "shell.execute_reply": "2022-03-29T18:04:09.160489Z",
     "shell.execute_reply.started": "2022-03-29T17:23:57.845154Z"
    },
    "papermill": {
     "duration": 3.427295,
     "end_time": "2022-03-29T18:04:09.161111",
     "exception": false,
     "start_time": "2022-03-29T18:04:05.733816",
     "status": "completed"
    },
    "tags": []
   },
   "outputs": [
    {
     "name": "stdout",
     "output_type": "stream",
     "text": [
      "Accuracy for class: plane is 5.1 %\n",
      "Accuracy for class: car   is 7.0 %\n",
      "Accuracy for class: bird  is 2.5 %\n",
      "Accuracy for class: cat   is 9.3 %\n",
      "Accuracy for class: deer  is 4.8 %\n",
      "Accuracy for class: dog   is 7.5 %\n",
      "Accuracy for class: frog  is 19.8 %\n",
      "Accuracy for class: horse is 8.4 %\n",
      "Accuracy for class: ship  is 19.3 %\n",
      "Accuracy for class: truck is 13.6 %\n"
     ]
    }
   ],
   "source": [
    "correct_pred = {classname: 0 for classname in classes}\n",
    "total_pred = {classname: 0 for classname in classes}\n",
    "\n",
    "with torch.no_grad():\n",
    "    for data in testloader:\n",
    "        data = to_device(data, device)\n",
    "        images, labels = data\n",
    "        outputs = net(images)\n",
    "        _, predictions = torch.max(outputs, 1)\n",
    "        for label, prediction in zip(labels, predictions):\n",
    "            if label == prediction:\n",
    "                correct_pred[classes[label]] += 1\n",
    "            total_pred[classes[label]] += 1\n",
    "\n",
    "for classname, correct_count in correct_pred.items():\n",
    "    accuracy = 100 * float(correct_count) / total_pred[classname]\n",
    "    print(f'Accuracy for class: {classname:5s} is {accuracy:.1f} %')"
   ]
  }
 ],
 "metadata": {
  "kernelspec": {
   "display_name": "Python 3",
   "language": "python",
   "name": "python3"
  },
  "language_info": {
   "codemirror_mode": {
    "name": "ipython",
    "version": 3
   },
   "file_extension": ".py",
   "mimetype": "text/x-python",
   "name": "python",
   "nbconvert_exporter": "python",
   "pygments_lexer": "ipython3",
   "version": "3.7.12"
  },
  "papermill": {
   "default_parameters": {},
   "duration": 235.060539,
   "end_time": "2022-03-29T18:04:11.133423",
   "environment_variables": {},
   "exception": null,
   "input_path": "__notebook__.ipynb",
   "output_path": "__notebook__.ipynb",
   "parameters": {},
   "start_time": "2022-03-29T18:00:16.072884",
   "version": "2.3.3"
  },
  "widgets": {
   "application/vnd.jupyter.widget-state+json": {
    "state": {
     "1051548076a84433b4aa1bed250d3271": {
      "model_module": "@jupyter-widgets/base",
      "model_module_version": "1.2.0",
      "model_name": "LayoutModel",
      "state": {
       "_model_module": "@jupyter-widgets/base",
       "_model_module_version": "1.2.0",
       "_model_name": "LayoutModel",
       "_view_count": null,
       "_view_module": "@jupyter-widgets/base",
       "_view_module_version": "1.2.0",
       "_view_name": "LayoutView",
       "align_content": null,
       "align_items": null,
       "align_self": null,
       "border": null,
       "bottom": null,
       "display": null,
       "flex": null,
       "flex_flow": null,
       "grid_area": null,
       "grid_auto_columns": null,
       "grid_auto_flow": null,
       "grid_auto_rows": null,
       "grid_column": null,
       "grid_gap": null,
       "grid_row": null,
       "grid_template_areas": null,
       "grid_template_columns": null,
       "grid_template_rows": null,
       "height": null,
       "justify_content": null,
       "justify_items": null,
       "left": null,
       "margin": null,
       "max_height": null,
       "max_width": null,
       "min_height": null,
       "min_width": null,
       "object_fit": null,
       "object_position": null,
       "order": null,
       "overflow": null,
       "overflow_x": null,
       "overflow_y": null,
       "padding": null,
       "right": null,
       "top": null,
       "visibility": null,
       "width": null
      }
     },
     "15f8037157a84bcc8ebc271b948e9648": {
      "model_module": "@jupyter-widgets/controls",
      "model_module_version": "1.5.0",
      "model_name": "FloatProgressModel",
      "state": {
       "_dom_classes": [],
       "_model_module": "@jupyter-widgets/controls",
       "_model_module_version": "1.5.0",
       "_model_name": "FloatProgressModel",
       "_view_count": null,
       "_view_module": "@jupyter-widgets/controls",
       "_view_module_version": "1.5.0",
       "_view_name": "ProgressView",
       "bar_style": "success",
       "description": "",
       "description_tooltip": null,
       "layout": "IPY_MODEL_2c129852acf84790bbf7f68b7ea7dfbc",
       "max": 170498071,
       "min": 0,
       "orientation": "horizontal",
       "style": "IPY_MODEL_2471a2573a864e3b81155317f4555d8e",
       "value": 170498071
      }
     },
     "2471a2573a864e3b81155317f4555d8e": {
      "model_module": "@jupyter-widgets/controls",
      "model_module_version": "1.5.0",
      "model_name": "ProgressStyleModel",
      "state": {
       "_model_module": "@jupyter-widgets/controls",
       "_model_module_version": "1.5.0",
       "_model_name": "ProgressStyleModel",
       "_view_count": null,
       "_view_module": "@jupyter-widgets/base",
       "_view_module_version": "1.2.0",
       "_view_name": "StyleView",
       "bar_color": null,
       "description_width": ""
      }
     },
     "2c129852acf84790bbf7f68b7ea7dfbc": {
      "model_module": "@jupyter-widgets/base",
      "model_module_version": "1.2.0",
      "model_name": "LayoutModel",
      "state": {
       "_model_module": "@jupyter-widgets/base",
       "_model_module_version": "1.2.0",
       "_model_name": "LayoutModel",
       "_view_count": null,
       "_view_module": "@jupyter-widgets/base",
       "_view_module_version": "1.2.0",
       "_view_name": "LayoutView",
       "align_content": null,
       "align_items": null,
       "align_self": null,
       "border": null,
       "bottom": null,
       "display": null,
       "flex": null,
       "flex_flow": null,
       "grid_area": null,
       "grid_auto_columns": null,
       "grid_auto_flow": null,
       "grid_auto_rows": null,
       "grid_column": null,
       "grid_gap": null,
       "grid_row": null,
       "grid_template_areas": null,
       "grid_template_columns": null,
       "grid_template_rows": null,
       "height": null,
       "justify_content": null,
       "justify_items": null,
       "left": null,
       "margin": null,
       "max_height": null,
       "max_width": null,
       "min_height": null,
       "min_width": null,
       "object_fit": null,
       "object_position": null,
       "order": null,
       "overflow": null,
       "overflow_x": null,
       "overflow_y": null,
       "padding": null,
       "right": null,
       "top": null,
       "visibility": null,
       "width": null
      }
     },
     "567129ace1ff4847be978b7a70e2e29c": {
      "model_module": "@jupyter-widgets/controls",
      "model_module_version": "1.5.0",
      "model_name": "HTMLModel",
      "state": {
       "_dom_classes": [],
       "_model_module": "@jupyter-widgets/controls",
       "_model_module_version": "1.5.0",
       "_model_name": "HTMLModel",
       "_view_count": null,
       "_view_module": "@jupyter-widgets/controls",
       "_view_module_version": "1.5.0",
       "_view_name": "HTMLView",
       "description": "",
       "description_tooltip": null,
       "layout": "IPY_MODEL_e68f5d6a0bf64e23acf206f6bcf245e6",
       "placeholder": "​",
       "style": "IPY_MODEL_63da58407a5b4c64887d839944fba5ef",
       "value": " 170499072/? [00:06&lt;00:00, 30993025.35it/s]"
      }
     },
     "63da58407a5b4c64887d839944fba5ef": {
      "model_module": "@jupyter-widgets/controls",
      "model_module_version": "1.5.0",
      "model_name": "DescriptionStyleModel",
      "state": {
       "_model_module": "@jupyter-widgets/controls",
       "_model_module_version": "1.5.0",
       "_model_name": "DescriptionStyleModel",
       "_view_count": null,
       "_view_module": "@jupyter-widgets/base",
       "_view_module_version": "1.2.0",
       "_view_name": "StyleView",
       "description_width": ""
      }
     },
     "68564f1c7ca34c5792b1fa67d584829d": {
      "model_module": "@jupyter-widgets/base",
      "model_module_version": "1.2.0",
      "model_name": "LayoutModel",
      "state": {
       "_model_module": "@jupyter-widgets/base",
       "_model_module_version": "1.2.0",
       "_model_name": "LayoutModel",
       "_view_count": null,
       "_view_module": "@jupyter-widgets/base",
       "_view_module_version": "1.2.0",
       "_view_name": "LayoutView",
       "align_content": null,
       "align_items": null,
       "align_self": null,
       "border": null,
       "bottom": null,
       "display": null,
       "flex": null,
       "flex_flow": null,
       "grid_area": null,
       "grid_auto_columns": null,
       "grid_auto_flow": null,
       "grid_auto_rows": null,
       "grid_column": null,
       "grid_gap": null,
       "grid_row": null,
       "grid_template_areas": null,
       "grid_template_columns": null,
       "grid_template_rows": null,
       "height": null,
       "justify_content": null,
       "justify_items": null,
       "left": null,
       "margin": null,
       "max_height": null,
       "max_width": null,
       "min_height": null,
       "min_width": null,
       "object_fit": null,
       "object_position": null,
       "order": null,
       "overflow": null,
       "overflow_x": null,
       "overflow_y": null,
       "padding": null,
       "right": null,
       "top": null,
       "visibility": null,
       "width": null
      }
     },
     "8a576cff5e3c4dc5aa4ca21fbfec30c8": {
      "model_module": "@jupyter-widgets/controls",
      "model_module_version": "1.5.0",
      "model_name": "DescriptionStyleModel",
      "state": {
       "_model_module": "@jupyter-widgets/controls",
       "_model_module_version": "1.5.0",
       "_model_name": "DescriptionStyleModel",
       "_view_count": null,
       "_view_module": "@jupyter-widgets/base",
       "_view_module_version": "1.2.0",
       "_view_name": "StyleView",
       "description_width": ""
      }
     },
     "a97023bf35a4462a9bceaa572692a79b": {
      "model_module": "@jupyter-widgets/controls",
      "model_module_version": "1.5.0",
      "model_name": "HBoxModel",
      "state": {
       "_dom_classes": [],
       "_model_module": "@jupyter-widgets/controls",
       "_model_module_version": "1.5.0",
       "_model_name": "HBoxModel",
       "_view_count": null,
       "_view_module": "@jupyter-widgets/controls",
       "_view_module_version": "1.5.0",
       "_view_name": "HBoxView",
       "box_style": "",
       "children": [
        "IPY_MODEL_b1758e65ec074219a03595feb7d031fa",
        "IPY_MODEL_15f8037157a84bcc8ebc271b948e9648",
        "IPY_MODEL_567129ace1ff4847be978b7a70e2e29c"
       ],
       "layout": "IPY_MODEL_1051548076a84433b4aa1bed250d3271"
      }
     },
     "b1758e65ec074219a03595feb7d031fa": {
      "model_module": "@jupyter-widgets/controls",
      "model_module_version": "1.5.0",
      "model_name": "HTMLModel",
      "state": {
       "_dom_classes": [],
       "_model_module": "@jupyter-widgets/controls",
       "_model_module_version": "1.5.0",
       "_model_name": "HTMLModel",
       "_view_count": null,
       "_view_module": "@jupyter-widgets/controls",
       "_view_module_version": "1.5.0",
       "_view_name": "HTMLView",
       "description": "",
       "description_tooltip": null,
       "layout": "IPY_MODEL_68564f1c7ca34c5792b1fa67d584829d",
       "placeholder": "​",
       "style": "IPY_MODEL_8a576cff5e3c4dc5aa4ca21fbfec30c8",
       "value": ""
      }
     },
     "e68f5d6a0bf64e23acf206f6bcf245e6": {
      "model_module": "@jupyter-widgets/base",
      "model_module_version": "1.2.0",
      "model_name": "LayoutModel",
      "state": {
       "_model_module": "@jupyter-widgets/base",
       "_model_module_version": "1.2.0",
       "_model_name": "LayoutModel",
       "_view_count": null,
       "_view_module": "@jupyter-widgets/base",
       "_view_module_version": "1.2.0",
       "_view_name": "LayoutView",
       "align_content": null,
       "align_items": null,
       "align_self": null,
       "border": null,
       "bottom": null,
       "display": null,
       "flex": null,
       "flex_flow": null,
       "grid_area": null,
       "grid_auto_columns": null,
       "grid_auto_flow": null,
       "grid_auto_rows": null,
       "grid_column": null,
       "grid_gap": null,
       "grid_row": null,
       "grid_template_areas": null,
       "grid_template_columns": null,
       "grid_template_rows": null,
       "height": null,
       "justify_content": null,
       "justify_items": null,
       "left": null,
       "margin": null,
       "max_height": null,
       "max_width": null,
       "min_height": null,
       "min_width": null,
       "object_fit": null,
       "object_position": null,
       "order": null,
       "overflow": null,
       "overflow_x": null,
       "overflow_y": null,
       "padding": null,
       "right": null,
       "top": null,
       "visibility": null,
       "width": null
      }
     }
    },
    "version_major": 2,
    "version_minor": 0
   }
  }
 },
 "nbformat": 4,
 "nbformat_minor": 5
}
