{
 "cells": [
  {
   "cell_type": "code",
   "execution_count": 1,
   "id": "221dc01b",
   "metadata": {
    "execution": {
     "iopub.execute_input": "2022-03-29T17:53:54.033714Z",
     "iopub.status.busy": "2022-03-29T17:53:54.032238Z",
     "iopub.status.idle": "2022-03-29T17:53:55.736639Z",
     "shell.execute_reply": "2022-03-29T17:53:55.737774Z",
     "shell.execute_reply.started": "2022-03-29T16:56:49.833657Z"
    },
    "papermill": {
     "duration": 1.724168,
     "end_time": "2022-03-29T17:53:55.738104",
     "exception": false,
     "start_time": "2022-03-29T17:53:54.013936",
     "status": "completed"
    },
    "tags": []
   },
   "outputs": [],
   "source": [
    "%matplotlib inline\n",
    "import torch\n",
    "import numpy as np\n",
    "import matplotlib.pyplot as plt\n",
    "import torch.nn as nn\n",
    "import torch.nn.functional as F\n",
    "from torchvision.datasets import CIFAR10\n",
    "from torchvision.transforms import ToTensor, Compose, Normalize\n",
    "from torch.utils.data.dataloader import DataLoader\n",
    "from torch.utils.data import random_split\n",
    "from torchvision.utils import make_grid\n",
    "import time\n",
    "import torch.optim as optim\n",
    "from tqdm import tqdm"
   ]
  },
  {
   "cell_type": "code",
   "execution_count": 2,
   "id": "b087bac3",
   "metadata": {
    "execution": {
     "iopub.execute_input": "2022-03-29T17:53:55.800371Z",
     "iopub.status.busy": "2022-03-29T17:53:55.793154Z",
     "iopub.status.idle": "2022-03-29T17:53:55.805416Z",
     "shell.execute_reply": "2022-03-29T17:53:55.806356Z",
     "shell.execute_reply.started": "2022-03-29T16:56:49.847400Z"
    },
    "papermill": {
     "duration": 0.043182,
     "end_time": "2022-03-29T17:53:55.806547",
     "exception": false,
     "start_time": "2022-03-29T17:53:55.763365",
     "status": "completed"
    },
    "tags": []
   },
   "outputs": [],
   "source": [
    "#Allow autofill on kaggle\n",
    "%config Completer.use_jedi = False"
   ]
  },
  {
   "cell_type": "code",
   "execution_count": 3,
   "id": "9f94c9c7",
   "metadata": {
    "execution": {
     "iopub.execute_input": "2022-03-29T17:53:55.853238Z",
     "iopub.status.busy": "2022-03-29T17:53:55.852486Z",
     "iopub.status.idle": "2022-03-29T17:53:55.858897Z",
     "shell.execute_reply": "2022-03-29T17:53:55.859527Z",
     "shell.execute_reply.started": "2022-03-29T16:56:49.869183Z"
    },
    "papermill": {
     "duration": 0.033457,
     "end_time": "2022-03-29T17:53:55.859691",
     "exception": false,
     "start_time": "2022-03-29T17:53:55.826234",
     "status": "completed"
    },
    "tags": []
   },
   "outputs": [],
   "source": [
    "# Helper functions to load data into gpu if available\n",
    "\n",
    "def get_default_device():\n",
    "  #Pick GPU if available, else CPU\n",
    "  if torch.cuda.is_available():\n",
    "    return torch.device('cuda')\n",
    "  else:\n",
    "    return torch.device('cpu')\n",
    "\n",
    "def to_device(data, device):\n",
    "  #Move tensor(s) to chosen device\n",
    "    if isinstance(data, (list,tuple)):\n",
    "        return [to_device(x, device) for x in data]\n",
    "    return data.to(device, non_blocking=True)\n",
    "\n",
    "class DeviceDataLoader():\n",
    "    #Wrap a dataloader to move data to a device\n",
    "    def __init__(self, dl, device):\n",
    "        self.dl = dl\n",
    "        self.device = device\n",
    "      \n",
    "    def __iter__(self):\n",
    "    #Yield a batch of data after moving it to device\n",
    "        for b in self.dl: \n",
    "            yield to_device(b, self.device)\n",
    "\n",
    "    def __len__(self):\n",
    "    #Number of batches\n",
    "        return len(self.dl)"
   ]
  },
  {
   "cell_type": "code",
   "execution_count": 4,
   "id": "b4b39e31",
   "metadata": {
    "execution": {
     "iopub.execute_input": "2022-03-29T17:53:55.910228Z",
     "iopub.status.busy": "2022-03-29T17:53:55.909470Z",
     "iopub.status.idle": "2022-03-29T17:54:02.829934Z",
     "shell.execute_reply": "2022-03-29T17:54:02.830636Z",
     "shell.execute_reply.started": "2022-03-29T16:56:49.878987Z"
    },
    "papermill": {
     "duration": 6.951896,
     "end_time": "2022-03-29T17:54:02.830792",
     "exception": false,
     "start_time": "2022-03-29T17:53:55.878896",
     "status": "completed"
    },
    "tags": []
   },
   "outputs": [
    {
     "name": "stdout",
     "output_type": "stream",
     "text": [
      "Downloading https://www.cs.toronto.edu/~kriz/cifar-10-python.tar.gz to data/cifar-10-python.tar.gz\n"
     ]
    },
    {
     "data": {
      "application/vnd.jupyter.widget-view+json": {
       "model_id": "2686307e6fa54455920e9c4dd59ff5f9",
       "version_major": 2,
       "version_minor": 0
      },
      "text/plain": [
       "  0%|          | 0/170498071 [00:00<?, ?it/s]"
      ]
     },
     "metadata": {},
     "output_type": "display_data"
    },
    {
     "name": "stdout",
     "output_type": "stream",
     "text": [
      "Extracting data/cifar-10-python.tar.gz to data/\n"
     ]
    },
    {
     "name": "stderr",
     "output_type": "stream",
     "text": [
      "/opt/conda/lib/python3.7/site-packages/torch/utils/data/dataloader.py:481: UserWarning: This DataLoader will create 4 worker processes in total. Our suggested max number of worker in current system is 2, which is smaller than what this DataLoader is going to create. Please be aware that excessive worker creation might get DataLoader running slow or even freeze, lower the worker number to avoid potential slowness/freeze if necessary.\n",
      "  cpuset_checked))\n"
     ]
    },
    {
     "name": "stdout",
     "output_type": "stream",
     "text": [
      "Files already downloaded and verified\n",
      "cuda\n"
     ]
    }
   ],
   "source": [
    "#Loading Dataset\n",
    "transform = Compose(\n",
    "    [ToTensor(),\n",
    "     Normalize((0.5, 0.5, 0.5), (0.5, 0.5, 0.5))])\n",
    "\n",
    "batch_size = 64\n",
    "\n",
    "dataset = CIFAR10(root='data/', train=True,download=True, transform=transform)\n",
    "\n",
    "val_size = 8000\n",
    "train_size = len(dataset) - val_size\n",
    "trainset, valset = random_split(dataset, [train_size, val_size])\n",
    "trainloader = DataLoader(trainset, batch_size=batch_size,shuffle=True, num_workers=4, pin_memory = True)\n",
    "valloader = DataLoader(valset, batch_size=batch_size, num_workers=4, pin_memory=True)\n",
    "\n",
    "testset = CIFAR10(root='data/', train=False,download=True, transform=transform)\n",
    "testloader = DataLoader(testset, batch_size=batch_size,shuffle=False, num_workers=4, pin_memory = True)\n",
    "\n",
    "classes = ('plane', 'car', 'bird', 'cat', 'deer', 'dog', 'frog', 'horse', 'ship', 'truck')\n",
    "\n",
    "device = get_default_device()\n",
    "print(device)"
   ]
  },
  {
   "cell_type": "code",
   "execution_count": 5,
   "id": "06d1b385",
   "metadata": {
    "execution": {
     "iopub.execute_input": "2022-03-29T17:54:02.868420Z",
     "iopub.status.busy": "2022-03-29T17:54:02.867847Z",
     "iopub.status.idle": "2022-03-29T17:54:06.294099Z",
     "shell.execute_reply": "2022-03-29T17:54:06.293671Z",
     "shell.execute_reply.started": "2022-03-29T16:56:51.467468Z"
    },
    "papermill": {
     "duration": 3.448584,
     "end_time": "2022-03-29T17:54:06.294218",
     "exception": false,
     "start_time": "2022-03-29T17:54:02.845634",
     "status": "completed"
    },
    "tags": []
   },
   "outputs": [
    {
     "data": {
      "image/png": "[encoded data removed]",
      "text/plain": [
       "<Figure size 432x288 with 1 Axes>"
      ]
     },
     "metadata": {
      "needs_background": "light"
     },
     "output_type": "display_data"
    },
    {
     "name": "stdout",
     "output_type": "stream",
     "text": [
      "bird  dog   truck deer  horse deer  truck cat   ship  truck car   ship  deer  truck ship  cat   ship  cat   truck plane truck horse deer  frog  plane bird  cat   dog   horse plane plane ship  cat   ship  plane cat   ship  deer  plane horse deer  cat   dog   deer  bird  plane cat   car   car   dog   deer  cat   horse bird  dog   dog   dog   dog   truck cat   bird  dog   horse plane\n"
     ]
    }
   ],
   "source": [
    "#Showing few images in the loaded data\n",
    "def imshow(img):\n",
    "    img = img / 2 + 0.5  \n",
    "    npimg = img.numpy()\n",
    "    plt.imshow(np.transpose(npimg, (1, 2, 0)))\n",
    "    plt.show()\n",
    "\n",
    "dataiter = iter(trainloader)\n",
    "images, labels = dataiter.next()\n",
    "\n",
    "imshow(make_grid(images))\n",
    "print(' '.join(f'{classes[labels[j]]:5s}' for j in range(batch_size)))"
   ]
  },
  {
   "cell_type": "code",
   "execution_count": 6,
   "id": "496ef419",
   "metadata": {
    "execution": {
     "iopub.execute_input": "2022-03-29T17:54:06.338896Z",
     "iopub.status.busy": "2022-03-29T17:54:06.338120Z",
     "iopub.status.idle": "2022-03-29T17:54:06.369194Z",
     "shell.execute_reply": "2022-03-29T17:54:06.368764Z",
     "shell.execute_reply.started": "2022-03-29T16:56:52.021096Z"
    },
    "papermill": {
     "duration": 0.057464,
     "end_time": "2022-03-29T17:54:06.369298",
     "exception": false,
     "start_time": "2022-03-29T17:54:06.311834",
     "status": "completed"
    },
    "tags": []
   },
   "outputs": [
    {
     "data": {
      "text/plain": [
       "Net(\n",
       "  (conv1): Conv2d(3, 16, kernel_size=(3, 3), stride=(1, 1), padding=(1, 1))\n",
       "  (pool): MaxPool2d(kernel_size=2, stride=2, padding=0, dilation=1, ceil_mode=False)\n",
       "  (conv2): Conv2d(16, 32, kernel_size=(3, 3), stride=(1, 1), padding=(1, 1))\n",
       "  (conv3): Conv2d(32, 64, kernel_size=(3, 3), stride=(1, 1), padding=(1, 1))\n",
       "  (fc1): Linear(in_features=1024, out_features=512, bias=True)\n",
       "  (fc2): Linear(in_features=512, out_features=64, bias=True)\n",
       "  (fc3): Linear(in_features=64, out_features=10, bias=True)\n",
       "  (criterion): CrossEntropyLoss()\n",
       "  (dropout): Dropout(p=0.5, inplace=False)\n",
       ")"
      ]
     },
     "execution_count": 6,
     "metadata": {},
     "output_type": "execute_result"
    }
   ],
   "source": [
    "#CNN with 3 convolutional layers and 3 linear layers\n",
    "def accuracy(outputs, labels):\n",
    "  _, preds = torch.max(outputs, dim=1)\n",
    "  return torch.tensor(torch.sum(preds == labels).item() / len(preds))\n",
    "\n",
    "class Net(nn.Module):\n",
    "    def __init__(self):\n",
    "        super().__init__()\n",
    "        self.conv1 =  nn.Conv2d(3, 16, 3, padding=1)\n",
    "        self.pool = nn.MaxPool2d(2, 2)\n",
    "        self.conv2 = nn.Conv2d(16, 32, 3, padding=1)        \n",
    "        self.conv3 = nn.Conv2d(32, 64, 3, padding=1)        \n",
    "        self.fc1 = nn.Linear(64*4*4, 512)\n",
    "        self.fc2 = nn.Linear(512, 64)\n",
    "        self.fc3 =  nn.Linear(64, 10)\n",
    "        self.criterion = nn.CrossEntropyLoss()\n",
    "        self.dropout = nn.Dropout(p=.5)\n",
    "\n",
    "    def forward(self, x):\n",
    "        x = self.pool(F.sigmoid(self.conv1(x)))\n",
    "        x = self.pool(F.sigmoid(self.conv2(x)))\n",
    "        x = self.pool(F.sigmoid(self.conv3(x)))\n",
    "        x = torch.flatten(x, 1) # flatten all dimensions except batch\n",
    "        x = self.dropout(F.sigmoid(self.fc1(x)))\n",
    "        x = self.dropout(F.sigmoid(self.fc2(x)))\n",
    "        x = self.fc3(x)\n",
    "        return x\n",
    "    \n",
    "    def training_step(self, batch):\n",
    "        images, labels = batch \n",
    "        out = self(images)                  # Generate predictions\n",
    "        loss = self.criterion(out, labels) # Calculate loss\n",
    "        acc = accuracy(out, labels)           # Calculate accuracy\n",
    "        return loss, acc\n",
    "\n",
    "    def validation_step(self, batch):\n",
    "        images, labels = batch \n",
    "        out = self(images)                    # Generate predictions\n",
    "        loss = self.criterion(out, labels)   # Calculate loss\n",
    "        acc = accuracy(out, labels)           # Calculate accuracy\n",
    "        return {'val_loss': loss, 'val_acc': acc}\n",
    "\n",
    "    def validation_epoch_end(self, outputs):\n",
    "        batch_losses = [x['val_loss'] for x in outputs]\n",
    "        epoch_loss = torch.stack(batch_losses).mean()   # Combine losses\n",
    "        batch_accs = [x['val_acc'] for x in outputs]\n",
    "        epoch_acc = torch.stack(batch_accs).mean()      # Combine accuracies\n",
    "        return {'val_loss': epoch_loss.item(), 'val_acc': epoch_acc.item()}\n",
    "\n",
    "    def epoch_end(self, epoch, result):\n",
    "        print(\"Epoch [{}], Time taken :{:.4f}, train_loss : {:.4f}, train_acc: {:.4f}, val_loss: {:.4f}, val_acc: {:.4f}\".format(epoch, result['time'], result['train_loss'], result['train_acc'], result['val_loss'], result['val_acc']))\n",
    "\n",
    "net = Net()\n",
    "net.to(device)"
   ]
  },
  {
   "cell_type": "code",
   "execution_count": 7,
   "id": "a3ca2159",
   "metadata": {
    "execution": {
     "iopub.execute_input": "2022-03-29T17:54:06.415399Z",
     "iopub.status.busy": "2022-03-29T17:54:06.413794Z",
     "iopub.status.idle": "2022-03-29T17:54:06.415990Z",
     "shell.execute_reply": "2022-03-29T17:54:06.416416Z",
     "shell.execute_reply.started": "2022-03-29T16:56:52.055065Z"
    },
    "papermill": {
     "duration": 0.029512,
     "end_time": "2022-03-29T17:54:06.416541",
     "exception": false,
     "start_time": "2022-03-29T17:54:06.387029",
     "status": "completed"
    },
    "tags": []
   },
   "outputs": [],
   "source": [
    "def evaluate(model, val_loader):\n",
    "    outputs = [model.validation_step(to_device(batch,device)) for batch in val_loader]\n",
    "    return model.validation_epoch_end(outputs)\n",
    "\n",
    "def fit(epochs, model, train_loader, val_loader, lr=0.005,momentum = 0.9):\n",
    "    history = []\n",
    "    optimizer = optim.SGD(net.parameters(), lr=lr, momentum=momentum)\n",
    "    end = 0\n",
    "    for epoch in range(epochs):\n",
    "        # Training Phase \n",
    "        train_losses = []\n",
    "        train_accuracy = []\n",
    "        start = time.time()\n",
    "        for batch in tqdm(train_loader):\n",
    "            batch = to_device(batch, device)\n",
    "            loss,acc= model.training_step(batch)\n",
    "            train_losses.append(loss)\n",
    "            train_accuracy.append(acc)\n",
    "            loss.backward()\n",
    "            optimizer.step()\n",
    "            optimizer.zero_grad()\n",
    "        # Validation phase\n",
    "        result =  evaluate(model, val_loader)\n",
    "        result['train_loss'] = torch.stack(train_losses).mean().item()\n",
    "        result['train_acc'] = torch.stack(train_accuracy).mean().item()\n",
    "        end = time.time()\n",
    "        result['time'] = end - start\n",
    "        model.epoch_end(epoch, result)\n",
    "        history.append(result)\n",
    "    return history, end"
   ]
  },
  {
   "cell_type": "code",
   "execution_count": 8,
   "id": "202ccaff",
   "metadata": {
    "execution": {
     "iopub.execute_input": "2022-03-29T17:54:06.457216Z",
     "iopub.status.busy": "2022-03-29T17:54:06.456717Z",
     "iopub.status.idle": "2022-03-29T17:57:19.751527Z",
     "shell.execute_reply": "2022-03-29T17:57:19.751923Z",
     "shell.execute_reply.started": "2022-03-29T16:56:52.066613Z"
    },
    "papermill": {
     "duration": 193.317635,
     "end_time": "2022-03-29T17:57:19.752085",
     "exception": false,
     "start_time": "2022-03-29T17:54:06.434450",
     "status": "completed"
    },
    "tags": []
   },
   "outputs": [
    {
     "name": "stderr",
     "output_type": "stream",
     "text": [
      "  0%|          | 0/657 [00:00<?, ?it/s]/opt/conda/lib/python3.7/site-packages/torch/nn/functional.py:1805: UserWarning: nn.functional.sigmoid is deprecated. Use torch.sigmoid instead.\n",
      "  warnings.warn(\"nn.functional.sigmoid is deprecated. Use torch.sigmoid instead.\")\n",
      "100%|██████████| 657/657 [00:15<00:00, 41.76it/s]\n"
     ]
    },
    {
     "name": "stdout",
     "output_type": "stream",
     "text": [
      "Epoch [0], Time taken :17.7704, train_loss : 2.3168, train_acc: 0.0999, val_loss: 2.3063, val_acc: 0.0964\n"
     ]
    },
    {
     "name": "stderr",
     "output_type": "stream",
     "text": [
      "100%|██████████| 657/657 [00:11<00:00, 59.65it/s]\n"
     ]
    },
    {
     "name": "stdout",
     "output_type": "stream",
     "text": [
      "Epoch [1], Time taken :12.8233, train_loss : 2.3062, train_acc: 0.0978, val_loss: 2.3046, val_acc: 0.1009\n"
     ]
    },
    {
     "name": "stderr",
     "output_type": "stream",
     "text": [
      "100%|██████████| 657/657 [00:10<00:00, 62.88it/s]\n"
     ]
    },
    {
     "name": "stdout",
     "output_type": "stream",
     "text": [
      "Epoch [2], Time taken :12.3106, train_loss : 2.3040, train_acc: 0.1007, val_loss: 2.3044, val_acc: 0.1026\n"
     ]
    },
    {
     "name": "stderr",
     "output_type": "stream",
     "text": [
      "100%|██████████| 657/657 [00:10<00:00, 64.03it/s]\n"
     ]
    },
    {
     "name": "stdout",
     "output_type": "stream",
     "text": [
      "Epoch [3], Time taken :12.0262, train_loss : 2.3042, train_acc: 0.0979, val_loss: 2.3042, val_acc: 0.1019\n"
     ]
    },
    {
     "name": "stderr",
     "output_type": "stream",
     "text": [
      "100%|██████████| 657/657 [00:10<00:00, 59.75it/s]\n"
     ]
    },
    {
     "name": "stdout",
     "output_type": "stream",
     "text": [
      "Epoch [4], Time taken :13.3723, train_loss : 2.3036, train_acc: 0.0990, val_loss: 2.3042, val_acc: 0.0971\n"
     ]
    },
    {
     "name": "stderr",
     "output_type": "stream",
     "text": [
      "100%|██████████| 657/657 [00:10<00:00, 61.77it/s]\n"
     ]
    },
    {
     "name": "stdout",
     "output_type": "stream",
     "text": [
      "Epoch [5], Time taken :12.4076, train_loss : 2.3035, train_acc: 0.1004, val_loss: 2.3036, val_acc: 0.0964\n"
     ]
    },
    {
     "name": "stderr",
     "output_type": "stream",
     "text": [
      "100%|██████████| 657/657 [00:10<00:00, 61.18it/s]\n"
     ]
    },
    {
     "name": "stdout",
     "output_type": "stream",
     "text": [
      "Epoch [6], Time taken :12.4736, train_loss : 2.3032, train_acc: 0.1009, val_loss: 2.3032, val_acc: 0.0978\n"
     ]
    },
    {
     "name": "stderr",
     "output_type": "stream",
     "text": [
      "100%|██████████| 657/657 [00:10<00:00, 61.30it/s]\n"
     ]
    },
    {
     "name": "stdout",
     "output_type": "stream",
     "text": [
      "Epoch [7], Time taken :12.4494, train_loss : 2.3033, train_acc: 0.0987, val_loss: 2.3031, val_acc: 0.0959\n"
     ]
    },
    {
     "name": "stderr",
     "output_type": "stream",
     "text": [
      "100%|██████████| 657/657 [00:10<00:00, 64.70it/s]\n"
     ]
    },
    {
     "name": "stdout",
     "output_type": "stream",
     "text": [
      "Epoch [8], Time taken :12.0994, train_loss : 2.3031, train_acc: 0.1006, val_loss: 2.3034, val_acc: 0.0948\n"
     ]
    },
    {
     "name": "stderr",
     "output_type": "stream",
     "text": [
      "100%|██████████| 657/657 [00:11<00:00, 59.50it/s]\n"
     ]
    },
    {
     "name": "stdout",
     "output_type": "stream",
     "text": [
      "Epoch [9], Time taken :12.8027, train_loss : 2.3031, train_acc: 0.0992, val_loss: 2.3031, val_acc: 0.1053\n"
     ]
    },
    {
     "name": "stderr",
     "output_type": "stream",
     "text": [
      "100%|██████████| 657/657 [00:10<00:00, 61.58it/s]\n"
     ]
    },
    {
     "name": "stdout",
     "output_type": "stream",
     "text": [
      "Epoch [10], Time taken :12.4887, train_loss : 2.3032, train_acc: 0.0994, val_loss: 2.3033, val_acc: 0.0957\n"
     ]
    },
    {
     "name": "stderr",
     "output_type": "stream",
     "text": [
      "100%|██████████| 657/657 [00:09<00:00, 65.72it/s]\n"
     ]
    },
    {
     "name": "stdout",
     "output_type": "stream",
     "text": [
      "Epoch [11], Time taken :12.6453, train_loss : 2.3031, train_acc: 0.0999, val_loss: 2.3033, val_acc: 0.0974\n"
     ]
    },
    {
     "name": "stderr",
     "output_type": "stream",
     "text": [
      "100%|██████████| 657/657 [00:10<00:00, 63.62it/s]\n"
     ]
    },
    {
     "name": "stdout",
     "output_type": "stream",
     "text": [
      "Epoch [12], Time taken :12.3806, train_loss : 2.3030, train_acc: 0.1015, val_loss: 2.3030, val_acc: 0.0975\n"
     ]
    },
    {
     "name": "stderr",
     "output_type": "stream",
     "text": [
      "100%|██████████| 657/657 [00:10<00:00, 64.74it/s]\n"
     ]
    },
    {
     "name": "stdout",
     "output_type": "stream",
     "text": [
      "Epoch [13], Time taken :12.1966, train_loss : 2.3031, train_acc: 0.0983, val_loss: 2.3030, val_acc: 0.0999\n"
     ]
    },
    {
     "name": "stderr",
     "output_type": "stream",
     "text": [
      "100%|██████████| 657/657 [00:11<00:00, 59.23it/s]\n"
     ]
    },
    {
     "name": "stdout",
     "output_type": "stream",
     "text": [
      "Epoch [14], Time taken :12.8395, train_loss : 2.3032, train_acc: 0.0978, val_loss: 2.3027, val_acc: 0.1046\n",
      "Finished Training in 193.27531671524048secs\n"
     ]
    }
   ],
   "source": [
    "begin = time.time()\n",
    "history, end = fit(15, net, trainloader, valloader)\n",
    "print('Finished Training in '+ str(end-begin) + 'secs')"
   ]
  },
  {
   "cell_type": "code",
   "execution_count": 9,
   "id": "0ac373fa",
   "metadata": {
    "execution": {
     "iopub.execute_input": "2022-03-29T17:57:20.631192Z",
     "iopub.status.busy": "2022-03-29T17:57:20.630642Z",
     "iopub.status.idle": "2022-03-29T17:57:20.644048Z",
     "shell.execute_reply": "2022-03-29T17:57:20.643618Z",
     "shell.execute_reply.started": "2022-03-29T16:59:54.015166Z"
    },
    "papermill": {
     "duration": 0.457879,
     "end_time": "2022-03-29T17:57:20.644156",
     "exception": false,
     "start_time": "2022-03-29T17:57:20.186277",
     "status": "completed"
    },
    "tags": []
   },
   "outputs": [],
   "source": [
    "PATH = './cifar_net.pth'\n",
    "torch.save(net.state_dict(), PATH)"
   ]
  },
  {
   "cell_type": "code",
   "execution_count": 10,
   "id": "ca0a790a",
   "metadata": {
    "execution": {
     "iopub.execute_input": "2022-03-29T17:57:21.554108Z",
     "iopub.status.busy": "2022-03-29T17:57:21.543813Z",
     "iopub.status.idle": "2022-03-29T17:57:21.998667Z",
     "shell.execute_reply": "2022-03-29T17:57:21.997945Z",
     "shell.execute_reply.started": "2022-03-29T16:59:54.033620Z"
    },
    "papermill": {
     "duration": 0.916041,
     "end_time": "2022-03-29T17:57:21.998858",
     "exception": false,
     "start_time": "2022-03-29T17:57:21.082817",
     "status": "completed"
    },
    "tags": []
   },
   "outputs": [
    {
     "data": {
      "image/png": "[encoded data removed]",
      "text/plain": [
       "<Figure size 1440x432 with 2 Axes>"
      ]
     },
     "metadata": {
      "needs_background": "light"
     },
     "output_type": "display_data"
    },
    {
     "data": {
      "image/png": "[encoded data removed]",
      "text/plain": [
       "<Figure size 432x288 with 1 Axes>"
      ]
     },
     "metadata": {
      "needs_background": "light"
     },
     "output_type": "display_data"
    }
   ],
   "source": [
    "def plot_results(history):\n",
    "    val_accs = [x['val_acc'] for x in history]\n",
    "    train_accs = [x['train_acc'] for x in history]\n",
    "    val_losses = [x['val_loss'] for x in history]\n",
    "    train_losses = [x['train_loss'] for x in history] \n",
    "    time_taken = [x['time'] for x in history]\n",
    "    plt.figure(figsize=(20,6))\n",
    "    plt.subplots_adjust(wspace= 0.25, hspace= 0.25)\n",
    "    plt.subplot(131)\n",
    "    plt.plot(train_accs, '-r')\n",
    "    plt.plot(val_accs, '-b')\n",
    "    ax = plt.gca()\n",
    "    ax.set_xlabel('Epochs')\n",
    "    ax.set_ylabel('Accuracies')\n",
    "    plt.legend(['Training', 'Validation'])\n",
    "    plt.title('Accuracy vs. No. of epochs')\n",
    "    \n",
    "    plt.subplot(132)\n",
    "    plt.plot(train_losses, '-r')\n",
    "    plt.plot(val_losses, '-b')\n",
    "    ax = plt.gca()\n",
    "    ax.set_xlabel('Epochs')\n",
    "    ax.set_ylabel('Losses')\n",
    "    plt.legend(['Training', 'Validation'])\n",
    "    plt.title('Losses vs. No. of epochs')\n",
    "    plt.show()\n",
    "    \n",
    "    plt.subplot(1,3,3)\n",
    "    plt.plot(time_taken)\n",
    "    ax = plt.gca()\n",
    "    ax.set_xlabel('Epochs')\n",
    "    ax.set_ylabel('Time(s)')\n",
    "    plt.title('Time vs. Epoch')\n",
    "    plt.show()\n",
    "              \n",
    "plot_results(history)"
   ]
  },
  {
   "cell_type": "code",
   "execution_count": 11,
   "id": "593a2a69",
   "metadata": {
    "execution": {
     "iopub.execute_input": "2022-03-29T17:57:22.887860Z",
     "iopub.status.busy": "2022-03-29T17:57:22.887085Z",
     "iopub.status.idle": "2022-03-29T17:57:22.903587Z",
     "shell.execute_reply": "2022-03-29T17:57:22.903990Z",
     "shell.execute_reply.started": "2022-03-29T16:59:54.503285Z"
    },
    "papermill": {
     "duration": 0.462922,
     "end_time": "2022-03-29T17:57:22.904133",
     "exception": false,
     "start_time": "2022-03-29T17:57:22.441211",
     "status": "completed"
    },
    "tags": []
   },
   "outputs": [
    {
     "data": {
      "text/plain": [
       "Net(\n",
       "  (conv1): Conv2d(3, 16, kernel_size=(3, 3), stride=(1, 1), padding=(1, 1))\n",
       "  (pool): MaxPool2d(kernel_size=2, stride=2, padding=0, dilation=1, ceil_mode=False)\n",
       "  (conv2): Conv2d(16, 32, kernel_size=(3, 3), stride=(1, 1), padding=(1, 1))\n",
       "  (conv3): Conv2d(32, 64, kernel_size=(3, 3), stride=(1, 1), padding=(1, 1))\n",
       "  (fc1): Linear(in_features=1024, out_features=512, bias=True)\n",
       "  (fc2): Linear(in_features=512, out_features=64, bias=True)\n",
       "  (fc3): Linear(in_features=64, out_features=10, bias=True)\n",
       "  (criterion): CrossEntropyLoss()\n",
       "  (dropout): Dropout(p=0.5, inplace=False)\n",
       ")"
      ]
     },
     "execution_count": 11,
     "metadata": {},
     "output_type": "execute_result"
    }
   ],
   "source": [
    "net = Net()\n",
    "net.load_state_dict(torch.load(PATH))\n",
    "net.to(device)"
   ]
  },
  {
   "cell_type": "code",
   "execution_count": 12,
   "id": "f879e2a2",
   "metadata": {
    "execution": {
     "iopub.execute_input": "2022-03-29T17:57:23.804108Z",
     "iopub.status.busy": "2022-03-29T17:57:23.803458Z",
     "iopub.status.idle": "2022-03-29T17:57:26.944322Z",
     "shell.execute_reply": "2022-03-29T17:57:26.945511Z",
     "shell.execute_reply.started": "2022-03-29T16:59:54.524272Z"
    },
    "papermill": {
     "duration": 3.601935,
     "end_time": "2022-03-29T17:57:26.945700",
     "exception": false,
     "start_time": "2022-03-29T17:57:23.343765",
     "status": "completed"
    },
    "tags": []
   },
   "outputs": [
    {
     "name": "stdout",
     "output_type": "stream",
     "text": [
      "Accuracy of the network on the 10000 test images: 9 %\n"
     ]
    }
   ],
   "source": [
    "correct = 0\n",
    "total = 0\n",
    "with torch.no_grad():\n",
    "    for data in testloader:\n",
    "        data = to_device(data, device)\n",
    "        images, labels = data\n",
    "        outputs = net(images)\n",
    "        _, predicted = torch.max(outputs.data, 1)\n",
    "        total += labels.size(0)\n",
    "        correct += (predicted == labels).sum().item()\n",
    "\n",
    "print(f'Accuracy of the network on the 10000 test images: {100 * correct // total} %')"
   ]
  },
  {
   "cell_type": "code",
   "execution_count": 13,
   "id": "90ba2a17",
   "metadata": {
    "execution": {
     "iopub.execute_input": "2022-03-29T17:57:27.834745Z",
     "iopub.status.busy": "2022-03-29T17:57:27.833036Z",
     "iopub.status.idle": "2022-03-29T17:57:30.365880Z",
     "shell.execute_reply": "2022-03-29T17:57:30.365220Z",
     "shell.execute_reply.started": "2022-03-29T16:59:57.703575Z"
    },
    "papermill": {
     "duration": 2.980104,
     "end_time": "2022-03-29T17:57:30.366048",
     "exception": false,
     "start_time": "2022-03-29T17:57:27.385944",
     "status": "completed"
    },
    "tags": []
   },
   "outputs": [
    {
     "name": "stdout",
     "output_type": "stream",
     "text": [
      "Accuracy for class: plane is 0.0 %\n",
      "Accuracy for class: car   is 14.4 %\n",
      "Accuracy for class: bird  is 8.8 %\n",
      "Accuracy for class: cat   is 0.6 %\n",
      "Accuracy for class: deer  is 10.3 %\n",
      "Accuracy for class: dog   is 3.5 %\n",
      "Accuracy for class: frog  is 43.5 %\n",
      "Accuracy for class: horse is 5.1 %\n",
      "Accuracy for class: ship  is 9.2 %\n",
      "Accuracy for class: truck is 4.3 %\n"
     ]
    }
   ],
   "source": [
    "correct_pred = {classname: 0 for classname in classes}\n",
    "total_pred = {classname: 0 for classname in classes}\n",
    "\n",
    "with torch.no_grad():\n",
    "    for data in testloader:\n",
    "        data = to_device(data, device)\n",
    "        images, labels = data\n",
    "        outputs = net(images)\n",
    "        _, predictions = torch.max(outputs, 1)\n",
    "        for label, prediction in zip(labels, predictions):\n",
    "            if label == prediction:\n",
    "                correct_pred[classes[label]] += 1\n",
    "            total_pred[classes[label]] += 1\n",
    "\n",
    "for classname, correct_count in correct_pred.items():\n",
    "    accuracy = 100 * float(correct_count) / total_pred[classname]\n",
    "    print(f'Accuracy for class: {classname:5s} is {accuracy:.1f} %')"
   ]
  }
 ],
 "metadata": {
  "kernelspec": {
   "display_name": "Python 3",
   "language": "python",
   "name": "python3"
  },
  "language_info": {
   "codemirror_mode": {
    "name": "ipython",
    "version": 3
   },
   "file_extension": ".py",
   "mimetype": "text/x-python",
   "name": "python",
   "nbconvert_exporter": "python",
   "pygments_lexer": "ipython3",
   "version": "3.7.12"
  },
  "papermill": {
   "default_parameters": {},
   "duration": 226.283333,
   "end_time": "2022-03-29T17:57:32.224021",
   "environment_variables": {},
   "exception": null,
   "input_path": "__notebook__.ipynb",
   "output_path": "__notebook__.ipynb",
   "parameters": {},
   "start_time": "2022-03-29T17:53:45.940688",
   "version": "2.3.3"
  },
  "widgets": {
   "application/vnd.jupyter.widget-state+json": {
    "state": {
     "135c8a39763d4b9d80d2693bc6a92620": {
      "model_module": "@jupyter-widgets/base",
      "model_module_version": "1.2.0",
      "model_name": "LayoutModel",
      "state": {
       "_model_module": "@jupyter-widgets/base",
       "_model_module_version": "1.2.0",
       "_model_name": "LayoutModel",
       "_view_count": null,
       "_view_module": "@jupyter-widgets/base",
       "_view_module_version": "1.2.0",
       "_view_name": "LayoutView",
       "align_content": null,
       "align_items": null,
       "align_self": null,
       "border": null,
       "bottom": null,
       "display": null,
       "flex": null,
       "flex_flow": null,
       "grid_area": null,
       "grid_auto_columns": null,
       "grid_auto_flow": null,
       "grid_auto_rows": null,
       "grid_column": null,
       "grid_gap": null,
       "grid_row": null,
       "grid_template_areas": null,
       "grid_template_columns": null,
       "grid_template_rows": null,
       "height": null,
       "justify_content": null,
       "justify_items": null,
       "left": null,
       "margin": null,
       "max_height": null,
       "max_width": null,
       "min_height": null,
       "min_width": null,
       "object_fit": null,
       "object_position": null,
       "order": null,
       "overflow": null,
       "overflow_x": null,
       "overflow_y": null,
       "padding": null,
       "right": null,
       "top": null,
       "visibility": null,
       "width": null
      }
     },
     "2686307e6fa54455920e9c4dd59ff5f9": {
      "model_module": "@jupyter-widgets/controls",
      "model_module_version": "1.5.0",
      "model_name": "HBoxModel",
      "state": {
       "_dom_classes": [],
       "_model_module": "@jupyter-widgets/controls",
       "_model_module_version": "1.5.0",
       "_model_name": "HBoxModel",
       "_view_count": null,
       "_view_module": "@jupyter-widgets/controls",
       "_view_module_version": "1.5.0",
       "_view_name": "HBoxView",
       "box_style": "",
       "children": [
        "IPY_MODEL_2a5c87fb9a7c4bb8a142680a48fb4298",
        "IPY_MODEL_5f63a8a941094dc194a5d746adb61e3c",
        "IPY_MODEL_661446b099cf4e35bf4866014e405d91"
       ],
       "layout": "IPY_MODEL_81fc1ffbec60485494521309d69e8509"
      }
     },
     "2a5c87fb9a7c4bb8a142680a48fb4298": {
      "model_module": "@jupyter-widgets/controls",
      "model_module_version": "1.5.0",
      "model_name": "HTMLModel",
      "state": {
       "_dom_classes": [],
       "_model_module": "@jupyter-widgets/controls",
       "_model_module_version": "1.5.0",
       "_model_name": "HTMLModel",
       "_view_count": null,
       "_view_module": "@jupyter-widgets/controls",
       "_view_module_version": "1.5.0",
       "_view_name": "HTMLView",
       "description": "",
       "description_tooltip": null,
       "layout": "IPY_MODEL_837f6755b15f4bb4a80d3a7342a568d3",
       "placeholder": "​",
       "style": "IPY_MODEL_c2f24c11ed45409180a5b4261e2ae8cf",
       "value": ""
      }
     },
     "5f63a8a941094dc194a5d746adb61e3c": {
      "model_module": "@jupyter-widgets/controls",
      "model_module_version": "1.5.0",
      "model_name": "FloatProgressModel",
      "state": {
       "_dom_classes": [],
       "_model_module": "@jupyter-widgets/controls",
       "_model_module_version": "1.5.0",
       "_model_name": "FloatProgressModel",
       "_view_count": null,
       "_view_module": "@jupyter-widgets/controls",
       "_view_module_version": "1.5.0",
       "_view_name": "ProgressView",
       "bar_style": "success",
       "description": "",
       "description_tooltip": null,
       "layout": "IPY_MODEL_135c8a39763d4b9d80d2693bc6a92620",
       "max": 170498071,
       "min": 0,
       "orientation": "horizontal",
       "style": "IPY_MODEL_723d39dac58c4b6e95706ad88abb32d1",
       "value": 170498071
      }
     },
     "661446b099cf4e35bf4866014e405d91": {
      "model_module": "@jupyter-widgets/controls",
      "model_module_version": "1.5.0",
      "model_name": "HTMLModel",
      "state": {
       "_dom_classes": [],
       "_model_module": "@jupyter-widgets/controls",
       "_model_module_version": "1.5.0",
       "_model_name": "HTMLModel",
       "_view_count": null,
       "_view_module": "@jupyter-widgets/controls",
       "_view_module_version": "1.5.0",
       "_view_name": "HTMLView",
       "description": "",
       "description_tooltip": null,
       "layout": "IPY_MODEL_f61382c819e844cc83ffeadb05fe2ccd",
       "placeholder": "​",
       "style": "IPY_MODEL_c0a5368d1cb94c4785a98d9e37cb10fb",
       "value": " 170499072/? [00:03&lt;00:00, 82026082.67it/s]"
      }
     },
     "723d39dac58c4b6e95706ad88abb32d1": {
      "model_module": "@jupyter-widgets/controls",
      "model_module_version": "1.5.0",
      "model_name": "ProgressStyleModel",
      "state": {
       "_model_module": "@jupyter-widgets/controls",
       "_model_module_version": "1.5.0",
       "_model_name": "ProgressStyleModel",
       "_view_count": null,
       "_view_module": "@jupyter-widgets/base",
       "_view_module_version": "1.2.0",
       "_view_name": "StyleView",
       "bar_color": null,
       "description_width": ""
      }
     },
     "81fc1ffbec60485494521309d69e8509": {
      "model_module": "@jupyter-widgets/base",
      "model_module_version": "1.2.0",
      "model_name": "LayoutModel",
      "state": {
       "_model_module": "@jupyter-widgets/base",
       "_model_module_version": "1.2.0",
       "_model_name": "LayoutModel",
       "_view_count": null,
       "_view_module": "@jupyter-widgets/base",
       "_view_module_version": "1.2.0",
       "_view_name": "LayoutView",
       "align_content": null,
       "align_items": null,
       "align_self": null,
       "border": null,
       "bottom": null,
       "display": null,
       "flex": null,
       "flex_flow": null,
       "grid_area": null,
       "grid_auto_columns": null,
       "grid_auto_flow": null,
       "grid_auto_rows": null,
       "grid_column": null,
       "grid_gap": null,
       "grid_row": null,
       "grid_template_areas": null,
       "grid_template_columns": null,
       "grid_template_rows": null,
       "height": null,
       "justify_content": null,
       "justify_items": null,
       "left": null,
       "margin": null,
       "max_height": null,
       "max_width": null,
       "min_height": null,
       "min_width": null,
       "object_fit": null,
       "object_position": null,
       "order": null,
       "overflow": null,
       "overflow_x": null,
       "overflow_y": null,
       "padding": null,
       "right": null,
       "top": null,
       "visibility": null,
       "width": null
      }
     },
     "837f6755b15f4bb4a80d3a7342a568d3": {
      "model_module": "@jupyter-widgets/base",
      "model_module_version": "1.2.0",
      "model_name": "LayoutModel",
      "state": {
       "_model_module": "@jupyter-widgets/base",
       "_model_module_version": "1.2.0",
       "_model_name": "LayoutModel",
       "_view_count": null,
       "_view_module": "@jupyter-widgets/base",
       "_view_module_version": "1.2.0",
       "_view_name": "LayoutView",
       "align_content": null,
       "align_items": null,
       "align_self": null,
       "border": null,
       "bottom": null,
       "display": null,
       "flex": null,
       "flex_flow": null,
       "grid_area": null,
       "grid_auto_columns": null,
       "grid_auto_flow": null,
       "grid_auto_rows": null,
       "grid_column": null,
       "grid_gap": null,
       "grid_row": null,
       "grid_template_areas": null,
       "grid_template_columns": null,
       "grid_template_rows": null,
       "height": null,
       "justify_content": null,
       "justify_items": null,
       "left": null,
       "margin": null,
       "max_height": null,
       "max_width": null,
       "min_height": null,
       "min_width": null,
       "object_fit": null,
       "object_position": null,
       "order": null,
       "overflow": null,
       "overflow_x": null,
       "overflow_y": null,
       "padding": null,
       "right": null,
       "top": null,
       "visibility": null,
       "width": null
      }
     },
     "c0a5368d1cb94c4785a98d9e37cb10fb": {
      "model_module": "@jupyter-widgets/controls",
      "model_module_version": "1.5.0",
      "model_name": "DescriptionStyleModel",
      "state": {
       "_model_module": "@jupyter-widgets/controls",
       "_model_module_version": "1.5.0",
       "_model_name": "DescriptionStyleModel",
       "_view_count": null,
       "_view_module": "@jupyter-widgets/base",
       "_view_module_version": "1.2.0",
       "_view_name": "StyleView",
       "description_width": ""
      }
     },
     "c2f24c11ed45409180a5b4261e2ae8cf": {
      "model_module": "@jupyter-widgets/controls",
      "model_module_version": "1.5.0",
      "model_name": "DescriptionStyleModel",
      "state": {
       "_model_module": "@jupyter-widgets/controls",
       "_model_module_version": "1.5.0",
       "_model_name": "DescriptionStyleModel",
       "_view_count": null,
       "_view_module": "@jupyter-widgets/base",
       "_view_module_version": "1.2.0",
       "_view_name": "StyleView",
       "description_width": ""
      }
     },
     "f61382c819e844cc83ffeadb05fe2ccd": {
      "model_module": "@jupyter-widgets/base",
      "model_module_version": "1.2.0",
      "model_name": "LayoutModel",
      "state": {
       "_model_module": "@jupyter-widgets/base",
       "_model_module_version": "1.2.0",
       "_model_name": "LayoutModel",
       "_view_count": null,
       "_view_module": "@jupyter-widgets/base",
       "_view_module_version": "1.2.0",
       "_view_name": "LayoutView",
       "align_content": null,
       "align_items": null,
       "align_self": null,
       "border": null,
       "bottom": null,
       "display": null,
       "flex": null,
       "flex_flow": null,
       "grid_area": null,
       "grid_auto_columns": null,
       "grid_auto_flow": null,
       "grid_auto_rows": null,
       "grid_column": null,
       "grid_gap": null,
       "grid_row": null,
       "grid_template_areas": null,
       "grid_template_columns": null,
       "grid_template_rows": null,
       "height": null,
       "justify_content": null,
       "justify_items": null,
       "left": null,
       "margin": null,
       "max_height": null,
       "max_width": null,
       "min_height": null,
       "min_width": null,
       "object_fit": null,
       "object_position": null,
       "order": null,
       "overflow": null,
       "overflow_x": null,
       "overflow_y": null,
       "padding": null,
       "right": null,
       "top": null,
       "visibility": null,
       "width": null
      }
     }
    },
    "version_major": 2,
    "version_minor": 0
   }
  }
 },
 "nbformat": 4,
 "nbformat_minor": 5
}
