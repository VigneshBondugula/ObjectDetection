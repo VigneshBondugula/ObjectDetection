{
 "cells": [
  {
   "cell_type": "code",
   "execution_count": 1,
   "id": "8480012b",
   "metadata": {
    "execution": {
     "iopub.execute_input": "2022-03-29T16:21:18.244841Z",
     "iopub.status.busy": "2022-03-29T16:21:18.243355Z",
     "iopub.status.idle": "2022-03-29T16:21:19.838831Z",
     "shell.execute_reply": "2022-03-29T16:21:19.839488Z",
     "shell.execute_reply.started": "2022-03-29T16:15:25.165816Z"
    },
    "papermill": {
     "duration": 1.613372,
     "end_time": "2022-03-29T16:21:19.839853",
     "exception": false,
     "start_time": "2022-03-29T16:21:18.226481",
     "status": "completed"
    },
    "tags": []
   },
   "outputs": [],
   "source": [
    "%matplotlib inline\n",
    "import torch\n",
    "import numpy as np\n",
    "import matplotlib.pyplot as plt\n",
    "import torch.nn as nn\n",
    "import torch.nn.functional as F\n",
    "from torchvision.datasets import CIFAR10\n",
    "from torchvision.transforms import ToTensor, Compose, Normalize\n",
    "from torch.utils.data.dataloader import DataLoader\n",
    "from torch.utils.data import random_split\n",
    "from torchvision.utils import make_grid\n",
    "import time\n",
    "import torch.optim as optim\n",
    "from tqdm import tqdm\n",
    "from torch.optim import lr_scheduler"
   ]
  },
  {
   "cell_type": "code",
   "execution_count": 2,
   "id": "d3ae8736",
   "metadata": {
    "execution": {
     "iopub.execute_input": "2022-03-29T16:21:19.895460Z",
     "iopub.status.busy": "2022-03-29T16:21:19.894702Z",
     "iopub.status.idle": "2022-03-29T16:21:19.905137Z",
     "shell.execute_reply": "2022-03-29T16:21:19.905971Z",
     "shell.execute_reply.started": "2022-03-29T16:15:25.212132Z"
    },
    "papermill": {
     "duration": 0.042222,
     "end_time": "2022-03-29T16:21:19.906143",
     "exception": false,
     "start_time": "2022-03-29T16:21:19.863921",
     "status": "completed"
    },
    "tags": []
   },
   "outputs": [],
   "source": [
    "#Allow autofill on kaggle\n",
    "%config Completer.use_jedi = False"
   ]
  },
  {
   "cell_type": "code",
   "execution_count": 3,
   "id": "51d3e2b9",
   "metadata": {
    "execution": {
     "iopub.execute_input": "2022-03-29T16:21:19.958610Z",
     "iopub.status.busy": "2022-03-29T16:21:19.957839Z",
     "iopub.status.idle": "2022-03-29T16:21:19.961676Z",
     "shell.execute_reply": "2022-03-29T16:21:19.962248Z",
     "shell.execute_reply.started": "2022-03-29T16:15:25.250106Z"
    },
    "papermill": {
     "duration": 0.034991,
     "end_time": "2022-03-29T16:21:19.962432",
     "exception": false,
     "start_time": "2022-03-29T16:21:19.927441",
     "status": "completed"
    },
    "tags": []
   },
   "outputs": [],
   "source": [
    "# Helper functions to load data into gpu if available\n",
    "\n",
    "def get_default_device():\n",
    "  #Pick GPU if available, else CPU\n",
    "  if torch.cuda.is_available():\n",
    "    return torch.device('cuda')\n",
    "  else:\n",
    "    return torch.device('cpu')\n",
    "\n",
    "def to_device(data, device):\n",
    "  #Move tensor(s) to chosen device\n",
    "    if isinstance(data, (list,tuple)):\n",
    "        return [to_device(x, device) for x in data]\n",
    "    return data.to(device, non_blocking=True)\n",
    "\n",
    "class DeviceDataLoader():\n",
    "    #Wrap a dataloader to move data to a device\n",
    "    def __init__(self, dl, device):\n",
    "        self.dl = dl\n",
    "        self.device = device\n",
    "      \n",
    "    def __iter__(self):\n",
    "    #Yield a batch of data after moving it to device\n",
    "        for b in self.dl: \n",
    "            yield to_device(b, self.device)\n",
    "\n",
    "    def __len__(self):\n",
    "    #Number of batches\n",
    "        return len(self.dl)"
   ]
  },
  {
   "cell_type": "code",
   "execution_count": 4,
   "id": "fa25380a",
   "metadata": {
    "execution": {
     "iopub.execute_input": "2022-03-29T16:21:20.015983Z",
     "iopub.status.busy": "2022-03-29T16:21:20.015201Z",
     "iopub.status.idle": "2022-03-29T16:21:26.765467Z",
     "shell.execute_reply": "2022-03-29T16:21:26.766348Z",
     "shell.execute_reply.started": "2022-03-29T16:15:25.284876Z"
    },
    "papermill": {
     "duration": 6.784811,
     "end_time": "2022-03-29T16:21:26.766564",
     "exception": false,
     "start_time": "2022-03-29T16:21:19.981753",
     "status": "completed"
    },
    "tags": []
   },
   "outputs": [
    {
     "name": "stdout",
     "output_type": "stream",
     "text": [
      "Downloading https://www.cs.toronto.edu/~kriz/cifar-10-python.tar.gz to data/cifar-10-python.tar.gz\n"
     ]
    },
    {
     "data": {
      "application/vnd.jupyter.widget-view+json": {
       "model_id": "818acc13ebe940adbf85acc02513707f",
       "version_major": 2,
       "version_minor": 0
      },
      "text/plain": [
       "  0%|          | 0/170498071 [00:00<?, ?it/s]"
      ]
     },
     "metadata": {},
     "output_type": "display_data"
    },
    {
     "name": "stdout",
     "output_type": "stream",
     "text": [
      "Extracting data/cifar-10-python.tar.gz to data/\n"
     ]
    },
    {
     "name": "stderr",
     "output_type": "stream",
     "text": [
      "/opt/conda/lib/python3.7/site-packages/torch/utils/data/dataloader.py:481: UserWarning: This DataLoader will create 4 worker processes in total. Our suggested max number of worker in current system is 2, which is smaller than what this DataLoader is going to create. Please be aware that excessive worker creation might get DataLoader running slow or even freeze, lower the worker number to avoid potential slowness/freeze if necessary.\n",
      "  cpuset_checked))\n"
     ]
    },
    {
     "name": "stdout",
     "output_type": "stream",
     "text": [
      "Files already downloaded and verified\n",
      "cuda\n"
     ]
    }
   ],
   "source": [
    "#Loading Dataset\n",
    "transform = Compose(\n",
    "    [ToTensor(),\n",
    "     Normalize((0.5, 0.5, 0.5), (0.5, 0.5, 0.5))])\n",
    "\n",
    "batch_size = 64\n",
    "\n",
    "dataset = CIFAR10(root='data/', train=True,download=True, transform=transform)\n",
    "\n",
    "val_size = 8000\n",
    "train_size = len(dataset) - val_size\n",
    "trainset, valset = random_split(dataset, [train_size, val_size])\n",
    "trainloader = DataLoader(trainset, batch_size=batch_size,shuffle=True, num_workers=4, pin_memory = True)\n",
    "valloader = DataLoader(valset, batch_size=batch_size, num_workers=4, pin_memory=True)\n",
    "\n",
    "testset = CIFAR10(root='data/', train=False,download=True, transform=transform)\n",
    "testloader = DataLoader(testset, batch_size=batch_size,shuffle=False, num_workers=4, pin_memory = True)\n",
    "\n",
    "classes = ('plane', 'car', 'bird', 'cat', 'deer', 'dog', 'frog', 'horse', 'ship', 'truck')\n",
    "\n",
    "device = get_default_device()\n",
    "print(device)"
   ]
  },
  {
   "cell_type": "code",
   "execution_count": 5,
   "id": "847e5c19",
   "metadata": {
    "execution": {
     "iopub.execute_input": "2022-03-29T16:21:26.804791Z",
     "iopub.status.busy": "2022-03-29T16:21:26.804203Z",
     "iopub.status.idle": "2022-03-29T16:21:30.209257Z",
     "shell.execute_reply": "2022-03-29T16:21:30.209682Z",
     "shell.execute_reply.started": "2022-03-29T16:15:26.875645Z"
    },
    "papermill": {
     "duration": 3.427725,
     "end_time": "2022-03-29T16:21:30.209842",
     "exception": false,
     "start_time": "2022-03-29T16:21:26.782117",
     "status": "completed"
    },
    "tags": []
   },
   "outputs": [
    {
     "data": {
      "image/png": "[encoded data removed]",
      "text/plain": [
       "<Figure size 432x288 with 1 Axes>"
      ]
     },
     "metadata": {
      "needs_background": "light"
     },
     "output_type": "display_data"
    },
    {
     "name": "stdout",
     "output_type": "stream",
     "text": [
      "cat   plane plane plane deer  deer  car   deer  deer  horse deer  ship  cat   truck car   plane plane car   bird  dog   plane cat   frog  ship  ship  truck horse car   horse car   bird  bird  truck dog   dog   truck dog   dog   ship  truck ship  truck dog   cat   truck horse ship  deer  horse dog   car   horse horse truck horse horse car   truck frog  deer  truck car   frog  frog \n"
     ]
    }
   ],
   "source": [
    "#Showing few images in the loaded data\n",
    "def imshow(img):\n",
    "    img = img / 2 + 0.5  \n",
    "    npimg = img.numpy()\n",
    "    plt.imshow(np.transpose(npimg, (1, 2, 0)))\n",
    "    plt.show()\n",
    "\n",
    "dataiter = iter(trainloader)\n",
    "images, labels = dataiter.next()\n",
    "\n",
    "imshow(make_grid(images))\n",
    "print(' '.join(f'{classes[labels[j]]:5s}' for j in range(batch_size)))"
   ]
  },
  {
   "cell_type": "code",
   "execution_count": 6,
   "id": "1d81eae2",
   "metadata": {
    "execution": {
     "iopub.execute_input": "2022-03-29T16:21:30.262863Z",
     "iopub.status.busy": "2022-03-29T16:21:30.254049Z",
     "iopub.status.idle": "2022-03-29T16:21:30.285864Z",
     "shell.execute_reply": "2022-03-29T16:21:30.285442Z",
     "shell.execute_reply.started": "2022-03-29T16:15:27.343272Z"
    },
    "papermill": {
     "duration": 0.057762,
     "end_time": "2022-03-29T16:21:30.285975",
     "exception": false,
     "start_time": "2022-03-29T16:21:30.228213",
     "status": "completed"
    },
    "tags": []
   },
   "outputs": [
    {
     "data": {
      "text/plain": [
       "Net(\n",
       "  (conv1): Conv2d(3, 16, kernel_size=(3, 3), stride=(1, 1), padding=(1, 1))\n",
       "  (pool): MaxPool2d(kernel_size=2, stride=2, padding=0, dilation=1, ceil_mode=False)\n",
       "  (conv2): Conv2d(16, 32, kernel_size=(3, 3), stride=(1, 1), padding=(1, 1))\n",
       "  (conv3): Conv2d(32, 64, kernel_size=(3, 3), stride=(1, 1), padding=(1, 1))\n",
       "  (fc1): Linear(in_features=1024, out_features=512, bias=True)\n",
       "  (fc2): Linear(in_features=512, out_features=64, bias=True)\n",
       "  (fc3): Linear(in_features=64, out_features=10, bias=True)\n",
       "  (criterion): CrossEntropyLoss()\n",
       "  (dropout): Dropout(p=0.5, inplace=False)\n",
       ")"
      ]
     },
     "execution_count": 6,
     "metadata": {},
     "output_type": "execute_result"
    }
   ],
   "source": [
    "#CNN with 3 convolutional layers and 3 linear layers\n",
    "def accuracy(outputs, labels):\n",
    "  _, preds = torch.max(outputs, dim=1)\n",
    "  return torch.tensor(torch.sum(preds == labels).item() / len(preds))\n",
    "\n",
    "class Net(nn.Module):\n",
    "    def __init__(self):\n",
    "        super().__init__()\n",
    "        self.conv1 =  nn.Conv2d(3, 16, 3, padding=1)\n",
    "        self.pool = nn.MaxPool2d(2, 2)\n",
    "        self.conv2 = nn.Conv2d(16, 32, 3, padding=1)        \n",
    "        self.conv3 = nn.Conv2d(32, 64, 3, padding=1)        \n",
    "        self.fc1 = nn.Linear(64*4*4, 512)\n",
    "        self.fc2 = nn.Linear(512, 64)\n",
    "        self.fc3 =  nn.Linear(64, 10)\n",
    "        self.criterion = nn.CrossEntropyLoss()\n",
    "        self.dropout = nn.Dropout(p=.5)\n",
    "\n",
    "    def forward(self, x):\n",
    "        x = self.pool(F.relu(self.conv1(x)))\n",
    "        x = self.pool(F.relu(self.conv2(x)))\n",
    "        x = self.pool(F.relu(self.conv3(x)))\n",
    "        x = torch.flatten(x, 1) # flatten all dimensions except batch\n",
    "        x = self.dropout(F.relu(self.fc1(x)))\n",
    "        x = self.dropout(F.relu(self.fc2(x)))\n",
    "        x = self.fc3(x)\n",
    "        return x\n",
    "    \n",
    "    def training_step(self, batch):\n",
    "        images, labels = batch \n",
    "        out = self(images)                  # Generate predictions\n",
    "        loss = self.criterion(out, labels) # Calculate loss\n",
    "        acc = accuracy(out, labels)           # Calculate accuracy\n",
    "        return loss, acc\n",
    "\n",
    "    def validation_step(self, batch):\n",
    "        images, labels = batch \n",
    "        out = self(images)                    # Generate predictions\n",
    "        loss = self.criterion(out, labels)   # Calculate loss\n",
    "        acc = accuracy(out, labels)           # Calculate accuracy\n",
    "        return {'val_loss': loss, 'val_acc': acc}\n",
    "\n",
    "    def validation_epoch_end(self, outputs):\n",
    "        batch_losses = [x['val_loss'] for x in outputs]\n",
    "        epoch_loss = torch.stack(batch_losses).mean()   # Combine losses\n",
    "        batch_accs = [x['val_acc'] for x in outputs]\n",
    "        epoch_acc = torch.stack(batch_accs).mean()      # Combine accuracies\n",
    "        return {'val_loss': epoch_loss.item(), 'val_acc': epoch_acc.item()}\n",
    "\n",
    "    def epoch_end(self, epoch, result):\n",
    "        print(\"Epoch [{}], Time taken :{:.4f}, train_loss : {:.4f}, train_acc: {:.4f}, val_loss: {:.4f}, val_acc: {:.4f}\".format(epoch, result['time'], result['train_loss'], result['train_acc'], result['val_loss'], result['val_acc']))\n",
    "\n",
    "net = Net()\n",
    "net.to(device)"
   ]
  },
  {
   "cell_type": "code",
   "execution_count": 7,
   "id": "a736cf5f",
   "metadata": {
    "execution": {
     "iopub.execute_input": "2022-03-29T16:21:30.332299Z",
     "iopub.status.busy": "2022-03-29T16:21:30.331611Z",
     "iopub.status.idle": "2022-03-29T16:21:30.333660Z",
     "shell.execute_reply": "2022-03-29T16:21:30.334342Z",
     "shell.execute_reply.started": "2022-03-29T16:15:27.377251Z"
    },
    "papermill": {
     "duration": 0.030307,
     "end_time": "2022-03-29T16:21:30.334479",
     "exception": false,
     "start_time": "2022-03-29T16:21:30.304172",
     "status": "completed"
    },
    "tags": []
   },
   "outputs": [],
   "source": [
    "def evaluate(model, val_loader):\n",
    "    outputs = [model.validation_step(to_device(batch,device)) for batch in val_loader]\n",
    "    return model.validation_epoch_end(outputs)\n",
    "\n",
    "def fit(epochs, model, train_loader, val_loader, lr=0.01,momentum = 0.9):\n",
    "    history = []\n",
    "    lrs = []\n",
    "    optimizer = optim.SGD(net.parameters(), lr=lr, momentum=momentum)\n",
    "    end = 0\n",
    "    scheduler = lr_scheduler.StepLR(optimizer, step_size=7, gamma=0.1)\n",
    "    for epoch in range(epochs):\n",
    "        # Training Phase \n",
    "        train_losses = []\n",
    "        train_accuracy = []\n",
    "        start = time.time()\n",
    "        for batch in tqdm(train_loader):\n",
    "            batch = to_device(batch, device)\n",
    "            loss,acc= model.training_step(batch)\n",
    "            train_losses.append(loss)\n",
    "            train_accuracy.append(acc)\n",
    "            loss.backward()\n",
    "            optimizer.step()\n",
    "            optimizer.zero_grad()\n",
    "        # Validation phase\n",
    "        result =  evaluate(model, val_loader)\n",
    "        result['train_loss'] = torch.stack(train_losses).mean().item()\n",
    "        result['train_acc'] = torch.stack(train_accuracy).mean().item()\n",
    "        end = time.time()\n",
    "        result['time'] = end - start\n",
    "        model.epoch_end(epoch, result)\n",
    "        history.append(result)\n",
    "        lrs.append(scheduler.get_last_lr())\n",
    "        scheduler.step()\n",
    "    return history, end, lrs"
   ]
  },
  {
   "cell_type": "code",
   "execution_count": 8,
   "id": "d7ecdd14",
   "metadata": {
    "execution": {
     "iopub.execute_input": "2022-03-29T16:21:30.375016Z",
     "iopub.status.busy": "2022-03-29T16:21:30.374524Z",
     "iopub.status.idle": "2022-03-29T16:24:37.426418Z",
     "shell.execute_reply": "2022-03-29T16:24:37.427060Z",
     "shell.execute_reply.started": "2022-03-29T16:15:27.390291Z"
    },
    "papermill": {
     "duration": 187.075115,
     "end_time": "2022-03-29T16:24:37.427258",
     "exception": false,
     "start_time": "2022-03-29T16:21:30.352143",
     "status": "completed"
    },
    "tags": []
   },
   "outputs": [
    {
     "name": "stderr",
     "output_type": "stream",
     "text": [
      "100%|██████████| 657/657 [00:15<00:00, 41.29it/s]\n"
     ]
    },
    {
     "name": "stdout",
     "output_type": "stream",
     "text": [
      "Epoch [0], Time taken :17.8710, train_loss : 2.1111, train_acc: 0.2042, val_loss: 1.8621, val_acc: 0.3086\n"
     ]
    },
    {
     "name": "stderr",
     "output_type": "stream",
     "text": [
      "100%|██████████| 657/657 [00:10<00:00, 63.56it/s]\n"
     ]
    },
    {
     "name": "stdout",
     "output_type": "stream",
     "text": [
      "Epoch [1], Time taken :12.1493, train_loss : 1.6335, train_acc: 0.3942, val_loss: 1.5154, val_acc: 0.4375\n"
     ]
    },
    {
     "name": "stderr",
     "output_type": "stream",
     "text": [
      "100%|██████████| 657/657 [00:10<00:00, 65.53it/s]\n"
     ]
    },
    {
     "name": "stdout",
     "output_type": "stream",
     "text": [
      "Epoch [2], Time taken :11.7050, train_loss : 1.4200, train_acc: 0.4822, val_loss: 1.3465, val_acc: 0.5226\n"
     ]
    },
    {
     "name": "stderr",
     "output_type": "stream",
     "text": [
      "100%|██████████| 657/657 [00:10<00:00, 62.76it/s]\n"
     ]
    },
    {
     "name": "stdout",
     "output_type": "stream",
     "text": [
      "Epoch [3], Time taken :12.1737, train_loss : 1.2887, train_acc: 0.5413, val_loss: 1.2962, val_acc: 0.5434\n"
     ]
    },
    {
     "name": "stderr",
     "output_type": "stream",
     "text": [
      "100%|██████████| 657/657 [00:10<00:00, 63.62it/s]\n"
     ]
    },
    {
     "name": "stdout",
     "output_type": "stream",
     "text": [
      "Epoch [4], Time taken :12.0659, train_loss : 1.1631, train_acc: 0.5920, val_loss: 1.1419, val_acc: 0.6044\n"
     ]
    },
    {
     "name": "stderr",
     "output_type": "stream",
     "text": [
      "100%|██████████| 657/657 [00:10<00:00, 63.16it/s]\n"
     ]
    },
    {
     "name": "stdout",
     "output_type": "stream",
     "text": [
      "Epoch [5], Time taken :12.6142, train_loss : 1.0675, train_acc: 0.6301, val_loss: 1.0900, val_acc: 0.6267\n"
     ]
    },
    {
     "name": "stderr",
     "output_type": "stream",
     "text": [
      "100%|██████████| 657/657 [00:09<00:00, 68.35it/s]\n"
     ]
    },
    {
     "name": "stdout",
     "output_type": "stream",
     "text": [
      "Epoch [6], Time taken :11.8783, train_loss : 0.9975, train_acc: 0.6566, val_loss: 1.0410, val_acc: 0.6480\n"
     ]
    },
    {
     "name": "stderr",
     "output_type": "stream",
     "text": [
      "100%|██████████| 657/657 [00:10<00:00, 65.37it/s]\n"
     ]
    },
    {
     "name": "stdout",
     "output_type": "stream",
     "text": [
      "Epoch [7], Time taken :11.7601, train_loss : 0.8329, train_acc: 0.7125, val_loss: 0.9548, val_acc: 0.6801\n"
     ]
    },
    {
     "name": "stderr",
     "output_type": "stream",
     "text": [
      "100%|██████████| 657/657 [00:10<00:00, 62.95it/s]\n"
     ]
    },
    {
     "name": "stdout",
     "output_type": "stream",
     "text": [
      "Epoch [8], Time taken :12.1290, train_loss : 0.7943, train_acc: 0.7277, val_loss: 0.9542, val_acc: 0.6800\n"
     ]
    },
    {
     "name": "stderr",
     "output_type": "stream",
     "text": [
      "100%|██████████| 657/657 [00:10<00:00, 64.79it/s]\n"
     ]
    },
    {
     "name": "stdout",
     "output_type": "stream",
     "text": [
      "Epoch [9], Time taken :11.8322, train_loss : 0.7683, train_acc: 0.7366, val_loss: 0.9374, val_acc: 0.6862\n"
     ]
    },
    {
     "name": "stderr",
     "output_type": "stream",
     "text": [
      "100%|██████████| 657/657 [00:10<00:00, 64.34it/s]\n"
     ]
    },
    {
     "name": "stdout",
     "output_type": "stream",
     "text": [
      "Epoch [10], Time taken :12.1516, train_loss : 0.7523, train_acc: 0.7424, val_loss: 0.9436, val_acc: 0.6880\n"
     ]
    },
    {
     "name": "stderr",
     "output_type": "stream",
     "text": [
      "100%|██████████| 657/657 [00:10<00:00, 62.37it/s]\n"
     ]
    },
    {
     "name": "stdout",
     "output_type": "stream",
     "text": [
      "Epoch [11], Time taken :12.2292, train_loss : 0.7313, train_acc: 0.7491, val_loss: 0.9375, val_acc: 0.6904\n"
     ]
    },
    {
     "name": "stderr",
     "output_type": "stream",
     "text": [
      "100%|██████████| 657/657 [00:10<00:00, 64.28it/s]\n"
     ]
    },
    {
     "name": "stdout",
     "output_type": "stream",
     "text": [
      "Epoch [12], Time taken :11.9253, train_loss : 0.7186, train_acc: 0.7550, val_loss: 0.9282, val_acc: 0.6921\n"
     ]
    },
    {
     "name": "stderr",
     "output_type": "stream",
     "text": [
      "100%|██████████| 657/657 [00:10<00:00, 61.87it/s]\n"
     ]
    },
    {
     "name": "stdout",
     "output_type": "stream",
     "text": [
      "Epoch [13], Time taken :12.3257, train_loss : 0.7034, train_acc: 0.7593, val_loss: 0.9233, val_acc: 0.6916\n"
     ]
    },
    {
     "name": "stderr",
     "output_type": "stream",
     "text": [
      "100%|██████████| 657/657 [00:09<00:00, 66.30it/s]\n"
     ]
    },
    {
     "name": "stdout",
     "output_type": "stream",
     "text": [
      "Epoch [14], Time taken :11.6083, train_loss : 0.6788, train_acc: 0.7686, val_loss: 0.9268, val_acc: 0.6961\n",
      "Finished Training in 186.61147451400757secs\n"
     ]
    }
   ],
   "source": [
    "begin = time.time()\n",
    "history, end, lrs = fit(15, net, trainloader, valloader)\n",
    "print('Finished Training in '+ str(end-begin) + 'secs')"
   ]
  },
  {
   "cell_type": "code",
   "execution_count": 9,
   "id": "de03f6af",
   "metadata": {
    "execution": {
     "iopub.execute_input": "2022-03-29T16:24:38.529478Z",
     "iopub.status.busy": "2022-03-29T16:24:38.528907Z",
     "iopub.status.idle": "2022-03-29T16:24:38.541803Z",
     "shell.execute_reply": "2022-03-29T16:24:38.541310Z",
     "shell.execute_reply.started": "2022-03-29T16:18:25.731152Z"
    },
    "papermill": {
     "duration": 0.560236,
     "end_time": "2022-03-29T16:24:38.541919",
     "exception": false,
     "start_time": "2022-03-29T16:24:37.981683",
     "status": "completed"
    },
    "tags": []
   },
   "outputs": [],
   "source": [
    "PATH = './cifar_net.pth'\n",
    "torch.save(net.state_dict(), PATH)"
   ]
  },
  {
   "cell_type": "code",
   "execution_count": 10,
   "id": "be71121d",
   "metadata": {
    "execution": {
     "iopub.execute_input": "2022-03-29T16:24:39.413434Z",
     "iopub.status.busy": "2022-03-29T16:24:39.411463Z",
     "iopub.status.idle": "2022-03-29T16:24:39.963253Z",
     "shell.execute_reply": "2022-03-29T16:24:39.964356Z",
     "shell.execute_reply.started": "2022-03-29T16:18:25.749247Z"
    },
    "papermill": {
     "duration": 1.000505,
     "end_time": "2022-03-29T16:24:39.964601",
     "exception": false,
     "start_time": "2022-03-29T16:24:38.964096",
     "status": "completed"
    },
    "tags": []
   },
   "outputs": [
    {
     "data": {
      "image/png": "[encoded data removed]",
      "text/plain": [
       "<Figure size 1440x432 with 2 Axes>"
      ]
     },
     "metadata": {
      "needs_background": "light"
     },
     "output_type": "display_data"
    },
    {
     "data": {
      "image/png": "[encoded data removed]",
      "text/plain": [
       "<Figure size 432x288 with 1 Axes>"
      ]
     },
     "metadata": {
      "needs_background": "light"
     },
     "output_type": "display_data"
    },
    {
     "data": {
      "image/png": "[encoded data removed]",
      "text/plain": [
       "<Figure size 432x288 with 1 Axes>"
      ]
     },
     "metadata": {
      "needs_background": "light"
     },
     "output_type": "display_data"
    }
   ],
   "source": [
    "def plot_results(history, lrs):\n",
    "    val_accs = [x['val_acc'] for x in history]\n",
    "    train_accs = [x['train_acc'] for x in history]\n",
    "    val_losses = [x['val_loss'] for x in history]\n",
    "    train_losses = [x['train_loss'] for x in history] \n",
    "    time_taken = [x['time'] for x in history]\n",
    "    plt.figure(figsize=(20,6))\n",
    "    plt.subplots_adjust(wspace= 0.25, hspace= 0.25)\n",
    "    plt.subplot(221)\n",
    "    plt.plot(train_accs, '-r')\n",
    "    plt.plot(val_accs, '-b')\n",
    "    ax = plt.gca()\n",
    "    ax.set_xlabel('Epochs')\n",
    "    ax.set_ylabel('Accuracies')\n",
    "    plt.legend(['Training', 'Validation'])\n",
    "    plt.title('Accuracy vs. No. of epochs')\n",
    "    \n",
    "    plt.subplot(222)\n",
    "    plt.plot(train_losses, '-r')\n",
    "    plt.plot(val_losses, '-b')\n",
    "    ax = plt.gca()\n",
    "    ax.set_xlabel('Epochs')\n",
    "    ax.set_ylabel('Losses')\n",
    "    plt.legend(['Training', 'Validation'])\n",
    "    plt.title('Losses vs. No. of epochs')\n",
    "    plt.show()\n",
    "    \n",
    "    plt.subplot(223)\n",
    "    plt.plot(time_taken)\n",
    "    ax = plt.gca()\n",
    "    ax.set_xlabel('Epochs')\n",
    "    ax.set_ylabel('Time(s)')\n",
    "    plt.title('Time vs. Epoch')\n",
    "    plt.show()\n",
    "    \n",
    "    plt.subplot(224)\n",
    "    plt.plot(lrs)\n",
    "    ax = plt.gca()\n",
    "    ax.set_xlabel('Epochs')\n",
    "    ax.set_ylabel('Learning Rate')\n",
    "    plt.title('Learning rates vs. Epoch')\n",
    "    plt.show()\n",
    "              \n",
    "plot_results(history, lrs)"
   ]
  },
  {
   "cell_type": "code",
   "execution_count": 11,
   "id": "01162ea7",
   "metadata": {
    "execution": {
     "iopub.execute_input": "2022-03-29T16:24:40.828361Z",
     "iopub.status.busy": "2022-03-29T16:24:40.827626Z",
     "iopub.status.idle": "2022-03-29T16:24:40.843387Z",
     "shell.execute_reply": "2022-03-29T16:24:40.842965Z",
     "shell.execute_reply.started": "2022-03-29T16:18:26.335732Z"
    },
    "papermill": {
     "duration": 0.442927,
     "end_time": "2022-03-29T16:24:40.843512",
     "exception": false,
     "start_time": "2022-03-29T16:24:40.400585",
     "status": "completed"
    },
    "tags": []
   },
   "outputs": [
    {
     "data": {
      "text/plain": [
       "Net(\n",
       "  (conv1): Conv2d(3, 16, kernel_size=(3, 3), stride=(1, 1), padding=(1, 1))\n",
       "  (pool): MaxPool2d(kernel_size=2, stride=2, padding=0, dilation=1, ceil_mode=False)\n",
       "  (conv2): Conv2d(16, 32, kernel_size=(3, 3), stride=(1, 1), padding=(1, 1))\n",
       "  (conv3): Conv2d(32, 64, kernel_size=(3, 3), stride=(1, 1), padding=(1, 1))\n",
       "  (fc1): Linear(in_features=1024, out_features=512, bias=True)\n",
       "  (fc2): Linear(in_features=512, out_features=64, bias=True)\n",
       "  (fc3): Linear(in_features=64, out_features=10, bias=True)\n",
       "  (criterion): CrossEntropyLoss()\n",
       "  (dropout): Dropout(p=0.5, inplace=False)\n",
       ")"
      ]
     },
     "execution_count": 11,
     "metadata": {},
     "output_type": "execute_result"
    }
   ],
   "source": [
    "net = Net()\n",
    "net.load_state_dict(torch.load(PATH))\n",
    "net.to(device)"
   ]
  },
  {
   "cell_type": "code",
   "execution_count": 12,
   "id": "0997febf",
   "metadata": {
    "execution": {
     "iopub.execute_input": "2022-03-29T16:24:41.697925Z",
     "iopub.status.busy": "2022-03-29T16:24:41.697143Z",
     "iopub.status.idle": "2022-03-29T16:24:44.484025Z",
     "shell.execute_reply": "2022-03-29T16:24:44.484655Z",
     "shell.execute_reply.started": "2022-03-29T16:18:26.367656Z"
    },
    "papermill": {
     "duration": 3.216087,
     "end_time": "2022-03-29T16:24:44.484853",
     "exception": false,
     "start_time": "2022-03-29T16:24:41.268766",
     "status": "completed"
    },
    "tags": []
   },
   "outputs": [
    {
     "name": "stdout",
     "output_type": "stream",
     "text": [
      "Accuracy of the network on the 10000 test images: 69 %\n"
     ]
    }
   ],
   "source": [
    "correct = 0\n",
    "total = 0\n",
    "with torch.no_grad():\n",
    "    for data in testloader:\n",
    "        data = to_device(data, device)\n",
    "        images, labels = data\n",
    "        outputs = net(images)\n",
    "        _, predicted = torch.max(outputs.data, 1)\n",
    "        total += labels.size(0)\n",
    "        correct += (predicted == labels).sum().item()\n",
    "\n",
    "print(f'Accuracy of the network on the 10000 test images: {100 * correct // total} %')"
   ]
  },
  {
   "cell_type": "code",
   "execution_count": 13,
   "id": "fa5570bc",
   "metadata": {
    "execution": {
     "iopub.execute_input": "2022-03-29T16:24:45.342710Z",
     "iopub.status.busy": "2022-03-29T16:24:45.341987Z",
     "iopub.status.idle": "2022-03-29T16:24:47.862622Z",
     "shell.execute_reply": "2022-03-29T16:24:47.863126Z",
     "shell.execute_reply.started": "2022-03-29T16:18:28.595533Z"
    },
    "papermill": {
     "duration": 2.954167,
     "end_time": "2022-03-29T16:24:47.863280",
     "exception": false,
     "start_time": "2022-03-29T16:24:44.909113",
     "status": "completed"
    },
    "tags": []
   },
   "outputs": [
    {
     "name": "stdout",
     "output_type": "stream",
     "text": [
      "Accuracy for class: plane is 75.7 %\n",
      "Accuracy for class: car   is 82.7 %\n",
      "Accuracy for class: bird  is 54.1 %\n",
      "Accuracy for class: cat   is 47.6 %\n",
      "Accuracy for class: deer  is 63.1 %\n",
      "Accuracy for class: dog   is 55.4 %\n",
      "Accuracy for class: frog  is 78.3 %\n",
      "Accuracy for class: horse is 75.3 %\n",
      "Accuracy for class: ship  is 83.2 %\n",
      "Accuracy for class: truck is 79.7 %\n"
     ]
    }
   ],
   "source": [
    "correct_pred = {classname: 0 for classname in classes}\n",
    "total_pred = {classname: 0 for classname in classes}\n",
    "\n",
    "with torch.no_grad():\n",
    "    for data in testloader:\n",
    "        data = to_device(data, device)\n",
    "        images, labels = data\n",
    "        outputs = net(images)\n",
    "        _, predictions = torch.max(outputs, 1)\n",
    "        for label, prediction in zip(labels, predictions):\n",
    "            if label == prediction:\n",
    "                correct_pred[classes[label]] += 1\n",
    "            total_pred[classes[label]] += 1\n",
    "\n",
    "for classname, correct_count in correct_pred.items():\n",
    "    accuracy = 100 * float(correct_count) / total_pred[classname]\n",
    "    print(f'Accuracy for class: {classname:5s} is {accuracy:.1f} %')"
   ]
  }
 ],
 "metadata": {
  "kernelspec": {
   "display_name": "Python 3",
   "language": "python",
   "name": "python3"
  },
  "language_info": {
   "codemirror_mode": {
    "name": "ipython",
    "version": 3
   },
   "file_extension": ".py",
   "mimetype": "text/x-python",
   "name": "python",
   "nbconvert_exporter": "python",
   "pygments_lexer": "ipython3",
   "version": "3.7.12"
  },
  "papermill": {
   "default_parameters": {},
   "duration": 220.515666,
   "end_time": "2022-03-29T16:24:50.726895",
   "environment_variables": {},
   "exception": null,
   "input_path": "__notebook__.ipynb",
   "output_path": "__notebook__.ipynb",
   "parameters": {},
   "start_time": "2022-03-29T16:21:10.211229",
   "version": "2.3.3"
  },
  "widgets": {
   "application/vnd.jupyter.widget-state+json": {
    "state": {
     "085b7654b3c94e2bac440b7e642881f9": {
      "model_module": "@jupyter-widgets/base",
      "model_module_version": "1.2.0",
      "model_name": "LayoutModel",
      "state": {
       "_model_module": "@jupyter-widgets/base",
       "_model_module_version": "1.2.0",
       "_model_name": "LayoutModel",
       "_view_count": null,
       "_view_module": "@jupyter-widgets/base",
       "_view_module_version": "1.2.0",
       "_view_name": "LayoutView",
       "align_content": null,
       "align_items": null,
       "align_self": null,
       "border": null,
       "bottom": null,
       "display": null,
       "flex": null,
       "flex_flow": null,
       "grid_area": null,
       "grid_auto_columns": null,
       "grid_auto_flow": null,
       "grid_auto_rows": null,
       "grid_column": null,
       "grid_gap": null,
       "grid_row": null,
       "grid_template_areas": null,
       "grid_template_columns": null,
       "grid_template_rows": null,
       "height": null,
       "justify_content": null,
       "justify_items": null,
       "left": null,
       "margin": null,
       "max_height": null,
       "max_width": null,
       "min_height": null,
       "min_width": null,
       "object_fit": null,
       "object_position": null,
       "order": null,
       "overflow": null,
       "overflow_x": null,
       "overflow_y": null,
       "padding": null,
       "right": null,
       "top": null,
       "visibility": null,
       "width": null
      }
     },
     "12be1388c2f041dfbf598de9fc44ab3d": {
      "model_module": "@jupyter-widgets/controls",
      "model_module_version": "1.5.0",
      "model_name": "HTMLModel",
      "state": {
       "_dom_classes": [],
       "_model_module": "@jupyter-widgets/controls",
       "_model_module_version": "1.5.0",
       "_model_name": "HTMLModel",
       "_view_count": null,
       "_view_module": "@jupyter-widgets/controls",
       "_view_module_version": "1.5.0",
       "_view_name": "HTMLView",
       "description": "",
       "description_tooltip": null,
       "layout": "IPY_MODEL_ea1a377d7b2e4a4ca104f91cf3896b3e",
       "placeholder": "​",
       "style": "IPY_MODEL_c7d01395e7394d828042a7a68f1b7774",
       "value": ""
      }
     },
     "54588c74729246f6a03fd9f66c5cca87": {
      "model_module": "@jupyter-widgets/base",
      "model_module_version": "1.2.0",
      "model_name": "LayoutModel",
      "state": {
       "_model_module": "@jupyter-widgets/base",
       "_model_module_version": "1.2.0",
       "_model_name": "LayoutModel",
       "_view_count": null,
       "_view_module": "@jupyter-widgets/base",
       "_view_module_version": "1.2.0",
       "_view_name": "LayoutView",
       "align_content": null,
       "align_items": null,
       "align_self": null,
       "border": null,
       "bottom": null,
       "display": null,
       "flex": null,
       "flex_flow": null,
       "grid_area": null,
       "grid_auto_columns": null,
       "grid_auto_flow": null,
       "grid_auto_rows": null,
       "grid_column": null,
       "grid_gap": null,
       "grid_row": null,
       "grid_template_areas": null,
       "grid_template_columns": null,
       "grid_template_rows": null,
       "height": null,
       "justify_content": null,
       "justify_items": null,
       "left": null,
       "margin": null,
       "max_height": null,
       "max_width": null,
       "min_height": null,
       "min_width": null,
       "object_fit": null,
       "object_position": null,
       "order": null,
       "overflow": null,
       "overflow_x": null,
       "overflow_y": null,
       "padding": null,
       "right": null,
       "top": null,
       "visibility": null,
       "width": null
      }
     },
     "7b0209095e7e4b7fb6eeffb49b21b645": {
      "model_module": "@jupyter-widgets/controls",
      "model_module_version": "1.5.0",
      "model_name": "HTMLModel",
      "state": {
       "_dom_classes": [],
       "_model_module": "@jupyter-widgets/controls",
       "_model_module_version": "1.5.0",
       "_model_name": "HTMLModel",
       "_view_count": null,
       "_view_module": "@jupyter-widgets/controls",
       "_view_module_version": "1.5.0",
       "_view_name": "HTMLView",
       "description": "",
       "description_tooltip": null,
       "layout": "IPY_MODEL_ff56d803f9fa4a35b8c144b9dd7690fc",
       "placeholder": "​",
       "style": "IPY_MODEL_c2c4d9c820d6492ba41b3c2b3fa49f5e",
       "value": " 170499072/? [00:03&lt;00:00, 90861788.60it/s]"
      }
     },
     "818acc13ebe940adbf85acc02513707f": {
      "model_module": "@jupyter-widgets/controls",
      "model_module_version": "1.5.0",
      "model_name": "HBoxModel",
      "state": {
       "_dom_classes": [],
       "_model_module": "@jupyter-widgets/controls",
       "_model_module_version": "1.5.0",
       "_model_name": "HBoxModel",
       "_view_count": null,
       "_view_module": "@jupyter-widgets/controls",
       "_view_module_version": "1.5.0",
       "_view_name": "HBoxView",
       "box_style": "",
       "children": [
        "IPY_MODEL_12be1388c2f041dfbf598de9fc44ab3d",
        "IPY_MODEL_d6ddf24f4ee242569cc1486f3856c810",
        "IPY_MODEL_7b0209095e7e4b7fb6eeffb49b21b645"
       ],
       "layout": "IPY_MODEL_54588c74729246f6a03fd9f66c5cca87"
      }
     },
     "c2c4d9c820d6492ba41b3c2b3fa49f5e": {
      "model_module": "@jupyter-widgets/controls",
      "model_module_version": "1.5.0",
      "model_name": "DescriptionStyleModel",
      "state": {
       "_model_module": "@jupyter-widgets/controls",
       "_model_module_version": "1.5.0",
       "_model_name": "DescriptionStyleModel",
       "_view_count": null,
       "_view_module": "@jupyter-widgets/base",
       "_view_module_version": "1.2.0",
       "_view_name": "StyleView",
       "description_width": ""
      }
     },
     "c7d01395e7394d828042a7a68f1b7774": {
      "model_module": "@jupyter-widgets/controls",
      "model_module_version": "1.5.0",
      "model_name": "DescriptionStyleModel",
      "state": {
       "_model_module": "@jupyter-widgets/controls",
       "_model_module_version": "1.5.0",
       "_model_name": "DescriptionStyleModel",
       "_view_count": null,
       "_view_module": "@jupyter-widgets/base",
       "_view_module_version": "1.2.0",
       "_view_name": "StyleView",
       "description_width": ""
      }
     },
     "d250b065f6914506a2d59439cd99ca2a": {
      "model_module": "@jupyter-widgets/controls",
      "model_module_version": "1.5.0",
      "model_name": "ProgressStyleModel",
      "state": {
       "_model_module": "@jupyter-widgets/controls",
       "_model_module_version": "1.5.0",
       "_model_name": "ProgressStyleModel",
       "_view_count": null,
       "_view_module": "@jupyter-widgets/base",
       "_view_module_version": "1.2.0",
       "_view_name": "StyleView",
       "bar_color": null,
       "description_width": ""
      }
     },
     "d6ddf24f4ee242569cc1486f3856c810": {
      "model_module": "@jupyter-widgets/controls",
      "model_module_version": "1.5.0",
      "model_name": "FloatProgressModel",
      "state": {
       "_dom_classes": [],
       "_model_module": "@jupyter-widgets/controls",
       "_model_module_version": "1.5.0",
       "_model_name": "FloatProgressModel",
       "_view_count": null,
       "_view_module": "@jupyter-widgets/controls",
       "_view_module_version": "1.5.0",
       "_view_name": "ProgressView",
       "bar_style": "success",
       "description": "",
       "description_tooltip": null,
       "layout": "IPY_MODEL_085b7654b3c94e2bac440b7e642881f9",
       "max": 170498071,
       "min": 0,
       "orientation": "horizontal",
       "style": "IPY_MODEL_d250b065f6914506a2d59439cd99ca2a",
       "value": 170498071
      }
     },
     "ea1a377d7b2e4a4ca104f91cf3896b3e": {
      "model_module": "@jupyter-widgets/base",
      "model_module_version": "1.2.0",
      "model_name": "LayoutModel",
      "state": {
       "_model_module": "@jupyter-widgets/base",
       "_model_module_version": "1.2.0",
       "_model_name": "LayoutModel",
       "_view_count": null,
       "_view_module": "@jupyter-widgets/base",
       "_view_module_version": "1.2.0",
       "_view_name": "LayoutView",
       "align_content": null,
       "align_items": null,
       "align_self": null,
       "border": null,
       "bottom": null,
       "display": null,
       "flex": null,
       "flex_flow": null,
       "grid_area": null,
       "grid_auto_columns": null,
       "grid_auto_flow": null,
       "grid_auto_rows": null,
       "grid_column": null,
       "grid_gap": null,
       "grid_row": null,
       "grid_template_areas": null,
       "grid_template_columns": null,
       "grid_template_rows": null,
       "height": null,
       "justify_content": null,
       "justify_items": null,
       "left": null,
       "margin": null,
       "max_height": null,
       "max_width": null,
       "min_height": null,
       "min_width": null,
       "object_fit": null,
       "object_position": null,
       "order": null,
       "overflow": null,
       "overflow_x": null,
       "overflow_y": null,
       "padding": null,
       "right": null,
       "top": null,
       "visibility": null,
       "width": null
      }
     },
     "ff56d803f9fa4a35b8c144b9dd7690fc": {
      "model_module": "@jupyter-widgets/base",
      "model_module_version": "1.2.0",
      "model_name": "LayoutModel",
      "state": {
       "_model_module": "@jupyter-widgets/base",
       "_model_module_version": "1.2.0",
       "_model_name": "LayoutModel",
       "_view_count": null,
       "_view_module": "@jupyter-widgets/base",
       "_view_module_version": "1.2.0",
       "_view_name": "LayoutView",
       "align_content": null,
       "align_items": null,
       "align_self": null,
       "border": null,
       "bottom": null,
       "display": null,
       "flex": null,
       "flex_flow": null,
       "grid_area": null,
       "grid_auto_columns": null,
       "grid_auto_flow": null,
       "grid_auto_rows": null,
       "grid_column": null,
       "grid_gap": null,
       "grid_row": null,
       "grid_template_areas": null,
       "grid_template_columns": null,
       "grid_template_rows": null,
       "height": null,
       "justify_content": null,
       "justify_items": null,
       "left": null,
       "margin": null,
       "max_height": null,
       "max_width": null,
       "min_height": null,
       "min_width": null,
       "object_fit": null,
       "object_position": null,
       "order": null,
       "overflow": null,
       "overflow_x": null,
       "overflow_y": null,
       "padding": null,
       "right": null,
       "top": null,
       "visibility": null,
       "width": null
      }
     }
    },
    "version_major": 2,
    "version_minor": 0
   }
  }
 },
 "nbformat": 4,
 "nbformat_minor": 5
}
