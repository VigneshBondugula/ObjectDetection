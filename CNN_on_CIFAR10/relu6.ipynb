{
 "cells": [
  {
   "cell_type": "code",
   "execution_count": 1,
   "id": "2af922cb",
   "metadata": {
    "execution": {
     "iopub.execute_input": "2022-03-29T16:40:49.288904Z",
     "iopub.status.busy": "2022-03-29T16:40:49.288129Z",
     "iopub.status.idle": "2022-03-29T16:40:50.866838Z",
     "shell.execute_reply": "2022-03-29T16:40:50.865867Z",
     "shell.execute_reply.started": "2022-03-29T16:32:57.649063Z"
    },
    "papermill": {
     "duration": 1.61236,
     "end_time": "2022-03-29T16:40:50.867079",
     "exception": false,
     "start_time": "2022-03-29T16:40:49.254719",
     "status": "completed"
    },
    "tags": []
   },
   "outputs": [],
   "source": [
    "%matplotlib inline\n",
    "import torch\n",
    "import numpy as np\n",
    "import matplotlib.pyplot as plt\n",
    "import torch.nn as nn\n",
    "import torch.nn.functional as F\n",
    "from torchvision.datasets import CIFAR10\n",
    "from torchvision.transforms import ToTensor, Compose, Normalize\n",
    "from torch.utils.data.dataloader import DataLoader\n",
    "from torch.utils.data import random_split\n",
    "from torchvision.utils import make_grid\n",
    "import time\n",
    "import torch.optim as optim\n",
    "from tqdm import tqdm\n",
    "from torch.optim import lr_scheduler"
   ]
  },
  {
   "cell_type": "code",
   "execution_count": 2,
   "id": "453ab555",
   "metadata": {
    "execution": {
     "iopub.execute_input": "2022-03-29T16:40:50.936112Z",
     "iopub.status.busy": "2022-03-29T16:40:50.935491Z",
     "iopub.status.idle": "2022-03-29T16:40:50.946484Z",
     "shell.execute_reply": "2022-03-29T16:40:50.947132Z",
     "shell.execute_reply.started": "2022-03-29T16:32:57.665869Z"
    },
    "papermill": {
     "duration": 0.05842,
     "end_time": "2022-03-29T16:40:50.949395",
     "exception": false,
     "start_time": "2022-03-29T16:40:50.890975",
     "status": "completed"
    },
    "tags": []
   },
   "outputs": [],
   "source": [
    "#Allow autofill on kaggle\n",
    "%config Completer.use_jedi = False"
   ]
  },
  {
   "cell_type": "code",
   "execution_count": 3,
   "id": "14e411c9",
   "metadata": {
    "execution": {
     "iopub.execute_input": "2022-03-29T16:40:51.002719Z",
     "iopub.status.busy": "2022-03-29T16:40:51.001914Z",
     "iopub.status.idle": "2022-03-29T16:40:51.007903Z",
     "shell.execute_reply": "2022-03-29T16:40:51.008472Z",
     "shell.execute_reply.started": "2022-03-29T16:32:57.684408Z"
    },
    "papermill": {
     "duration": 0.033643,
     "end_time": "2022-03-29T16:40:51.008666",
     "exception": false,
     "start_time": "2022-03-29T16:40:50.975023",
     "status": "completed"
    },
    "tags": []
   },
   "outputs": [],
   "source": [
    "# Helper functions to load data into gpu if available\n",
    "\n",
    "def get_default_device():\n",
    "  #Pick GPU if available, else CPU\n",
    "  if torch.cuda.is_available():\n",
    "    return torch.device('cuda')\n",
    "  else:\n",
    "    return torch.device('cpu')\n",
    "\n",
    "def to_device(data, device):\n",
    "  #Move tensor(s) to chosen device\n",
    "    if isinstance(data, (list,tuple)):\n",
    "        return [to_device(x, device) for x in data]\n",
    "    return data.to(device, non_blocking=True)\n",
    "\n",
    "class DeviceDataLoader():\n",
    "    #Wrap a dataloader to move data to a device\n",
    "    def __init__(self, dl, device):\n",
    "        self.dl = dl\n",
    "        self.device = device\n",
    "      \n",
    "    def __iter__(self):\n",
    "    #Yield a batch of data after moving it to device\n",
    "        for b in self.dl: \n",
    "            yield to_device(b, self.device)\n",
    "\n",
    "    def __len__(self):\n",
    "    #Number of batches\n",
    "        return len(self.dl)"
   ]
  },
  {
   "cell_type": "code",
   "execution_count": 4,
   "id": "21610c37",
   "metadata": {
    "execution": {
     "iopub.execute_input": "2022-03-29T16:40:51.055902Z",
     "iopub.status.busy": "2022-03-29T16:40:51.055131Z",
     "iopub.status.idle": "2022-03-29T16:40:58.269716Z",
     "shell.execute_reply": "2022-03-29T16:40:58.270311Z",
     "shell.execute_reply.started": "2022-03-29T16:32:57.695474Z"
    },
    "papermill": {
     "duration": 7.242614,
     "end_time": "2022-03-29T16:40:58.270538",
     "exception": false,
     "start_time": "2022-03-29T16:40:51.027924",
     "status": "completed"
    },
    "tags": []
   },
   "outputs": [
    {
     "name": "stdout",
     "output_type": "stream",
     "text": [
      "Downloading https://www.cs.toronto.edu/~kriz/cifar-10-python.tar.gz to data/cifar-10-python.tar.gz\n"
     ]
    },
    {
     "data": {
      "application/vnd.jupyter.widget-view+json": {
       "model_id": "3fc1ad40b2ca498f875ce12e31aa68a7",
       "version_major": 2,
       "version_minor": 0
      },
      "text/plain": [
       "  0%|          | 0/170498071 [00:00<?, ?it/s]"
      ]
     },
     "metadata": {},
     "output_type": "display_data"
    },
    {
     "name": "stdout",
     "output_type": "stream",
     "text": [
      "Extracting data/cifar-10-python.tar.gz to data/\n"
     ]
    },
    {
     "name": "stderr",
     "output_type": "stream",
     "text": [
      "/opt/conda/lib/python3.7/site-packages/torch/utils/data/dataloader.py:481: UserWarning: This DataLoader will create 4 worker processes in total. Our suggested max number of worker in current system is 2, which is smaller than what this DataLoader is going to create. Please be aware that excessive worker creation might get DataLoader running slow or even freeze, lower the worker number to avoid potential slowness/freeze if necessary.\n",
      "  cpuset_checked))\n"
     ]
    },
    {
     "name": "stdout",
     "output_type": "stream",
     "text": [
      "Files already downloaded and verified\n",
      "cuda\n"
     ]
    }
   ],
   "source": [
    "#Loading Dataset\n",
    "transform = Compose(\n",
    "    [ToTensor(),\n",
    "     Normalize((0.5, 0.5, 0.5), (0.5, 0.5, 0.5))])\n",
    "\n",
    "batch_size = 64\n",
    "\n",
    "dataset = CIFAR10(root='data/', train=True,download=True, transform=transform)\n",
    "\n",
    "val_size = 8000\n",
    "train_size = len(dataset) - val_size\n",
    "trainset, valset = random_split(dataset, [train_size, val_size])\n",
    "trainloader = DataLoader(trainset, batch_size=batch_size,shuffle=True, num_workers=4, pin_memory = True)\n",
    "valloader = DataLoader(valset, batch_size=batch_size, num_workers=4, pin_memory=True)\n",
    "\n",
    "testset = CIFAR10(root='data/', train=False,download=True, transform=transform)\n",
    "testloader = DataLoader(testset, batch_size=batch_size,shuffle=False, num_workers=4, pin_memory = True)\n",
    "\n",
    "classes = ('plane', 'car', 'bird', 'cat', 'deer', 'dog', 'frog', 'horse', 'ship', 'truck')\n",
    "\n",
    "device = get_default_device()\n",
    "print(device)"
   ]
  },
  {
   "cell_type": "code",
   "execution_count": 5,
   "id": "63bc9eca",
   "metadata": {
    "execution": {
     "iopub.execute_input": "2022-03-29T16:40:58.307784Z",
     "iopub.status.busy": "2022-03-29T16:40:58.307280Z",
     "iopub.status.idle": "2022-03-29T16:41:02.229490Z",
     "shell.execute_reply": "2022-03-29T16:41:02.228735Z",
     "shell.execute_reply.started": "2022-03-29T16:32:59.429822Z"
    },
    "papermill": {
     "duration": 3.943744,
     "end_time": "2022-03-29T16:41:02.229677",
     "exception": false,
     "start_time": "2022-03-29T16:40:58.285933",
     "status": "completed"
    },
    "tags": []
   },
   "outputs": [
    {
     "data": {
      "image/png": "[encoded data removed]",
      "text/plain": [
       "<Figure size 432x288 with 1 Axes>"
      ]
     },
     "metadata": {
      "needs_background": "light"
     },
     "output_type": "display_data"
    },
    {
     "name": "stdout",
     "output_type": "stream",
     "text": [
      "horse bird  dog   plane horse horse frog  truck deer  frog  cat   plane bird  horse bird  plane frog  ship  cat   car   bird  cat   car   plane plane frog  bird  frog  car   cat   plane cat   ship  horse horse plane dog   car   dog   car   deer  cat   bird  car   bird  car   plane cat   car   cat   deer  plane frog  dog   horse deer  cat   dog   ship  cat   bird  deer  cat   car  \n"
     ]
    }
   ],
   "source": [
    "#Showing few images in the loaded data\n",
    "def imshow(img):\n",
    "    img = img / 2 + 0.5  \n",
    "    npimg = img.numpy()\n",
    "    plt.imshow(np.transpose(npimg, (1, 2, 0)))\n",
    "    plt.show()\n",
    "\n",
    "dataiter = iter(trainloader)\n",
    "images, labels = dataiter.next()\n",
    "\n",
    "imshow(make_grid(images))\n",
    "print(' '.join(f'{classes[labels[j]]:5s}' for j in range(batch_size)))"
   ]
  },
  {
   "cell_type": "code",
   "execution_count": 6,
   "id": "3bade101",
   "metadata": {
    "execution": {
     "iopub.execute_input": "2022-03-29T16:41:02.305279Z",
     "iopub.status.busy": "2022-03-29T16:41:02.304325Z",
     "iopub.status.idle": "2022-03-29T16:41:02.353686Z",
     "shell.execute_reply": "2022-03-29T16:41:02.354786Z",
     "shell.execute_reply.started": "2022-03-29T16:33:00.012817Z"
    },
    "papermill": {
     "duration": 0.095112,
     "end_time": "2022-03-29T16:41:02.355122",
     "exception": false,
     "start_time": "2022-03-29T16:41:02.260010",
     "status": "completed"
    },
    "tags": []
   },
   "outputs": [
    {
     "data": {
      "text/plain": [
       "Net(\n",
       "  (conv1): Conv2d(3, 16, kernel_size=(3, 3), stride=(1, 1), padding=(1, 1))\n",
       "  (pool): MaxPool2d(kernel_size=2, stride=2, padding=0, dilation=1, ceil_mode=False)\n",
       "  (conv2): Conv2d(16, 32, kernel_size=(3, 3), stride=(1, 1), padding=(1, 1))\n",
       "  (conv3): Conv2d(32, 64, kernel_size=(3, 3), stride=(1, 1), padding=(1, 1))\n",
       "  (fc1): Linear(in_features=1024, out_features=512, bias=True)\n",
       "  (fc2): Linear(in_features=512, out_features=64, bias=True)\n",
       "  (fc3): Linear(in_features=64, out_features=10, bias=True)\n",
       "  (criterion): CrossEntropyLoss()\n",
       "  (dropout): Dropout(p=0.5, inplace=False)\n",
       ")"
      ]
     },
     "execution_count": 6,
     "metadata": {},
     "output_type": "execute_result"
    }
   ],
   "source": [
    "#CNN with 3 convolutional layers and 3 linear layers\n",
    "def accuracy(outputs, labels):\n",
    "  _, preds = torch.max(outputs, dim=1)\n",
    "  return torch.tensor(torch.sum(preds == labels).item() / len(preds))\n",
    "\n",
    "class Net(nn.Module):\n",
    "    def __init__(self):\n",
    "        super().__init__()\n",
    "        self.conv1 =  nn.Conv2d(3, 16, 3, padding=1)\n",
    "        self.pool = nn.MaxPool2d(2, 2)\n",
    "        self.conv2 = nn.Conv2d(16, 32, 3, padding=1)        \n",
    "        self.conv3 = nn.Conv2d(32, 64, 3, padding=1)        \n",
    "        self.fc1 = nn.Linear(64*4*4, 512)\n",
    "        self.fc2 = nn.Linear(512, 64)\n",
    "        self.fc3 =  nn.Linear(64, 10)\n",
    "        self.criterion = nn.CrossEntropyLoss()\n",
    "        self.dropout = nn.Dropout(p=.5)\n",
    "\n",
    "    def forward(self, x):\n",
    "        x = self.pool(F.relu(self.conv1(x)))\n",
    "        x = self.pool(F.relu(self.conv2(x)))\n",
    "        x = self.pool(F.relu(self.conv3(x)))\n",
    "        x = torch.flatten(x, 1) # flatten all dimensions except batch\n",
    "        x = self.dropout(F.relu(self.fc1(x)))\n",
    "        x = self.dropout(F.relu(self.fc2(x)))\n",
    "        x = self.fc3(x)\n",
    "        return x\n",
    "    \n",
    "    def training_step(self, batch):\n",
    "        images, labels = batch \n",
    "        out = self(images)                  # Generate predictions\n",
    "        loss = self.criterion(out, labels) # Calculate loss\n",
    "        acc = accuracy(out, labels)           # Calculate accuracy\n",
    "        return loss, acc\n",
    "\n",
    "    def validation_step(self, batch):\n",
    "        images, labels = batch \n",
    "        out = self(images)                    # Generate predictions\n",
    "        loss = self.criterion(out, labels)   # Calculate loss\n",
    "        acc = accuracy(out, labels)           # Calculate accuracy\n",
    "        return {'val_loss': loss, 'val_acc': acc}\n",
    "\n",
    "    def validation_epoch_end(self, outputs):\n",
    "        batch_losses = [x['val_loss'] for x in outputs]\n",
    "        epoch_loss = torch.stack(batch_losses).mean()   # Combine losses\n",
    "        batch_accs = [x['val_acc'] for x in outputs]\n",
    "        epoch_acc = torch.stack(batch_accs).mean()      # Combine accuracies\n",
    "        return {'val_loss': epoch_loss.item(), 'val_acc': epoch_acc.item()}\n",
    "\n",
    "    def epoch_end(self, epoch, result):\n",
    "        print(\"Epoch [{}], Time taken :{:.4f}, train_loss : {:.4f}, train_acc: {:.4f}, val_loss: {:.4f}, val_acc: {:.4f}\".format(epoch, result['time'], result['train_loss'], result['train_acc'], result['val_loss'], result['val_acc']))\n",
    "\n",
    "net = Net()\n",
    "net.to(device)"
   ]
  },
  {
   "cell_type": "code",
   "execution_count": 7,
   "id": "f3428b89",
   "metadata": {
    "execution": {
     "iopub.execute_input": "2022-03-29T16:41:02.439874Z",
     "iopub.status.busy": "2022-03-29T16:41:02.436763Z",
     "iopub.status.idle": "2022-03-29T16:41:02.448504Z",
     "shell.execute_reply": "2022-03-29T16:41:02.447805Z",
     "shell.execute_reply.started": "2022-03-29T16:33:00.048288Z"
    },
    "papermill": {
     "duration": 0.056926,
     "end_time": "2022-03-29T16:41:02.448769",
     "exception": false,
     "start_time": "2022-03-29T16:41:02.391843",
     "status": "completed"
    },
    "tags": []
   },
   "outputs": [],
   "source": [
    "def evaluate(model, val_loader):\n",
    "    outputs = [model.validation_step(to_device(batch,device)) for batch in val_loader]\n",
    "    return model.validation_epoch_end(outputs)\n",
    "\n",
    "def fit(epochs, model, train_loader, val_loader, lr=0.01,momentum = 0):\n",
    "    history = []\n",
    "    lrs = []\n",
    "    optimizer = optim.SGD(net.parameters(), lr=lr, momentum=momentum)\n",
    "    end = 0\n",
    "    scheduler = lr_scheduler.StepLR(optimizer, step_size=10, gamma=0.5)\n",
    "    for epoch in range(epochs):\n",
    "        # Training Phase \n",
    "        train_losses = []\n",
    "        train_accuracy = []\n",
    "        start = time.time()\n",
    "        for batch in tqdm(train_loader):\n",
    "            batch = to_device(batch, device)\n",
    "            loss,acc= model.training_step(batch)\n",
    "            train_losses.append(loss)\n",
    "            train_accuracy.append(acc)\n",
    "            loss.backward()\n",
    "            optimizer.step()\n",
    "            optimizer.zero_grad()\n",
    "        # Validation phase\n",
    "        result =  evaluate(model, val_loader)\n",
    "        result['train_loss'] = torch.stack(train_losses).mean().item()\n",
    "        result['train_acc'] = torch.stack(train_accuracy).mean().item()\n",
    "        end = time.time()\n",
    "        result['time'] = end - start\n",
    "        model.epoch_end(epoch, result)\n",
    "        history.append(result)\n",
    "        lrs.append(scheduler.get_last_lr())\n",
    "        scheduler.step()\n",
    "    return history, end, lrs"
   ]
  },
  {
   "cell_type": "code",
   "execution_count": 8,
   "id": "082c7545",
   "metadata": {
    "execution": {
     "iopub.execute_input": "2022-03-29T16:41:02.534728Z",
     "iopub.status.busy": "2022-03-29T16:41:02.532919Z",
     "iopub.status.idle": "2022-03-29T16:47:03.778081Z",
     "shell.execute_reply": "2022-03-29T16:47:03.778714Z",
     "shell.execute_reply.started": "2022-03-29T16:33:00.060712Z"
    },
    "papermill": {
     "duration": 361.294704,
     "end_time": "2022-03-29T16:47:03.778932",
     "exception": false,
     "start_time": "2022-03-29T16:41:02.484228",
     "status": "completed"
    },
    "tags": []
   },
   "outputs": [
    {
     "name": "stderr",
     "output_type": "stream",
     "text": [
      "100%|██████████| 657/657 [00:15<00:00, 42.82it/s]\n"
     ]
    },
    {
     "name": "stdout",
     "output_type": "stream",
     "text": [
      "Epoch [0], Time taken :17.3053, train_loss : 2.3033, train_acc: 0.1014, val_loss: 2.3029, val_acc: 0.0967\n"
     ]
    },
    {
     "name": "stderr",
     "output_type": "stream",
     "text": [
      "100%|██████████| 657/657 [00:09<00:00, 70.04it/s]\n"
     ]
    },
    {
     "name": "stdout",
     "output_type": "stream",
     "text": [
      "Epoch [1], Time taken :11.0391, train_loss : 2.2993, train_acc: 0.1102, val_loss: 2.2966, val_acc: 0.1284\n"
     ]
    },
    {
     "name": "stderr",
     "output_type": "stream",
     "text": [
      "100%|██████████| 657/657 [00:10<00:00, 61.00it/s]\n"
     ]
    },
    {
     "name": "stdout",
     "output_type": "stream",
     "text": [
      "Epoch [2], Time taken :12.4549, train_loss : 2.2806, train_acc: 0.1545, val_loss: 2.2421, val_acc: 0.1799\n"
     ]
    },
    {
     "name": "stderr",
     "output_type": "stream",
     "text": [
      "100%|██████████| 657/657 [00:09<00:00, 68.60it/s]\n"
     ]
    },
    {
     "name": "stdout",
     "output_type": "stream",
     "text": [
      "Epoch [3], Time taken :11.2795, train_loss : 2.1467, train_acc: 0.2049, val_loss: 2.0749, val_acc: 0.2234\n"
     ]
    },
    {
     "name": "stderr",
     "output_type": "stream",
     "text": [
      "100%|██████████| 657/657 [00:10<00:00, 63.89it/s]\n"
     ]
    },
    {
     "name": "stdout",
     "output_type": "stream",
     "text": [
      "Epoch [4], Time taken :11.9353, train_loss : 2.0383, train_acc: 0.2413, val_loss: 2.0035, val_acc: 0.2519\n"
     ]
    },
    {
     "name": "stderr",
     "output_type": "stream",
     "text": [
      "100%|██████████| 657/657 [00:09<00:00, 66.16it/s]\n"
     ]
    },
    {
     "name": "stdout",
     "output_type": "stream",
     "text": [
      "Epoch [5], Time taken :11.6422, train_loss : 1.9616, train_acc: 0.2698, val_loss: 1.9102, val_acc: 0.2848\n"
     ]
    },
    {
     "name": "stderr",
     "output_type": "stream",
     "text": [
      "100%|██████████| 657/657 [00:09<00:00, 68.70it/s]\n"
     ]
    },
    {
     "name": "stdout",
     "output_type": "stream",
     "text": [
      "Epoch [6], Time taken :11.4165, train_loss : 1.8594, train_acc: 0.3060, val_loss: 1.8170, val_acc: 0.3186\n"
     ]
    },
    {
     "name": "stderr",
     "output_type": "stream",
     "text": [
      "100%|██████████| 657/657 [00:10<00:00, 63.06it/s]\n"
     ]
    },
    {
     "name": "stdout",
     "output_type": "stream",
     "text": [
      "Epoch [7], Time taken :12.4172, train_loss : 1.7650, train_acc: 0.3419, val_loss: 1.7645, val_acc: 0.3436\n"
     ]
    },
    {
     "name": "stderr",
     "output_type": "stream",
     "text": [
      "100%|██████████| 657/657 [00:09<00:00, 70.12it/s]\n"
     ]
    },
    {
     "name": "stdout",
     "output_type": "stream",
     "text": [
      "Epoch [8], Time taken :11.3843, train_loss : 1.6926, train_acc: 0.3742, val_loss: 1.6631, val_acc: 0.3826\n"
     ]
    },
    {
     "name": "stderr",
     "output_type": "stream",
     "text": [
      "100%|██████████| 657/657 [00:09<00:00, 66.95it/s]\n"
     ]
    },
    {
     "name": "stdout",
     "output_type": "stream",
     "text": [
      "Epoch [9], Time taken :11.5874, train_loss : 1.6296, train_acc: 0.4006, val_loss: 1.6161, val_acc: 0.4080\n"
     ]
    },
    {
     "name": "stderr",
     "output_type": "stream",
     "text": [
      "100%|██████████| 657/657 [00:10<00:00, 62.79it/s]\n"
     ]
    },
    {
     "name": "stdout",
     "output_type": "stream",
     "text": [
      "Epoch [10], Time taken :12.2762, train_loss : 1.5874, train_acc: 0.4192, val_loss: 1.5915, val_acc: 0.4173\n"
     ]
    },
    {
     "name": "stderr",
     "output_type": "stream",
     "text": [
      "100%|██████████| 657/657 [00:09<00:00, 67.18it/s]\n"
     ]
    },
    {
     "name": "stdout",
     "output_type": "stream",
     "text": [
      "Epoch [11], Time taken :11.5003, train_loss : 1.5648, train_acc: 0.4298, val_loss: 1.5868, val_acc: 0.4218\n"
     ]
    },
    {
     "name": "stderr",
     "output_type": "stream",
     "text": [
      "100%|██████████| 657/657 [00:10<00:00, 64.65it/s]\n"
     ]
    },
    {
     "name": "stdout",
     "output_type": "stream",
     "text": [
      "Epoch [12], Time taken :12.7245, train_loss : 1.5481, train_acc: 0.4352, val_loss: 1.5604, val_acc: 0.4275\n"
     ]
    },
    {
     "name": "stderr",
     "output_type": "stream",
     "text": [
      "100%|██████████| 657/657 [00:10<00:00, 63.16it/s]\n"
     ]
    },
    {
     "name": "stdout",
     "output_type": "stream",
     "text": [
      "Epoch [13], Time taken :12.1756, train_loss : 1.5266, train_acc: 0.4424, val_loss: 1.5437, val_acc: 0.4293\n"
     ]
    },
    {
     "name": "stderr",
     "output_type": "stream",
     "text": [
      "100%|██████████| 657/657 [00:10<00:00, 61.00it/s]\n"
     ]
    },
    {
     "name": "stdout",
     "output_type": "stream",
     "text": [
      "Epoch [14], Time taken :12.6044, train_loss : 1.5121, train_acc: 0.4498, val_loss: 1.5323, val_acc: 0.4425\n"
     ]
    },
    {
     "name": "stderr",
     "output_type": "stream",
     "text": [
      "100%|██████████| 657/657 [00:10<00:00, 60.59it/s]\n"
     ]
    },
    {
     "name": "stdout",
     "output_type": "stream",
     "text": [
      "Epoch [15], Time taken :12.6427, train_loss : 1.4954, train_acc: 0.4565, val_loss: 1.5132, val_acc: 0.4499\n"
     ]
    },
    {
     "name": "stderr",
     "output_type": "stream",
     "text": [
      "100%|██████████| 657/657 [00:09<00:00, 69.81it/s]\n"
     ]
    },
    {
     "name": "stdout",
     "output_type": "stream",
     "text": [
      "Epoch [16], Time taken :11.3617, train_loss : 1.4813, train_acc: 0.4619, val_loss: 1.4911, val_acc: 0.4559\n"
     ]
    },
    {
     "name": "stderr",
     "output_type": "stream",
     "text": [
      "100%|██████████| 657/657 [00:09<00:00, 67.98it/s]\n"
     ]
    },
    {
     "name": "stdout",
     "output_type": "stream",
     "text": [
      "Epoch [17], Time taken :11.4123, train_loss : 1.4661, train_acc: 0.4709, val_loss: 1.4866, val_acc: 0.4555\n"
     ]
    },
    {
     "name": "stderr",
     "output_type": "stream",
     "text": [
      "100%|██████████| 657/657 [00:11<00:00, 59.44it/s]\n"
     ]
    },
    {
     "name": "stdout",
     "output_type": "stream",
     "text": [
      "Epoch [18], Time taken :12.9298, train_loss : 1.4520, train_acc: 0.4752, val_loss: 1.4793, val_acc: 0.4629\n"
     ]
    },
    {
     "name": "stderr",
     "output_type": "stream",
     "text": [
      "100%|██████████| 657/657 [00:09<00:00, 68.31it/s]\n"
     ]
    },
    {
     "name": "stdout",
     "output_type": "stream",
     "text": [
      "Epoch [19], Time taken :11.4428, train_loss : 1.4365, train_acc: 0.4805, val_loss: 1.4421, val_acc: 0.4750\n"
     ]
    },
    {
     "name": "stderr",
     "output_type": "stream",
     "text": [
      "100%|██████████| 657/657 [00:10<00:00, 63.60it/s]\n"
     ]
    },
    {
     "name": "stdout",
     "output_type": "stream",
     "text": [
      "Epoch [20], Time taken :13.0844, train_loss : 1.4114, train_acc: 0.4907, val_loss: 1.4328, val_acc: 0.4761\n"
     ]
    },
    {
     "name": "stderr",
     "output_type": "stream",
     "text": [
      "100%|██████████| 657/657 [00:09<00:00, 68.65it/s]\n"
     ]
    },
    {
     "name": "stdout",
     "output_type": "stream",
     "text": [
      "Epoch [21], Time taken :11.3133, train_loss : 1.4090, train_acc: 0.4932, val_loss: 1.4239, val_acc: 0.4852\n"
     ]
    },
    {
     "name": "stderr",
     "output_type": "stream",
     "text": [
      "100%|██████████| 657/657 [00:09<00:00, 67.46it/s]\n"
     ]
    },
    {
     "name": "stdout",
     "output_type": "stream",
     "text": [
      "Epoch [22], Time taken :11.4687, train_loss : 1.3980, train_acc: 0.4955, val_loss: 1.4210, val_acc: 0.4819\n"
     ]
    },
    {
     "name": "stderr",
     "output_type": "stream",
     "text": [
      "100%|██████████| 657/657 [00:10<00:00, 61.70it/s]\n"
     ]
    },
    {
     "name": "stdout",
     "output_type": "stream",
     "text": [
      "Epoch [23], Time taken :12.3564, train_loss : 1.3916, train_acc: 0.4999, val_loss: 1.4099, val_acc: 0.4873\n"
     ]
    },
    {
     "name": "stderr",
     "output_type": "stream",
     "text": [
      "100%|██████████| 657/657 [00:09<00:00, 68.66it/s]\n"
     ]
    },
    {
     "name": "stdout",
     "output_type": "stream",
     "text": [
      "Epoch [24], Time taken :11.2789, train_loss : 1.3887, train_acc: 0.5004, val_loss: 1.4025, val_acc: 0.4950\n"
     ]
    },
    {
     "name": "stderr",
     "output_type": "stream",
     "text": [
      "100%|██████████| 657/657 [00:09<00:00, 69.31it/s]\n"
     ]
    },
    {
     "name": "stdout",
     "output_type": "stream",
     "text": [
      "Epoch [25], Time taken :11.2116, train_loss : 1.3750, train_acc: 0.5048, val_loss: 1.4043, val_acc: 0.4925\n"
     ]
    },
    {
     "name": "stderr",
     "output_type": "stream",
     "text": [
      "100%|██████████| 657/657 [00:10<00:00, 62.78it/s]\n"
     ]
    },
    {
     "name": "stdout",
     "output_type": "stream",
     "text": [
      "Epoch [26], Time taken :12.1660, train_loss : 1.3694, train_acc: 0.5070, val_loss: 1.4000, val_acc: 0.4964\n"
     ]
    },
    {
     "name": "stderr",
     "output_type": "stream",
     "text": [
      "100%|██████████| 657/657 [00:09<00:00, 69.84it/s]\n"
     ]
    },
    {
     "name": "stdout",
     "output_type": "stream",
     "text": [
      "Epoch [27], Time taken :11.1368, train_loss : 1.3648, train_acc: 0.5111, val_loss: 1.3957, val_acc: 0.5011\n"
     ]
    },
    {
     "name": "stderr",
     "output_type": "stream",
     "text": [
      "100%|██████████| 657/657 [00:09<00:00, 67.94it/s]\n"
     ]
    },
    {
     "name": "stdout",
     "output_type": "stream",
     "text": [
      "Epoch [28], Time taken :11.3869, train_loss : 1.3617, train_acc: 0.5116, val_loss: 1.3808, val_acc: 0.5014\n"
     ]
    },
    {
     "name": "stderr",
     "output_type": "stream",
     "text": [
      "100%|██████████| 657/657 [00:10<00:00, 64.44it/s]\n"
     ]
    },
    {
     "name": "stdout",
     "output_type": "stream",
     "text": [
      "Epoch [29], Time taken :11.8984, train_loss : 1.3499, train_acc: 0.5158, val_loss: 1.3795, val_acc: 0.5082\n",
      "Finished Training in 361.2281880378723secs\n"
     ]
    }
   ],
   "source": [
    "begin = time.time()\n",
    "history, end, lrs = fit(30, net, trainloader, valloader)\n",
    "print('Finished Training in '+ str(end-begin) + 'secs')"
   ]
  },
  {
   "cell_type": "code",
   "execution_count": 9,
   "id": "dda6e414",
   "metadata": {
    "execution": {
     "iopub.execute_input": "2022-03-29T16:47:05.731878Z",
     "iopub.status.busy": "2022-03-29T16:47:05.731317Z",
     "iopub.status.idle": "2022-03-29T16:47:05.744985Z",
     "shell.execute_reply": "2022-03-29T16:47:05.744512Z",
     "shell.execute_reply.started": "2022-03-29T16:39:01.718485Z"
    },
    "papermill": {
     "duration": 1.139325,
     "end_time": "2022-03-29T16:47:05.745107",
     "exception": false,
     "start_time": "2022-03-29T16:47:04.605782",
     "status": "completed"
    },
    "tags": []
   },
   "outputs": [],
   "source": [
    "PATH = './cifar_net.pth'\n",
    "torch.save(net.state_dict(), PATH)"
   ]
  },
  {
   "cell_type": "code",
   "execution_count": 10,
   "id": "924f2fde",
   "metadata": {
    "execution": {
     "iopub.execute_input": "2022-03-29T16:47:07.500997Z",
     "iopub.status.busy": "2022-03-29T16:47:07.478664Z",
     "iopub.status.idle": "2022-03-29T16:47:08.207976Z",
     "shell.execute_reply": "2022-03-29T16:47:08.209079Z",
     "shell.execute_reply.started": "2022-03-29T16:39:01.743870Z"
    },
    "papermill": {
     "duration": 1.587508,
     "end_time": "2022-03-29T16:47:08.209320",
     "exception": false,
     "start_time": "2022-03-29T16:47:06.621812",
     "status": "completed"
    },
    "tags": []
   },
   "outputs": [
    {
     "data": {
      "image/png": "[encoded data removed]",
      "text/plain": [
       "<Figure size 1440x432 with 2 Axes>"
      ]
     },
     "metadata": {
      "needs_background": "light"
     },
     "output_type": "display_data"
    },
    {
     "data": {
      "image/png": "[encoded data removed]",
      "text/plain": [
       "<Figure size 432x288 with 1 Axes>"
      ]
     },
     "metadata": {
      "needs_background": "light"
     },
     "output_type": "display_data"
    },
    {
     "data": {
      "image/png": "[encoded data removed]",
      "text/plain": [
       "<Figure size 432x288 with 1 Axes>"
      ]
     },
     "metadata": {
      "needs_background": "light"
     },
     "output_type": "display_data"
    }
   ],
   "source": [
    "def plot_results(history, lrs):\n",
    "    val_accs = [x['val_acc'] for x in history]\n",
    "    train_accs = [x['train_acc'] for x in history]\n",
    "    val_losses = [x['val_loss'] for x in history]\n",
    "    train_losses = [x['train_loss'] for x in history] \n",
    "    time_taken = [x['time'] for x in history]\n",
    "    plt.figure(figsize=(20,6))\n",
    "    plt.subplots_adjust(wspace= 0.25, hspace= 0.25)\n",
    "    plt.subplot(221)\n",
    "    plt.plot(train_accs, '-r')\n",
    "    plt.plot(val_accs, '-b')\n",
    "    ax = plt.gca()\n",
    "    ax.set_xlabel('Epochs')\n",
    "    ax.set_ylabel('Accuracies')\n",
    "    plt.legend(['Training', 'Validation'])\n",
    "    plt.title('Accuracy vs. No. of epochs')\n",
    "    \n",
    "    plt.subplot(222)\n",
    "    plt.plot(train_losses, '-r')\n",
    "    plt.plot(val_losses, '-b')\n",
    "    ax = plt.gca()\n",
    "    ax.set_xlabel('Epochs')\n",
    "    ax.set_ylabel('Losses')\n",
    "    plt.legend(['Training', 'Validation'])\n",
    "    plt.title('Losses vs. No. of epochs')\n",
    "    plt.show()\n",
    "    \n",
    "    plt.subplot(223)\n",
    "    plt.plot(time_taken)\n",
    "    ax = plt.gca()\n",
    "    ax.set_xlabel('Epochs')\n",
    "    ax.set_ylabel('Time(s)')\n",
    "    plt.title('Time vs. Epoch')\n",
    "    plt.show()\n",
    "    \n",
    "    plt.subplot(224)\n",
    "    plt.plot(lrs)\n",
    "    ax = plt.gca()\n",
    "    ax.set_xlabel('Epochs')\n",
    "    ax.set_ylabel('Learning Rate')\n",
    "    plt.title('Learning rates vs. Epoch')\n",
    "    plt.show()\n",
    "              \n",
    "plot_results(history, lrs)"
   ]
  },
  {
   "cell_type": "code",
   "execution_count": 11,
   "id": "6be9c829",
   "metadata": {
    "execution": {
     "iopub.execute_input": "2022-03-29T16:47:09.886536Z",
     "iopub.status.busy": "2022-03-29T16:47:09.885744Z",
     "iopub.status.idle": "2022-03-29T16:47:09.901861Z",
     "shell.execute_reply": "2022-03-29T16:47:09.902275Z",
     "shell.execute_reply.started": "2022-03-29T16:39:02.367299Z"
    },
    "papermill": {
     "duration": 0.843395,
     "end_time": "2022-03-29T16:47:09.902424",
     "exception": false,
     "start_time": "2022-03-29T16:47:09.059029",
     "status": "completed"
    },
    "tags": []
   },
   "outputs": [
    {
     "data": {
      "text/plain": [
       "Net(\n",
       "  (conv1): Conv2d(3, 16, kernel_size=(3, 3), stride=(1, 1), padding=(1, 1))\n",
       "  (pool): MaxPool2d(kernel_size=2, stride=2, padding=0, dilation=1, ceil_mode=False)\n",
       "  (conv2): Conv2d(16, 32, kernel_size=(3, 3), stride=(1, 1), padding=(1, 1))\n",
       "  (conv3): Conv2d(32, 64, kernel_size=(3, 3), stride=(1, 1), padding=(1, 1))\n",
       "  (fc1): Linear(in_features=1024, out_features=512, bias=True)\n",
       "  (fc2): Linear(in_features=512, out_features=64, bias=True)\n",
       "  (fc3): Linear(in_features=64, out_features=10, bias=True)\n",
       "  (criterion): CrossEntropyLoss()\n",
       "  (dropout): Dropout(p=0.5, inplace=False)\n",
       ")"
      ]
     },
     "execution_count": 11,
     "metadata": {},
     "output_type": "execute_result"
    }
   ],
   "source": [
    "net = Net()\n",
    "net.load_state_dict(torch.load(PATH))\n",
    "net.to(device)"
   ]
  },
  {
   "cell_type": "code",
   "execution_count": 12,
   "id": "35e2db58",
   "metadata": {
    "execution": {
     "iopub.execute_input": "2022-03-29T16:47:11.594708Z",
     "iopub.status.busy": "2022-03-29T16:47:11.592325Z",
     "iopub.status.idle": "2022-03-29T16:47:13.717182Z",
     "shell.execute_reply": "2022-03-29T16:47:13.717563Z",
     "shell.execute_reply.started": "2022-03-29T16:39:02.388392Z"
    },
    "papermill": {
     "duration": 2.983205,
     "end_time": "2022-03-29T16:47:13.717751",
     "exception": false,
     "start_time": "2022-03-29T16:47:10.734546",
     "status": "completed"
    },
    "tags": []
   },
   "outputs": [
    {
     "name": "stdout",
     "output_type": "stream",
     "text": [
      "Accuracy of the network on the 10000 test images: 51 %\n"
     ]
    }
   ],
   "source": [
    "correct = 0\n",
    "total = 0\n",
    "with torch.no_grad():\n",
    "    for data in testloader:\n",
    "        data = to_device(data, device)\n",
    "        images, labels = data\n",
    "        outputs = net(images)\n",
    "        _, predicted = torch.max(outputs.data, 1)\n",
    "        total += labels.size(0)\n",
    "        correct += (predicted == labels).sum().item()\n",
    "\n",
    "print(f'Accuracy of the network on the 10000 test images: {100 * correct // total} %')"
   ]
  },
  {
   "cell_type": "code",
   "execution_count": 13,
   "id": "b51f888f",
   "metadata": {
    "execution": {
     "iopub.execute_input": "2022-03-29T16:47:15.372154Z",
     "iopub.status.busy": "2022-03-29T16:47:15.371300Z",
     "iopub.status.idle": "2022-03-29T16:47:18.194869Z",
     "shell.execute_reply": "2022-03-29T16:47:18.194374Z",
     "shell.execute_reply.started": "2022-03-29T16:39:04.532045Z"
    },
    "papermill": {
     "duration": 3.655021,
     "end_time": "2022-03-29T16:47:18.195002",
     "exception": false,
     "start_time": "2022-03-29T16:47:14.539981",
     "status": "completed"
    },
    "tags": []
   },
   "outputs": [
    {
     "name": "stdout",
     "output_type": "stream",
     "text": [
      "Accuracy for class: plane is 47.7 %\n",
      "Accuracy for class: car   is 65.6 %\n",
      "Accuracy for class: bird  is 33.9 %\n",
      "Accuracy for class: cat   is 30.8 %\n",
      "Accuracy for class: deer  is 33.9 %\n",
      "Accuracy for class: dog   is 43.0 %\n",
      "Accuracy for class: frog  is 69.1 %\n",
      "Accuracy for class: horse is 58.5 %\n",
      "Accuracy for class: ship  is 70.5 %\n",
      "Accuracy for class: truck is 59.7 %\n"
     ]
    }
   ],
   "source": [
    "correct_pred = {classname: 0 for classname in classes}\n",
    "total_pred = {classname: 0 for classname in classes}\n",
    "\n",
    "with torch.no_grad():\n",
    "    for data in testloader:\n",
    "        data = to_device(data, device)\n",
    "        images, labels = data\n",
    "        outputs = net(images)\n",
    "        _, predictions = torch.max(outputs, 1)\n",
    "        for label, prediction in zip(labels, predictions):\n",
    "            if label == prediction:\n",
    "                correct_pred[classes[label]] += 1\n",
    "            total_pred[classes[label]] += 1\n",
    "\n",
    "for classname, correct_count in correct_pred.items():\n",
    "    accuracy = 100 * float(correct_count) / total_pred[classname]\n",
    "    print(f'Accuracy for class: {classname:5s} is {accuracy:.1f} %')"
   ]
  }
 ],
 "metadata": {
  "kernelspec": {
   "display_name": "Python 3",
   "language": "python",
   "name": "python3"
  },
  "language_info": {
   "codemirror_mode": {
    "name": "ipython",
    "version": 3
   },
   "file_extension": ".py",
   "mimetype": "text/x-python",
   "name": "python",
   "nbconvert_exporter": "python",
   "pygments_lexer": "ipython3",
   "version": "3.7.12"
  },
  "papermill": {
   "default_parameters": {},
   "duration": 399.316996,
   "end_time": "2022-03-29T16:47:20.532098",
   "environment_variables": {},
   "exception": null,
   "input_path": "__notebook__.ipynb",
   "output_path": "__notebook__.ipynb",
   "parameters": {},
   "start_time": "2022-03-29T16:40:41.215102",
   "version": "2.3.3"
  },
  "widgets": {
   "application/vnd.jupyter.widget-state+json": {
    "state": {
     "2c30cfb3f55240b682e23c4adb36f946": {
      "model_module": "@jupyter-widgets/base",
      "model_module_version": "1.2.0",
      "model_name": "LayoutModel",
      "state": {
       "_model_module": "@jupyter-widgets/base",
       "_model_module_version": "1.2.0",
       "_model_name": "LayoutModel",
       "_view_count": null,
       "_view_module": "@jupyter-widgets/base",
       "_view_module_version": "1.2.0",
       "_view_name": "LayoutView",
       "align_content": null,
       "align_items": null,
       "align_self": null,
       "border": null,
       "bottom": null,
       "display": null,
       "flex": null,
       "flex_flow": null,
       "grid_area": null,
       "grid_auto_columns": null,
       "grid_auto_flow": null,
       "grid_auto_rows": null,
       "grid_column": null,
       "grid_gap": null,
       "grid_row": null,
       "grid_template_areas": null,
       "grid_template_columns": null,
       "grid_template_rows": null,
       "height": null,
       "justify_content": null,
       "justify_items": null,
       "left": null,
       "margin": null,
       "max_height": null,
       "max_width": null,
       "min_height": null,
       "min_width": null,
       "object_fit": null,
       "object_position": null,
       "order": null,
       "overflow": null,
       "overflow_x": null,
       "overflow_y": null,
       "padding": null,
       "right": null,
       "top": null,
       "visibility": null,
       "width": null
      }
     },
     "3aff2eb3f0274d4bb7cff76702da9b5e": {
      "model_module": "@jupyter-widgets/controls",
      "model_module_version": "1.5.0",
      "model_name": "HTMLModel",
      "state": {
       "_dom_classes": [],
       "_model_module": "@jupyter-widgets/controls",
       "_model_module_version": "1.5.0",
       "_model_name": "HTMLModel",
       "_view_count": null,
       "_view_module": "@jupyter-widgets/controls",
       "_view_module_version": "1.5.0",
       "_view_name": "HTMLView",
       "description": "",
       "description_tooltip": null,
       "layout": "IPY_MODEL_a30ab14948bc45479fbd52ebfaa44223",
       "placeholder": "​",
       "style": "IPY_MODEL_7164f137818049509b7f5f4cc93cca13",
       "value": ""
      }
     },
     "3fc1ad40b2ca498f875ce12e31aa68a7": {
      "model_module": "@jupyter-widgets/controls",
      "model_module_version": "1.5.0",
      "model_name": "HBoxModel",
      "state": {
       "_dom_classes": [],
       "_model_module": "@jupyter-widgets/controls",
       "_model_module_version": "1.5.0",
       "_model_name": "HBoxModel",
       "_view_count": null,
       "_view_module": "@jupyter-widgets/controls",
       "_view_module_version": "1.5.0",
       "_view_name": "HBoxView",
       "box_style": "",
       "children": [
        "IPY_MODEL_3aff2eb3f0274d4bb7cff76702da9b5e",
        "IPY_MODEL_6c73fbfd6c0740989b3ee17618d281fa",
        "IPY_MODEL_e83cea1c831f471b9d963656a33c233c"
       ],
       "layout": "IPY_MODEL_d7bf0effaf3f4e85a48bc41036dec808"
      }
     },
     "4059a7964cee42448b5b214b2a61c465": {
      "model_module": "@jupyter-widgets/controls",
      "model_module_version": "1.5.0",
      "model_name": "ProgressStyleModel",
      "state": {
       "_model_module": "@jupyter-widgets/controls",
       "_model_module_version": "1.5.0",
       "_model_name": "ProgressStyleModel",
       "_view_count": null,
       "_view_module": "@jupyter-widgets/base",
       "_view_module_version": "1.2.0",
       "_view_name": "StyleView",
       "bar_color": null,
       "description_width": ""
      }
     },
     "47eba5ea09d4472e89b50545ff6017a8": {
      "model_module": "@jupyter-widgets/base",
      "model_module_version": "1.2.0",
      "model_name": "LayoutModel",
      "state": {
       "_model_module": "@jupyter-widgets/base",
       "_model_module_version": "1.2.0",
       "_model_name": "LayoutModel",
       "_view_count": null,
       "_view_module": "@jupyter-widgets/base",
       "_view_module_version": "1.2.0",
       "_view_name": "LayoutView",
       "align_content": null,
       "align_items": null,
       "align_self": null,
       "border": null,
       "bottom": null,
       "display": null,
       "flex": null,
       "flex_flow": null,
       "grid_area": null,
       "grid_auto_columns": null,
       "grid_auto_flow": null,
       "grid_auto_rows": null,
       "grid_column": null,
       "grid_gap": null,
       "grid_row": null,
       "grid_template_areas": null,
       "grid_template_columns": null,
       "grid_template_rows": null,
       "height": null,
       "justify_content": null,
       "justify_items": null,
       "left": null,
       "margin": null,
       "max_height": null,
       "max_width": null,
       "min_height": null,
       "min_width": null,
       "object_fit": null,
       "object_position": null,
       "order": null,
       "overflow": null,
       "overflow_x": null,
       "overflow_y": null,
       "padding": null,
       "right": null,
       "top": null,
       "visibility": null,
       "width": null
      }
     },
     "6405da14e32f48078e698b88160ff5b1": {
      "model_module": "@jupyter-widgets/controls",
      "model_module_version": "1.5.0",
      "model_name": "DescriptionStyleModel",
      "state": {
       "_model_module": "@jupyter-widgets/controls",
       "_model_module_version": "1.5.0",
       "_model_name": "DescriptionStyleModel",
       "_view_count": null,
       "_view_module": "@jupyter-widgets/base",
       "_view_module_version": "1.2.0",
       "_view_name": "StyleView",
       "description_width": ""
      }
     },
     "6c73fbfd6c0740989b3ee17618d281fa": {
      "model_module": "@jupyter-widgets/controls",
      "model_module_version": "1.5.0",
      "model_name": "FloatProgressModel",
      "state": {
       "_dom_classes": [],
       "_model_module": "@jupyter-widgets/controls",
       "_model_module_version": "1.5.0",
       "_model_name": "FloatProgressModel",
       "_view_count": null,
       "_view_module": "@jupyter-widgets/controls",
       "_view_module_version": "1.5.0",
       "_view_name": "ProgressView",
       "bar_style": "success",
       "description": "",
       "description_tooltip": null,
       "layout": "IPY_MODEL_2c30cfb3f55240b682e23c4adb36f946",
       "max": 170498071,
       "min": 0,
       "orientation": "horizontal",
       "style": "IPY_MODEL_4059a7964cee42448b5b214b2a61c465",
       "value": 170498071
      }
     },
     "7164f137818049509b7f5f4cc93cca13": {
      "model_module": "@jupyter-widgets/controls",
      "model_module_version": "1.5.0",
      "model_name": "DescriptionStyleModel",
      "state": {
       "_model_module": "@jupyter-widgets/controls",
       "_model_module_version": "1.5.0",
       "_model_name": "DescriptionStyleModel",
       "_view_count": null,
       "_view_module": "@jupyter-widgets/base",
       "_view_module_version": "1.2.0",
       "_view_name": "StyleView",
       "description_width": ""
      }
     },
     "a30ab14948bc45479fbd52ebfaa44223": {
      "model_module": "@jupyter-widgets/base",
      "model_module_version": "1.2.0",
      "model_name": "LayoutModel",
      "state": {
       "_model_module": "@jupyter-widgets/base",
       "_model_module_version": "1.2.0",
       "_model_name": "LayoutModel",
       "_view_count": null,
       "_view_module": "@jupyter-widgets/base",
       "_view_module_version": "1.2.0",
       "_view_name": "LayoutView",
       "align_content": null,
       "align_items": null,
       "align_self": null,
       "border": null,
       "bottom": null,
       "display": null,
       "flex": null,
       "flex_flow": null,
       "grid_area": null,
       "grid_auto_columns": null,
       "grid_auto_flow": null,
       "grid_auto_rows": null,
       "grid_column": null,
       "grid_gap": null,
       "grid_row": null,
       "grid_template_areas": null,
       "grid_template_columns": null,
       "grid_template_rows": null,
       "height": null,
       "justify_content": null,
       "justify_items": null,
       "left": null,
       "margin": null,
       "max_height": null,
       "max_width": null,
       "min_height": null,
       "min_width": null,
       "object_fit": null,
       "object_position": null,
       "order": null,
       "overflow": null,
       "overflow_x": null,
       "overflow_y": null,
       "padding": null,
       "right": null,
       "top": null,
       "visibility": null,
       "width": null
      }
     },
     "d7bf0effaf3f4e85a48bc41036dec808": {
      "model_module": "@jupyter-widgets/base",
      "model_module_version": "1.2.0",
      "model_name": "LayoutModel",
      "state": {
       "_model_module": "@jupyter-widgets/base",
       "_model_module_version": "1.2.0",
       "_model_name": "LayoutModel",
       "_view_count": null,
       "_view_module": "@jupyter-widgets/base",
       "_view_module_version": "1.2.0",
       "_view_name": "LayoutView",
       "align_content": null,
       "align_items": null,
       "align_self": null,
       "border": null,
       "bottom": null,
       "display": null,
       "flex": null,
       "flex_flow": null,
       "grid_area": null,
       "grid_auto_columns": null,
       "grid_auto_flow": null,
       "grid_auto_rows": null,
       "grid_column": null,
       "grid_gap": null,
       "grid_row": null,
       "grid_template_areas": null,
       "grid_template_columns": null,
       "grid_template_rows": null,
       "height": null,
       "justify_content": null,
       "justify_items": null,
       "left": null,
       "margin": null,
       "max_height": null,
       "max_width": null,
       "min_height": null,
       "min_width": null,
       "object_fit": null,
       "object_position": null,
       "order": null,
       "overflow": null,
       "overflow_x": null,
       "overflow_y": null,
       "padding": null,
       "right": null,
       "top": null,
       "visibility": null,
       "width": null
      }
     },
     "e83cea1c831f471b9d963656a33c233c": {
      "model_module": "@jupyter-widgets/controls",
      "model_module_version": "1.5.0",
      "model_name": "HTMLModel",
      "state": {
       "_dom_classes": [],
       "_model_module": "@jupyter-widgets/controls",
       "_model_module_version": "1.5.0",
       "_model_name": "HTMLModel",
       "_view_count": null,
       "_view_module": "@jupyter-widgets/controls",
       "_view_module_version": "1.5.0",
       "_view_name": "HTMLView",
       "description": "",
       "description_tooltip": null,
       "layout": "IPY_MODEL_47eba5ea09d4472e89b50545ff6017a8",
       "placeholder": "​",
       "style": "IPY_MODEL_6405da14e32f48078e698b88160ff5b1",
       "value": " 170499072/? [00:03&lt;00:00, 54878545.33it/s]"
      }
     }
    },
    "version_major": 2,
    "version_minor": 0
   }
  }
 },
 "nbformat": 4,
 "nbformat_minor": 5
}
