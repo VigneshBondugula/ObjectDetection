{
 "cells": [
  {
   "cell_type": "markdown",
   "id": "f672d0af",
   "metadata": {},
   "source": [
    "# Mini Project\n",
    "## 3C - Auto detection"
   ]
  },
  {
   "cell_type": "code",
   "execution_count": 2,
   "id": "246f8dc3",
   "metadata": {},
   "outputs": [],
   "source": [
    "import numpy as np\n",
    "import matplotlib.pyplot as plt\n",
    "import matplotlib.patches as patches\n",
    "\n",
    "import cv2\n",
    "import json\n",
    "from PIL import Image\n",
    "\n",
    "import torch\n",
    "import torch.nn as nn\n",
    "import torch.nn.functional as F\n",
    "from torch.utils.data import random_split\n",
    "\n",
    "from sklearn.model_selection import train_test_split\n",
    "\n",
    "import os\n",
    "from tqdm import tqdm"
   ]
  },
  {
   "cell_type": "markdown",
   "id": "b8e475ee",
   "metadata": {},
   "source": [
    "### Create text file annotations for each image   "
   ]
  },
  {
   "cell_type": "code",
   "execution_count": 23,
   "id": "bba435b6",
   "metadata": {},
   "outputs": [
    {
     "name": "stdout",
     "output_type": "stream",
     "text": [
      "/home/dhamodhar/Notes/Sem 6/VR/Graded Assignment 3\n"
     ]
    }
   ],
   "source": [
    "cd .."
   ]
  },
  {
   "cell_type": "code",
   "execution_count": 26,
   "id": "505e7197",
   "metadata": {},
   "outputs": [],
   "source": [
    "####### Converts a file filled with all image annotations to each annotation file for each image \n",
    "\n",
    "bbs = json.loads(open('./auto_det_chal_train_7oct/bbs/bbs.json').read())\n",
    "\n",
    "train_size = 700 \n",
    "val_size = 100\n",
    "\n",
    "##################### Training Images ####################\n",
    "for i in range(train_size):\n",
    "    im = Image.open('./auto_det_chal_train_7oct/images/'+ str(i) + '.jpg')\n",
    "    width, height = im.size #Image width and heights\n",
    "    boxes = bbs[i]\n",
    "\n",
    "    f = open('./auto_det_chal_train_7oct/data/labels/train/'+ str(i) + \".txt\", \"w\")\n",
    "    f.close()\n",
    "    \n",
    "    for j in range(len(boxes)):\n",
    "        x, y = boxes[j][0]                  # Top left cordinate of the box\n",
    "        h = abs(boxes[j][-1][1] - y)  # Height of the box\n",
    "        w = abs(boxes[j][1][0] - x)   # Weight of the box\n",
    "        if (x+w/2)/width < 0 or (x+w/2)/width > 1 or (y+h/2)/height < 0 or (y+h/2)/height > 1:\n",
    "            os.remove('./auto_det_chal_train_7oct/data/images/train/' + str(i) + '.jpg')\n",
    "            os.remove('./auto_det_chal_train_7oct/data/labels/train/' + str(i) + '.txt')\n",
    "            break\n",
    "        else:\n",
    "            f = open('./auto_det_chal_train_7oct/data/labels/train/'+ str(i) + \".txt\", \"a\")\n",
    "            f.write(f\"0 {(x+w/2)/width} {(y+h/2)/height} {w/width} {h/height}\\n\")\n",
    "            f.close()\n",
    "\n",
    "#################### Validation Images ####################\n",
    "for i in range(train_size,val_size + train_size):\n",
    "    im = Image.open('./auto_det_chal_train_7oct/images/'+ str(i) + '.jpg')\n",
    "    width, height = im.size\n",
    "    boxes = bbs[i]\n",
    "\n",
    "    f = open('./auto_det_chal_train_7oct/data/labels/val/'+ str(i) + \".txt\", \"w\")\n",
    "    f.close()\n",
    "    for j in range(len(boxes)):\n",
    "        x, y = boxes[j][0]\n",
    "        h = abs(boxes[j][-1][1] - y)\n",
    "        w = abs(boxes[j][1][0] - x)\n",
    "        if (x+w/2)/width < 0 or (x+w/2)/width > 1 or (y+h/2)/height < 0 or (y+h/2)/height > 1:\n",
    "            os.remove('./auto_det_chal_train_7oct/data/images/val/' + str(i) + '.jpg')\n",
    "            os.remove('./auto_det_chal_train_7oct/data/labels/val/' + str(i) + '.txt')\n",
    "            break\n",
    "        else:\n",
    "            f = open('./auto_det_chal_train_7oct/data/labels/val/'+ str(i) + \".txt\", \"a\")\n",
    "            f.write(f\"0 {(x+w/2)/width} {(y+h/2)/height} {w/width} {h/height}\\n\")\n",
    "            f.close()"
   ]
  },
  {
   "cell_type": "markdown",
   "id": "1af9a8c2",
   "metadata": {},
   "source": [
    "### Clone yolov5 algorithm from github and install requirements"
   ]
  },
  {
   "cell_type": "code",
   "execution_count": 13,
   "id": "582e317a",
   "metadata": {},
   "outputs": [],
   "source": [
    "# !git clone https://github.com/ultralytics/yolov5.git\n",
    "# !pip install -r requirements.txt"
   ]
  },
  {
   "cell_type": "markdown",
   "id": "f358b1d1",
   "metadata": {},
   "source": [
    "### Change durrent directory to yolov5 directory to start training"
   ]
  },
  {
   "cell_type": "code",
   "execution_count": 3,
   "id": "fb5a9d7c",
   "metadata": {},
   "outputs": [
    {
     "name": "stdout",
     "output_type": "stream",
     "text": [
      "/home/dhamodhar/Notes/Sem 6/VR/Graded Assignment 3/yolov5\n"
     ]
    }
   ],
   "source": [
    "%cd yolov5/"
   ]
  },
  {
   "cell_type": "markdown",
   "id": "35c45c0c",
   "metadata": {},
   "source": [
    "### Training"
   ]
  },
  {
   "cell_type": "code",
   "execution_count": 4,
   "id": "3cf5dc5f",
   "metadata": {},
   "outputs": [
    {
     "name": "stderr",
     "output_type": "stream",
     "text": [
      "\u001b[34m\u001b[1mwandb\u001b[0m: Currently logged in as: \u001b[33msrinivas_123\u001b[0m (use `wandb login --relogin` to force relogin)\n"
     ]
    },
    {
     "data": {
      "text/plain": [
       "True"
      ]
     },
     "execution_count": 4,
     "metadata": {},
     "output_type": "execute_result"
    }
   ],
   "source": [
    "# %pip install -q wandb\n",
    "import wandb\n",
    "wandb.login()"
   ]
  },
  {
   "cell_type": "code",
   "execution_count": 5,
   "id": "b29dad44",
   "metadata": {},
   "outputs": [],
   "source": [
    "torch.cuda.empty_cache()"
   ]
  },
  {
   "cell_type": "code",
   "execution_count": 6,
   "id": "82880f46",
   "metadata": {
    "scrolled": true
   },
   "outputs": [
    {
     "name": "stdout",
     "output_type": "stream",
     "text": [
      "\u001b[34m\u001b[1mwandb\u001b[0m: Currently logged in as: \u001b[33msrinivas_123\u001b[0m (use `wandb login --relogin` to force relogin)\n",
      "\u001b[34m\u001b[1mtrain: \u001b[0mweights=yolov5m.pt, cfg=./models/yolov5m.yaml, data=../auto_det_chal_train_7oct/data/auto.yaml, hyp=data/hyps/hyp.scratch-low.yaml, epochs=30, batch_size=4, imgsz=640, rect=False, resume=False, nosave=False, noval=False, noautoanchor=False, evolve=None, bucket=, cache=None, image_weights=False, device=, multi_scale=False, single_cls=False, optimizer=SGD, sync_bn=False, workers=8, project=runs/train, name=exp, exist_ok=False, quad=False, cos_lr=False, label_smoothing=0.0, patience=100, freeze=[0], save_period=-1, local_rank=-1, entity=None, upload_dataset=False, bbox_interval=-1, artifact_alias=latest\n",
      "\u001b[34m\u001b[1mgithub: \u001b[0m⚠️ YOLOv5 is out of date by 19 commits. Use `git pull` or `git clone https://github.com/ultralytics/yolov5` to update.\n",
      "fatal: cannot change to '/home/dhamodhar/Notes/Sem': No such file or directory\n",
      "YOLOv5 🚀 2022-3-22 torch 1.8.0 CUDA:0 (NVIDIA GeForce GTX 1050, 4042MiB)\n",
      "\n",
      "\u001b[34m\u001b[1mhyperparameters: \u001b[0mlr0=0.01, lrf=0.01, momentum=0.937, weight_decay=0.0005, warmup_epochs=3.0, warmup_momentum=0.8, warmup_bias_lr=0.1, box=0.05, cls=0.5, cls_pw=1.0, obj=1.0, obj_pw=1.0, iou_t=0.2, anchor_t=4.0, fl_gamma=0.0, hsv_h=0.015, hsv_s=0.7, hsv_v=0.4, degrees=0.0, translate=0.1, scale=0.5, shear=0.0, perspective=0.0, flipud=0.0, fliplr=0.5, mosaic=1.0, mixup=0.0, copy_paste=0.0\n",
      "\u001b[34m\u001b[1mTensorBoard: \u001b[0mStart with 'tensorboard --logdir runs/train', view at http://localhost:6006/\n",
      "\u001b[34m\u001b[1mwandb\u001b[0m: Tracking run with wandb version 0.12.11\n",
      "\u001b[34m\u001b[1mwandb\u001b[0m: Run data is saved locally in \u001b[35m\u001b[1m/home/dhamodhar/Notes/Sem 6/VR/Graded Assignment 3/yolov5/wandb/run-20220329_000515-61s8gikg\u001b[0m\n",
      "\u001b[34m\u001b[1mwandb\u001b[0m: Run \u001b[1m`wandb offline`\u001b[0m to turn off syncing.\n",
      "\u001b[34m\u001b[1mwandb\u001b[0m: Syncing run \u001b[33mchocolate-meadow-10\u001b[0m\n",
      "\u001b[34m\u001b[1mwandb\u001b[0m: ⭐️ View project at \u001b[34m\u001b[4mhttps://wandb.ai/srinivas_123/YOLOv5\u001b[0m\n",
      "\u001b[34m\u001b[1mwandb\u001b[0m: 🚀 View run at \u001b[34m\u001b[4mhttps://wandb.ai/srinivas_123/YOLOv5/runs/61s8gikg\u001b[0m\n",
      "Downloading https://github.com/ultralytics/yolov5/releases/download/v6.1/yolov5m.pt to yolov5m.pt...\n",
      "100%|██████████████████████████████████████| 40.8M/40.8M [00:02<00:00, 15.7MB/s]\n",
      "\n",
      "Overriding model.yaml nc=80 with nc=1\n",
      "\n",
      "                 from  n    params  module                                  arguments                     \n",
      "  0                -1  1      5280  models.common.Conv                      [3, 48, 6, 2, 2]              \n",
      "  1                -1  1     41664  models.common.Conv                      [48, 96, 3, 2]                \n",
      "  2                -1  2     65280  models.common.C3                        [96, 96, 2]                   \n",
      "  3                -1  1    166272  models.common.Conv                      [96, 192, 3, 2]               \n",
      "  4                -1  4    444672  models.common.C3                        [192, 192, 4]                 \n",
      "  5                -1  1    664320  models.common.Conv                      [192, 384, 3, 2]              \n",
      "  6                -1  6   2512896  models.common.C3                        [384, 384, 6]                 \n",
      "  7                -1  1   2655744  models.common.Conv                      [384, 768, 3, 2]              \n",
      "  8                -1  2   4134912  models.common.C3                        [768, 768, 2]                 \n",
      "  9                -1  1   1476864  models.common.SPPF                      [768, 768, 5]                 \n",
      " 10                -1  1    295680  models.common.Conv                      [768, 384, 1, 1]              \n",
      " 11                -1  1         0  torch.nn.modules.upsampling.Upsample    [None, 2, 'nearest']          \n",
      " 12           [-1, 6]  1         0  models.common.Concat                    [1]                           \n",
      " 13                -1  2   1182720  models.common.C3                        [768, 384, 2, False]          \n",
      " 14                -1  1     74112  models.common.Conv                      [384, 192, 1, 1]              \n",
      " 15                -1  1         0  torch.nn.modules.upsampling.Upsample    [None, 2, 'nearest']          \n",
      " 16           [-1, 4]  1         0  models.common.Concat                    [1]                           \n",
      " 17                -1  2    296448  models.common.C3                        [384, 192, 2, False]          \n",
      " 18                -1  1    332160  models.common.Conv                      [192, 192, 3, 2]              \n",
      " 19          [-1, 14]  1         0  models.common.Concat                    [1]                           \n",
      " 20                -1  2   1035264  models.common.C3                        [384, 384, 2, False]          \n",
      " 21                -1  1   1327872  models.common.Conv                      [384, 384, 3, 2]              \n",
      " 22          [-1, 10]  1         0  models.common.Concat                    [1]                           \n",
      " 23                -1  2   4134912  models.common.C3                        [768, 768, 2, False]          \n",
      " 24      [17, 20, 23]  1     24246  models.yolo.Detect                      [1, [[10, 13, 16, 30, 33, 23], [30, 61, 62, 45, 59, 119], [116, 90, 156, 198, 373, 326]], [192, 384, 768]]\n",
      "Model Summary: 369 layers, 20871318 parameters, 20871318 gradients, 48.0 GFLOPs\n",
      "\n",
      "Traceback (most recent call last):\n",
      "  File \"train.py\", line 630, in <module>\n",
      "    main(opt)\n",
      "  File \"train.py\", line 526, in main\n",
      "    train(opt.hyp, opt, device, callbacks)\n",
      "  File \"train.py\", line 111, in train\n",
      "    model = Model(cfg or ckpt['model'].yaml, ch=3, nc=nc, anchors=hyp.get('anchors')).to(device)  # create\n",
      "  File \"/home/dhamodhar/.local/lib/python3.8/site-packages/torch/nn/modules/module.py\", line 673, in to\n",
      "    return self._apply(convert)\n",
      "  File \"/home/dhamodhar/Notes/Sem 6/VR/Graded Assignment 3/yolov5/models/yolo.py\", line 233, in _apply\n",
      "    self = super()._apply(fn)\n",
      "  File \"/home/dhamodhar/.local/lib/python3.8/site-packages/torch/nn/modules/module.py\", line 387, in _apply\n",
      "    module._apply(fn)\n",
      "  File \"/home/dhamodhar/.local/lib/python3.8/site-packages/torch/nn/modules/module.py\", line 387, in _apply\n",
      "    module._apply(fn)\n",
      "  File \"/home/dhamodhar/.local/lib/python3.8/site-packages/torch/nn/modules/module.py\", line 387, in _apply\n",
      "    module._apply(fn)\n",
      "  File \"/home/dhamodhar/.local/lib/python3.8/site-packages/torch/nn/modules/module.py\", line 409, in _apply\n",
      "    param_applied = fn(param)\n",
      "  File \"/home/dhamodhar/.local/lib/python3.8/site-packages/torch/nn/modules/module.py\", line 671, in convert\n",
      "    return t.to(device, dtype if t.is_floating_point() or t.is_complex() else None, non_blocking)\n",
      "RuntimeError: CUDA error: out of memory\n",
      "Traceback (most recent call last):\n",
      "  File \"train.py\", line 630, in <module>\n",
      "    main(opt)\n",
      "  File \"train.py\", line 526, in main\n",
      "    train(opt.hyp, opt, device, callbacks)\n",
      "  File \"train.py\", line 111, in train\n",
      "    model = Model(cfg or ckpt['model'].yaml, ch=3, nc=nc, anchors=hyp.get('anchors')).to(device)  # create\n",
      "  File \"/home/dhamodhar/.local/lib/python3.8/site-packages/torch/nn/modules/module.py\", line 673, in to\n",
      "    return self._apply(convert)\n",
      "  File \"/home/dhamodhar/Notes/Sem 6/VR/Graded Assignment 3/yolov5/models/yolo.py\", line 233, in _apply\n",
      "    self = super()._apply(fn)\n",
      "  File \"/home/dhamodhar/.local/lib/python3.8/site-packages/torch/nn/modules/module.py\", line 387, in _apply\n",
      "    module._apply(fn)\n",
      "  File \"/home/dhamodhar/.local/lib/python3.8/site-packages/torch/nn/modules/module.py\", line 387, in _apply\n",
      "    module._apply(fn)\n",
      "  File \"/home/dhamodhar/.local/lib/python3.8/site-packages/torch/nn/modules/module.py\", line 387, in _apply\n",
      "    module._apply(fn)\n",
      "  File \"/home/dhamodhar/.local/lib/python3.8/site-packages/torch/nn/modules/module.py\", line 409, in _apply\n",
      "    param_applied = fn(param)\n",
      "  File \"/home/dhamodhar/.local/lib/python3.8/site-packages/torch/nn/modules/module.py\", line 671, in convert\n",
      "    return t.to(device, dtype if t.is_floating_point() or t.is_complex() else None, non_blocking)\n",
      "RuntimeError: CUDA error: out of memory\n",
      "\n",
      "\u001b[34m\u001b[1mwandb\u001b[0m: Waiting for W&B process to finish... \u001b[31m(failed 1).\u001b[0m Press Control-C to abort syncing.\n",
      "\u001b[34m\u001b[1mwandb\u001b[0m:                                                                                \n",
      "\u001b[34m\u001b[1mwandb\u001b[0m: Synced \u001b[33mchocolate-meadow-10\u001b[0m: \u001b[34m\u001b[4mhttps://wandb.ai/srinivas_123/YOLOv5/runs/61s8gikg\u001b[0m\n",
      "\u001b[34m\u001b[1mwandb\u001b[0m: Synced 5 W&B file(s), 0 media file(s), 0 artifact file(s) and 0 other file(s)\n",
      "\u001b[34m\u001b[1mwandb\u001b[0m: Find logs at: \u001b[35m\u001b[1m./wandb/run-20220329_000515-61s8gikg/logs\u001b[0m\n"
     ]
    }
   ],
   "source": [
    "%timeit\n",
    "!python3 train.py --img 640 --batch 4 --epochs 30 --workers 8 --cfg ./models/yolov5s.yaml --data ../auto_det_chal_train_7oct/data/auto.yaml --weights yolov5s.pt"
   ]
  },
  {
   "cell_type": "markdown",
   "id": "9d50f37d",
   "metadata": {},
   "source": [
    "### Plots"
   ]
  },
  {
   "cell_type": "code",
   "execution_count": 31,
   "id": "7d630b0f",
   "metadata": {
    "scrolled": true
   },
   "outputs": [
    {
     "data": {
      "text/plain": [
       "'/home/dhamodhar/Notes/Sem 6/VR/Graded Assignment 3/yolov5'"
      ]
     },
     "execution_count": 31,
     "metadata": {},
     "output_type": "execute_result"
    }
   ],
   "source": [
    "pwd"
   ]
  },
  {
   "cell_type": "markdown",
   "id": "4f04e1a2",
   "metadata": {},
   "source": [
    "### Testing on given dataset"
   ]
  },
  {
   "cell_type": "code",
   "execution_count": 35,
   "id": "730b36b6",
   "metadata": {
    "scrolled": true
   },
   "outputs": [
    {
     "name": "stdout",
     "output_type": "stream",
     "text": [
      "\u001b[34m\u001b[1mdetect: \u001b[0mweights=['./runs/train/exp43/weights/best.pt'], source=../auto_det_chal_train_7oct/data/images/test/, data=data/coco128.yaml, imgsz=[640, 640], conf_thres=0.4, iou_thres=0.45, max_det=1000, device=, view_img=False, save_txt=False, save_conf=False, save_crop=False, nosave=False, classes=None, agnostic_nms=False, augment=False, visualize=False, update=False, project=runs/detect, name=exp, exist_ok=False, line_thickness=3, hide_labels=False, hide_conf=False, half=False, dnn=False\n",
      "fatal: cannot change to '/home/dhamodhar/Notes/Sem': No such file or directory\n",
      "YOLOv5 🚀 2022-3-22 torch 1.8.0 CUDA:0 (NVIDIA GeForce GTX 1050, 4042MiB)\n",
      "\n",
      "Fusing layers... \n",
      "Model Summary: 213 layers, 7012822 parameters, 0 gradients, 15.8 GFLOPs\n",
      "image 1/152 /home/dhamodhar/Notes/Sem 6/VR/Graded Assignment 3/auto_det_chal_train_7oct/data/images/test/Datacluster Auto (1).jpg: 640x480 Done. (0.023s)\n",
      "image 2/152 /home/dhamodhar/Notes/Sem 6/VR/Graded Assignment 3/auto_det_chal_train_7oct/data/images/test/Datacluster Auto (10).jpg: 640x480 Done. (0.018s)\n",
      "image 3/152 /home/dhamodhar/Notes/Sem 6/VR/Graded Assignment 3/auto_det_chal_train_7oct/data/images/test/Datacluster Auto (100).jpg: 640x480 1 auto, Done. (0.023s)\n",
      "image 4/152 /home/dhamodhar/Notes/Sem 6/VR/Graded Assignment 3/auto_det_chal_train_7oct/data/images/test/Datacluster Auto (101).jpg: 640x480 1 auto, Done. (0.018s)\n",
      "image 5/152 /home/dhamodhar/Notes/Sem 6/VR/Graded Assignment 3/auto_det_chal_train_7oct/data/images/test/Datacluster Auto (102).jpg: 640x480 1 auto, Done. (0.018s)\n",
      "image 6/152 /home/dhamodhar/Notes/Sem 6/VR/Graded Assignment 3/auto_det_chal_train_7oct/data/images/test/Datacluster Auto (103).jpg: 640x480 1 auto, Done. (0.018s)\n",
      "image 7/152 /home/dhamodhar/Notes/Sem 6/VR/Graded Assignment 3/auto_det_chal_train_7oct/data/images/test/Datacluster Auto (104).jpg: 640x480 1 auto, Done. (0.018s)\n",
      "image 8/152 /home/dhamodhar/Notes/Sem 6/VR/Graded Assignment 3/auto_det_chal_train_7oct/data/images/test/Datacluster Auto (105).jpg: 640x480 Done. (0.018s)\n",
      "image 9/152 /home/dhamodhar/Notes/Sem 6/VR/Graded Assignment 3/auto_det_chal_train_7oct/data/images/test/Datacluster Auto (106).jpg: 640x480 Done. (0.018s)\n",
      "image 10/152 /home/dhamodhar/Notes/Sem 6/VR/Graded Assignment 3/auto_det_chal_train_7oct/data/images/test/Datacluster Auto (107).jpg: 640x480 1 auto, Done. (0.019s)\n",
      "image 11/152 /home/dhamodhar/Notes/Sem 6/VR/Graded Assignment 3/auto_det_chal_train_7oct/data/images/test/Datacluster Auto (108).jpg: 640x480 1 auto, Done. (0.018s)\n",
      "image 12/152 /home/dhamodhar/Notes/Sem 6/VR/Graded Assignment 3/auto_det_chal_train_7oct/data/images/test/Datacluster Auto (109).jpg: 640x480 1 auto, Done. (0.018s)\n",
      "image 13/152 /home/dhamodhar/Notes/Sem 6/VR/Graded Assignment 3/auto_det_chal_train_7oct/data/images/test/Datacluster Auto (11).jpg: 640x480 1 auto, Done. (0.018s)\n",
      "image 14/152 /home/dhamodhar/Notes/Sem 6/VR/Graded Assignment 3/auto_det_chal_train_7oct/data/images/test/Datacluster Auto (110).jpg: 640x480 1 auto, Done. (0.020s)\n",
      "image 15/152 /home/dhamodhar/Notes/Sem 6/VR/Graded Assignment 3/auto_det_chal_train_7oct/data/images/test/Datacluster Auto (111).jpg: 640x480 1 auto, Done. (0.018s)\n",
      "image 16/152 /home/dhamodhar/Notes/Sem 6/VR/Graded Assignment 3/auto_det_chal_train_7oct/data/images/test/Datacluster Auto (112).jpg: 640x640 2 autos, Done. (0.024s)\n",
      "image 17/152 /home/dhamodhar/Notes/Sem 6/VR/Graded Assignment 3/auto_det_chal_train_7oct/data/images/test/Datacluster Auto (113).jpg: 640x640 4 autos, Done. (0.024s)\n",
      "image 18/152 /home/dhamodhar/Notes/Sem 6/VR/Graded Assignment 3/auto_det_chal_train_7oct/data/images/test/Datacluster Auto (114).jpg: 640x480 1 auto, Done. (0.023s)\n",
      "image 19/152 /home/dhamodhar/Notes/Sem 6/VR/Graded Assignment 3/auto_det_chal_train_7oct/data/images/test/Datacluster Auto (115).jpg: 640x480 1 auto, Done. (0.018s)\n",
      "image 20/152 /home/dhamodhar/Notes/Sem 6/VR/Graded Assignment 3/auto_det_chal_train_7oct/data/images/test/Datacluster Auto (116).jpg: 640x480 1 auto, Done. (0.018s)\n",
      "image 21/152 /home/dhamodhar/Notes/Sem 6/VR/Graded Assignment 3/auto_det_chal_train_7oct/data/images/test/Datacluster Auto (117).jpg: 640x480 1 auto, Done. (0.018s)\n",
      "image 22/152 /home/dhamodhar/Notes/Sem 6/VR/Graded Assignment 3/auto_det_chal_train_7oct/data/images/test/Datacluster Auto (118).jpg: 640x480 1 auto, Done. (0.019s)\n",
      "image 23/152 /home/dhamodhar/Notes/Sem 6/VR/Graded Assignment 3/auto_det_chal_train_7oct/data/images/test/Datacluster Auto (119).jpg: 640x320 1 auto, Done. (0.014s)\n",
      "image 24/152 /home/dhamodhar/Notes/Sem 6/VR/Graded Assignment 3/auto_det_chal_train_7oct/data/images/test/Datacluster Auto (12).jpg: 640x480 1 auto, Done. (0.018s)\n",
      "image 25/152 /home/dhamodhar/Notes/Sem 6/VR/Graded Assignment 3/auto_det_chal_train_7oct/data/images/test/Datacluster Auto (120).jpg: 640x480 5 autos, Done. (0.018s)\n",
      "image 26/152 /home/dhamodhar/Notes/Sem 6/VR/Graded Assignment 3/auto_det_chal_train_7oct/data/images/test/Datacluster Auto (121).jpg: 640x480 Done. (0.018s)\n",
      "image 27/152 /home/dhamodhar/Notes/Sem 6/VR/Graded Assignment 3/auto_det_chal_train_7oct/data/images/test/Datacluster Auto (122).jpg: 640x480 5 autos, Done. (0.018s)\n",
      "image 28/152 /home/dhamodhar/Notes/Sem 6/VR/Graded Assignment 3/auto_det_chal_train_7oct/data/images/test/Datacluster Auto (123).jpg: 640x480 Done. (0.018s)\n",
      "image 29/152 /home/dhamodhar/Notes/Sem 6/VR/Graded Assignment 3/auto_det_chal_train_7oct/data/images/test/Datacluster Auto (124).jpg: 640x480 1 auto, Done. (0.018s)\n",
      "image 30/152 /home/dhamodhar/Notes/Sem 6/VR/Graded Assignment 3/auto_det_chal_train_7oct/data/images/test/Datacluster Auto (125).jpg: 640x480 1 auto, Done. (0.018s)\n",
      "image 31/152 /home/dhamodhar/Notes/Sem 6/VR/Graded Assignment 3/auto_det_chal_train_7oct/data/images/test/Datacluster Auto (126).jpg: 640x480 1 auto, Done. (0.018s)\n",
      "image 32/152 /home/dhamodhar/Notes/Sem 6/VR/Graded Assignment 3/auto_det_chal_train_7oct/data/images/test/Datacluster Auto (127).jpg: 640x480 1 auto, Done. (0.018s)\n",
      "image 33/152 /home/dhamodhar/Notes/Sem 6/VR/Graded Assignment 3/auto_det_chal_train_7oct/data/images/test/Datacluster Auto (128).jpg: 640x480 1 auto, Done. (0.018s)\n",
      "image 34/152 /home/dhamodhar/Notes/Sem 6/VR/Graded Assignment 3/auto_det_chal_train_7oct/data/images/test/Datacluster Auto (129).jpg: 640x320 1 auto, Done. (0.014s)\n",
      "image 35/152 /home/dhamodhar/Notes/Sem 6/VR/Graded Assignment 3/auto_det_chal_train_7oct/data/images/test/Datacluster Auto (13).jpg: 640x480 1 auto, Done. (0.018s)\n",
      "image 36/152 /home/dhamodhar/Notes/Sem 6/VR/Graded Assignment 3/auto_det_chal_train_7oct/data/images/test/Datacluster Auto (131).jpg: 640x480 1 auto, Done. (0.023s)\n",
      "image 37/152 /home/dhamodhar/Notes/Sem 6/VR/Graded Assignment 3/auto_det_chal_train_7oct/data/images/test/Datacluster Auto (132).jpg: 640x480 Done. (0.019s)\n",
      "image 38/152 /home/dhamodhar/Notes/Sem 6/VR/Graded Assignment 3/auto_det_chal_train_7oct/data/images/test/Datacluster Auto (133).jpg: 640x480 1 auto, Done. (0.018s)\n",
      "image 39/152 /home/dhamodhar/Notes/Sem 6/VR/Graded Assignment 3/auto_det_chal_train_7oct/data/images/test/Datacluster Auto (134).jpg: 640x384 Done. (0.015s)\n",
      "image 40/152 /home/dhamodhar/Notes/Sem 6/VR/Graded Assignment 3/auto_det_chal_train_7oct/data/images/test/Datacluster Auto (135).jpg: 640x480 1 auto, Done. (0.019s)\n",
      "image 41/152 /home/dhamodhar/Notes/Sem 6/VR/Graded Assignment 3/auto_det_chal_train_7oct/data/images/test/Datacluster Auto (136).jpg: 640x480 2 autos, Done. (0.018s)\n",
      "image 42/152 /home/dhamodhar/Notes/Sem 6/VR/Graded Assignment 3/auto_det_chal_train_7oct/data/images/test/Datacluster Auto (138).jpg: 640x480 Done. (0.018s)\n",
      "image 43/152 /home/dhamodhar/Notes/Sem 6/VR/Graded Assignment 3/auto_det_chal_train_7oct/data/images/test/Datacluster Auto (139).jpg: 640x480 1 auto, Done. (0.018s)\n",
      "image 44/152 /home/dhamodhar/Notes/Sem 6/VR/Graded Assignment 3/auto_det_chal_train_7oct/data/images/test/Datacluster Auto (14).jpg: 640x480 1 auto, Done. (0.018s)\n",
      "image 45/152 /home/dhamodhar/Notes/Sem 6/VR/Graded Assignment 3/auto_det_chal_train_7oct/data/images/test/Datacluster Auto (140).jpg: 640x480 1 auto, Done. (0.021s)\n",
      "image 46/152 /home/dhamodhar/Notes/Sem 6/VR/Graded Assignment 3/auto_det_chal_train_7oct/data/images/test/Datacluster Auto (141).jpg: 640x480 Done. (0.021s)\n"
     ]
    },
    {
     "name": "stdout",
     "output_type": "stream",
     "text": [
      "image 47/152 /home/dhamodhar/Notes/Sem 6/VR/Graded Assignment 3/auto_det_chal_train_7oct/data/images/test/Datacluster Auto (143).jpg: 640x480 3 autos, Done. (0.021s)\n",
      "image 48/152 /home/dhamodhar/Notes/Sem 6/VR/Graded Assignment 3/auto_det_chal_train_7oct/data/images/test/Datacluster Auto (144).jpg: 640x480 2 autos, Done. (0.018s)\n",
      "image 49/152 /home/dhamodhar/Notes/Sem 6/VR/Graded Assignment 3/auto_det_chal_train_7oct/data/images/test/Datacluster Auto (145).jpg: 640x480 Done. (0.018s)\n",
      "image 50/152 /home/dhamodhar/Notes/Sem 6/VR/Graded Assignment 3/auto_det_chal_train_7oct/data/images/test/Datacluster Auto (146).jpg: 640x480 1 auto, Done. (0.019s)\n",
      "image 51/152 /home/dhamodhar/Notes/Sem 6/VR/Graded Assignment 3/auto_det_chal_train_7oct/data/images/test/Datacluster Auto (147).jpg: 640x480 1 auto, Done. (0.021s)\n",
      "image 52/152 /home/dhamodhar/Notes/Sem 6/VR/Graded Assignment 3/auto_det_chal_train_7oct/data/images/test/Datacluster Auto (148).jpg: 640x480 3 autos, Done. (0.018s)\n",
      "image 53/152 /home/dhamodhar/Notes/Sem 6/VR/Graded Assignment 3/auto_det_chal_train_7oct/data/images/test/Datacluster Auto (149).jpg: 640x480 1 auto, Done. (0.018s)\n",
      "image 54/152 /home/dhamodhar/Notes/Sem 6/VR/Graded Assignment 3/auto_det_chal_train_7oct/data/images/test/Datacluster Auto (15).jpg: 640x480 2 autos, Done. (0.018s)\n",
      "image 55/152 /home/dhamodhar/Notes/Sem 6/VR/Graded Assignment 3/auto_det_chal_train_7oct/data/images/test/Datacluster Auto (150).jpg: 640x480 Done. (0.018s)\n",
      "image 56/152 /home/dhamodhar/Notes/Sem 6/VR/Graded Assignment 3/auto_det_chal_train_7oct/data/images/test/Datacluster Auto (151).jpg: 640x480 1 auto, Done. (0.018s)\n",
      "image 57/152 /home/dhamodhar/Notes/Sem 6/VR/Graded Assignment 3/auto_det_chal_train_7oct/data/images/test/Datacluster Auto (152).jpg: 640x480 3 autos, Done. (0.018s)\n",
      "image 58/152 /home/dhamodhar/Notes/Sem 6/VR/Graded Assignment 3/auto_det_chal_train_7oct/data/images/test/Datacluster Auto (153).jpg: 640x480 2 autos, Done. (0.018s)\n",
      "image 59/152 /home/dhamodhar/Notes/Sem 6/VR/Graded Assignment 3/auto_det_chal_train_7oct/data/images/test/Datacluster Auto (154).jpg: 640x480 6 autos, Done. (0.018s)\n",
      "image 60/152 /home/dhamodhar/Notes/Sem 6/VR/Graded Assignment 3/auto_det_chal_train_7oct/data/images/test/Datacluster Auto (155).jpg: 640x480 1 auto, Done. (0.020s)\n",
      "image 61/152 /home/dhamodhar/Notes/Sem 6/VR/Graded Assignment 3/auto_det_chal_train_7oct/data/images/test/Datacluster Auto (156).jpg: 640x480 1 auto, Done. (0.019s)\n",
      "image 62/152 /home/dhamodhar/Notes/Sem 6/VR/Graded Assignment 3/auto_det_chal_train_7oct/data/images/test/Datacluster Auto (16).jpg: 640x480 2 autos, Done. (0.018s)\n",
      "image 63/152 /home/dhamodhar/Notes/Sem 6/VR/Graded Assignment 3/auto_det_chal_train_7oct/data/images/test/Datacluster Auto (17).jpg: 640x480 Done. (0.018s)\n",
      "image 64/152 /home/dhamodhar/Notes/Sem 6/VR/Graded Assignment 3/auto_det_chal_train_7oct/data/images/test/Datacluster Auto (18).jpg: 640x480 1 auto, Done. (0.018s)\n",
      "image 65/152 /home/dhamodhar/Notes/Sem 6/VR/Graded Assignment 3/auto_det_chal_train_7oct/data/images/test/Datacluster Auto (19).jpg: 640x480 3 autos, Done. (0.018s)\n",
      "image 66/152 /home/dhamodhar/Notes/Sem 6/VR/Graded Assignment 3/auto_det_chal_train_7oct/data/images/test/Datacluster Auto (2).jpg: 640x480 1 auto, Done. (0.018s)\n",
      "image 67/152 /home/dhamodhar/Notes/Sem 6/VR/Graded Assignment 3/auto_det_chal_train_7oct/data/images/test/Datacluster Auto (20).jpg: 640x480 1 auto, Done. (0.018s)\n",
      "image 68/152 /home/dhamodhar/Notes/Sem 6/VR/Graded Assignment 3/auto_det_chal_train_7oct/data/images/test/Datacluster Auto (21).jpg: 640x480 1 auto, Done. (0.018s)\n",
      "image 69/152 /home/dhamodhar/Notes/Sem 6/VR/Graded Assignment 3/auto_det_chal_train_7oct/data/images/test/Datacluster Auto (22).jpg: 640x480 2 autos, Done. (0.018s)\n",
      "image 70/152 /home/dhamodhar/Notes/Sem 6/VR/Graded Assignment 3/auto_det_chal_train_7oct/data/images/test/Datacluster Auto (23).jpg: 640x480 Done. (0.018s)\n",
      "image 71/152 /home/dhamodhar/Notes/Sem 6/VR/Graded Assignment 3/auto_det_chal_train_7oct/data/images/test/Datacluster Auto (24).jpg: 640x480 2 autos, Done. (0.018s)\n",
      "image 72/152 /home/dhamodhar/Notes/Sem 6/VR/Graded Assignment 3/auto_det_chal_train_7oct/data/images/test/Datacluster Auto (25).jpg: 640x480 4 autos, Done. (0.018s)\n",
      "image 73/152 /home/dhamodhar/Notes/Sem 6/VR/Graded Assignment 3/auto_det_chal_train_7oct/data/images/test/Datacluster Auto (26).jpg: 640x480 1 auto, Done. (0.018s)\n",
      "image 74/152 /home/dhamodhar/Notes/Sem 6/VR/Graded Assignment 3/auto_det_chal_train_7oct/data/images/test/Datacluster Auto (27).jpg: 640x480 1 auto, Done. (0.019s)\n",
      "image 75/152 /home/dhamodhar/Notes/Sem 6/VR/Graded Assignment 3/auto_det_chal_train_7oct/data/images/test/Datacluster Auto (28).jpg: 640x480 1 auto, Done. (0.018s)\n",
      "image 76/152 /home/dhamodhar/Notes/Sem 6/VR/Graded Assignment 3/auto_det_chal_train_7oct/data/images/test/Datacluster Auto (29).jpg: 640x480 1 auto, Done. (0.018s)\n",
      "image 77/152 /home/dhamodhar/Notes/Sem 6/VR/Graded Assignment 3/auto_det_chal_train_7oct/data/images/test/Datacluster Auto (3).jpg: 640x480 1 auto, Done. (0.018s)\n",
      "image 78/152 /home/dhamodhar/Notes/Sem 6/VR/Graded Assignment 3/auto_det_chal_train_7oct/data/images/test/Datacluster Auto (30).jpg: 640x480 1 auto, Done. (0.018s)\n",
      "image 79/152 /home/dhamodhar/Notes/Sem 6/VR/Graded Assignment 3/auto_det_chal_train_7oct/data/images/test/Datacluster Auto (31).jpg: 640x480 1 auto, Done. (0.018s)\n",
      "image 80/152 /home/dhamodhar/Notes/Sem 6/VR/Graded Assignment 3/auto_det_chal_train_7oct/data/images/test/Datacluster Auto (32).jpg: 640x480 1 auto, Done. (0.018s)\n",
      "image 81/152 /home/dhamodhar/Notes/Sem 6/VR/Graded Assignment 3/auto_det_chal_train_7oct/data/images/test/Datacluster Auto (33).jpg: 640x480 4 autos, Done. (0.018s)\n",
      "image 82/152 /home/dhamodhar/Notes/Sem 6/VR/Graded Assignment 3/auto_det_chal_train_7oct/data/images/test/Datacluster Auto (34).jpg: 640x480 2 autos, Done. (0.018s)\n",
      "image 83/152 /home/dhamodhar/Notes/Sem 6/VR/Graded Assignment 3/auto_det_chal_train_7oct/data/images/test/Datacluster Auto (35).jpg: 640x480 1 auto, Done. (0.018s)\n",
      "image 84/152 /home/dhamodhar/Notes/Sem 6/VR/Graded Assignment 3/auto_det_chal_train_7oct/data/images/test/Datacluster Auto (36).jpg: 640x480 1 auto, Done. (0.019s)\n",
      "image 85/152 /home/dhamodhar/Notes/Sem 6/VR/Graded Assignment 3/auto_det_chal_train_7oct/data/images/test/Datacluster Auto (37).jpg: 640x480 8 autos, Done. (0.018s)\n",
      "image 86/152 /home/dhamodhar/Notes/Sem 6/VR/Graded Assignment 3/auto_det_chal_train_7oct/data/images/test/Datacluster Auto (38).jpg: 640x480 2 autos, Done. (0.018s)\n",
      "image 87/152 /home/dhamodhar/Notes/Sem 6/VR/Graded Assignment 3/auto_det_chal_train_7oct/data/images/test/Datacluster Auto (39).jpg: 640x480 1 auto, Done. (0.018s)\n",
      "image 88/152 /home/dhamodhar/Notes/Sem 6/VR/Graded Assignment 3/auto_det_chal_train_7oct/data/images/test/Datacluster Auto (4).jpg: 640x480 1 auto, Done. (0.018s)\n",
      "image 89/152 /home/dhamodhar/Notes/Sem 6/VR/Graded Assignment 3/auto_det_chal_train_7oct/data/images/test/Datacluster Auto (40).jpg: 640x480 1 auto, Done. (0.018s)\n",
      "image 90/152 /home/dhamodhar/Notes/Sem 6/VR/Graded Assignment 3/auto_det_chal_train_7oct/data/images/test/Datacluster Auto (41).jpg: 640x480 1 auto, Done. (0.018s)\n",
      "image 91/152 /home/dhamodhar/Notes/Sem 6/VR/Graded Assignment 3/auto_det_chal_train_7oct/data/images/test/Datacluster Auto (42).jpg: 640x480 1 auto, Done. (0.018s)\n",
      "image 92/152 /home/dhamodhar/Notes/Sem 6/VR/Graded Assignment 3/auto_det_chal_train_7oct/data/images/test/Datacluster Auto (43).jpg: 640x480 1 auto, Done. (0.020s)\n",
      "image 93/152 /home/dhamodhar/Notes/Sem 6/VR/Graded Assignment 3/auto_det_chal_train_7oct/data/images/test/Datacluster Auto (44).jpg: 640x480 1 auto, Done. (0.018s)\n",
      "image 94/152 /home/dhamodhar/Notes/Sem 6/VR/Graded Assignment 3/auto_det_chal_train_7oct/data/images/test/Datacluster Auto (45).jpg: 640x480 1 auto, Done. (0.018s)\n",
      "image 95/152 /home/dhamodhar/Notes/Sem 6/VR/Graded Assignment 3/auto_det_chal_train_7oct/data/images/test/Datacluster Auto (46).jpg: 640x480 1 auto, Done. (0.018s)\n",
      "image 96/152 /home/dhamodhar/Notes/Sem 6/VR/Graded Assignment 3/auto_det_chal_train_7oct/data/images/test/Datacluster Auto (47).jpg: 640x480 1 auto, Done. (0.018s)\n"
     ]
    },
    {
     "name": "stdout",
     "output_type": "stream",
     "text": [
      "image 97/152 /home/dhamodhar/Notes/Sem 6/VR/Graded Assignment 3/auto_det_chal_train_7oct/data/images/test/Datacluster Auto (48).jpg: 640x480 Done. (0.018s)\n",
      "image 98/152 /home/dhamodhar/Notes/Sem 6/VR/Graded Assignment 3/auto_det_chal_train_7oct/data/images/test/Datacluster Auto (49).jpg: 640x480 Done. (0.018s)\n",
      "image 99/152 /home/dhamodhar/Notes/Sem 6/VR/Graded Assignment 3/auto_det_chal_train_7oct/data/images/test/Datacluster Auto (50).jpg: 640x480 1 auto, Done. (0.018s)\n",
      "image 100/152 /home/dhamodhar/Notes/Sem 6/VR/Graded Assignment 3/auto_det_chal_train_7oct/data/images/test/Datacluster Auto (51).jpg: 640x480 1 auto, Done. (0.018s)\n",
      "image 101/152 /home/dhamodhar/Notes/Sem 6/VR/Graded Assignment 3/auto_det_chal_train_7oct/data/images/test/Datacluster Auto (52).jpg: 640x480 Done. (0.020s)\n",
      "image 102/152 /home/dhamodhar/Notes/Sem 6/VR/Graded Assignment 3/auto_det_chal_train_7oct/data/images/test/Datacluster Auto (53).jpg: 640x480 Done. (0.018s)\n",
      "image 103/152 /home/dhamodhar/Notes/Sem 6/VR/Graded Assignment 3/auto_det_chal_train_7oct/data/images/test/Datacluster Auto (54).jpg: 640x480 1 auto, Done. (0.018s)\n",
      "image 104/152 /home/dhamodhar/Notes/Sem 6/VR/Graded Assignment 3/auto_det_chal_train_7oct/data/images/test/Datacluster Auto (55).jpg: 640x480 1 auto, Done. (0.018s)\n",
      "image 105/152 /home/dhamodhar/Notes/Sem 6/VR/Graded Assignment 3/auto_det_chal_train_7oct/data/images/test/Datacluster Auto (56).jpg: 640x480 4 autos, Done. (0.020s)\n",
      "image 106/152 /home/dhamodhar/Notes/Sem 6/VR/Graded Assignment 3/auto_det_chal_train_7oct/data/images/test/Datacluster Auto (57).jpg: 640x480 3 autos, Done. (0.021s)\n",
      "image 107/152 /home/dhamodhar/Notes/Sem 6/VR/Graded Assignment 3/auto_det_chal_train_7oct/data/images/test/Datacluster Auto (58).jpg: 640x480 2 autos, Done. (0.018s)\n",
      "image 108/152 /home/dhamodhar/Notes/Sem 6/VR/Graded Assignment 3/auto_det_chal_train_7oct/data/images/test/Datacluster Auto (59).jpg: 640x480 1 auto, Done. (0.018s)\n",
      "image 109/152 /home/dhamodhar/Notes/Sem 6/VR/Graded Assignment 3/auto_det_chal_train_7oct/data/images/test/Datacluster Auto (6).jpg: 640x480 Done. (0.020s)\n",
      "image 110/152 /home/dhamodhar/Notes/Sem 6/VR/Graded Assignment 3/auto_det_chal_train_7oct/data/images/test/Datacluster Auto (60).jpg: 640x480 Done. (0.018s)\n",
      "Premature end of JPEG file\n",
      "image 111/152 /home/dhamodhar/Notes/Sem 6/VR/Graded Assignment 3/auto_det_chal_train_7oct/data/images/test/Datacluster Auto (61).jpg: 640x480 1 auto, Done. (0.018s)\n",
      "image 112/152 /home/dhamodhar/Notes/Sem 6/VR/Graded Assignment 3/auto_det_chal_train_7oct/data/images/test/Datacluster Auto (62).jpg: 640x480 1 auto, Done. (0.018s)\n",
      "image 113/152 /home/dhamodhar/Notes/Sem 6/VR/Graded Assignment 3/auto_det_chal_train_7oct/data/images/test/Datacluster Auto (63).jpg: 640x480 2 autos, Done. (0.018s)\n",
      "image 114/152 /home/dhamodhar/Notes/Sem 6/VR/Graded Assignment 3/auto_det_chal_train_7oct/data/images/test/Datacluster Auto (64).jpg: 640x480 1 auto, Done. (0.018s)\n",
      "image 115/152 /home/dhamodhar/Notes/Sem 6/VR/Graded Assignment 3/auto_det_chal_train_7oct/data/images/test/Datacluster Auto (65).jpg: 640x480 1 auto, Done. (0.021s)\n",
      "image 116/152 /home/dhamodhar/Notes/Sem 6/VR/Graded Assignment 3/auto_det_chal_train_7oct/data/images/test/Datacluster Auto (66).jpg: 640x480 5 autos, Done. (0.018s)\n",
      "image 117/152 /home/dhamodhar/Notes/Sem 6/VR/Graded Assignment 3/auto_det_chal_train_7oct/data/images/test/Datacluster Auto (67).jpg: 640x384 1 auto, Done. (0.015s)\n",
      "image 118/152 /home/dhamodhar/Notes/Sem 6/VR/Graded Assignment 3/auto_det_chal_train_7oct/data/images/test/Datacluster Auto (68).jpg: 640x480 1 auto, Done. (0.018s)\n",
      "image 119/152 /home/dhamodhar/Notes/Sem 6/VR/Graded Assignment 3/auto_det_chal_train_7oct/data/images/test/Datacluster Auto (69).jpg: 640x480 1 auto, Done. (0.018s)\n",
      "image 120/152 /home/dhamodhar/Notes/Sem 6/VR/Graded Assignment 3/auto_det_chal_train_7oct/data/images/test/Datacluster Auto (7).jpg: 640x640 3 autos, Done. (0.024s)\n",
      "image 121/152 /home/dhamodhar/Notes/Sem 6/VR/Graded Assignment 3/auto_det_chal_train_7oct/data/images/test/Datacluster Auto (70).jpg: 640x480 Done. (0.018s)\n",
      "image 122/152 /home/dhamodhar/Notes/Sem 6/VR/Graded Assignment 3/auto_det_chal_train_7oct/data/images/test/Datacluster Auto (71).jpg: 640x480 2 autos, Done. (0.018s)\n",
      "image 123/152 /home/dhamodhar/Notes/Sem 6/VR/Graded Assignment 3/auto_det_chal_train_7oct/data/images/test/Datacluster Auto (72).jpg: 640x480 2 autos, Done. (0.020s)\n",
      "image 124/152 /home/dhamodhar/Notes/Sem 6/VR/Graded Assignment 3/auto_det_chal_train_7oct/data/images/test/Datacluster Auto (73).jpg: 640x480 1 auto, Done. (0.018s)\n",
      "image 125/152 /home/dhamodhar/Notes/Sem 6/VR/Graded Assignment 3/auto_det_chal_train_7oct/data/images/test/Datacluster Auto (74).jpg: 640x480 Done. (0.018s)\n",
      "image 126/152 /home/dhamodhar/Notes/Sem 6/VR/Graded Assignment 3/auto_det_chal_train_7oct/data/images/test/Datacluster Auto (75).jpg: 640x480 2 autos, Done. (0.018s)\n",
      "image 127/152 /home/dhamodhar/Notes/Sem 6/VR/Graded Assignment 3/auto_det_chal_train_7oct/data/images/test/Datacluster Auto (76).jpg: 640x480 1 auto, Done. (0.018s)\n",
      "image 128/152 /home/dhamodhar/Notes/Sem 6/VR/Graded Assignment 3/auto_det_chal_train_7oct/data/images/test/Datacluster Auto (77).jpg: 640x480 1 auto, Done. (0.018s)\n",
      "image 129/152 /home/dhamodhar/Notes/Sem 6/VR/Graded Assignment 3/auto_det_chal_train_7oct/data/images/test/Datacluster Auto (78).jpg: 640x480 Done. (0.018s)\n",
      "image 130/152 /home/dhamodhar/Notes/Sem 6/VR/Graded Assignment 3/auto_det_chal_train_7oct/data/images/test/Datacluster Auto (79).jpg: 640x480 1 auto, Done. (0.018s)\n",
      "image 131/152 /home/dhamodhar/Notes/Sem 6/VR/Graded Assignment 3/auto_det_chal_train_7oct/data/images/test/Datacluster Auto (8).jpg: 640x384 1 auto, Done. (0.015s)\n",
      "image 132/152 /home/dhamodhar/Notes/Sem 6/VR/Graded Assignment 3/auto_det_chal_train_7oct/data/images/test/Datacluster Auto (80).jpg: 640x480 1 auto, Done. (0.018s)\n",
      "image 133/152 /home/dhamodhar/Notes/Sem 6/VR/Graded Assignment 3/auto_det_chal_train_7oct/data/images/test/Datacluster Auto (81).jpg: 640x480 4 autos, Done. (0.018s)\n",
      "image 134/152 /home/dhamodhar/Notes/Sem 6/VR/Graded Assignment 3/auto_det_chal_train_7oct/data/images/test/Datacluster Auto (82).jpg: 640x480 1 auto, Done. (0.018s)\n",
      "image 135/152 /home/dhamodhar/Notes/Sem 6/VR/Graded Assignment 3/auto_det_chal_train_7oct/data/images/test/Datacluster Auto (83).jpg: 640x480 1 auto, Done. (0.018s)\n",
      "image 136/152 /home/dhamodhar/Notes/Sem 6/VR/Graded Assignment 3/auto_det_chal_train_7oct/data/images/test/Datacluster Auto (84).jpg: 640x480 1 auto, Done. (0.018s)\n",
      "image 137/152 /home/dhamodhar/Notes/Sem 6/VR/Graded Assignment 3/auto_det_chal_train_7oct/data/images/test/Datacluster Auto (85).jpg: 640x480 2 autos, Done. (0.018s)\n",
      "image 138/152 /home/dhamodhar/Notes/Sem 6/VR/Graded Assignment 3/auto_det_chal_train_7oct/data/images/test/Datacluster Auto (86).jpg: 640x480 1 auto, Done. (0.018s)\n",
      "image 139/152 /home/dhamodhar/Notes/Sem 6/VR/Graded Assignment 3/auto_det_chal_train_7oct/data/images/test/Datacluster Auto (87).jpg: 640x480 1 auto, Done. (0.018s)\n",
      "image 140/152 /home/dhamodhar/Notes/Sem 6/VR/Graded Assignment 3/auto_det_chal_train_7oct/data/images/test/Datacluster Auto (88).jpg: 640x480 1 auto, Done. (0.018s)\n",
      "image 141/152 /home/dhamodhar/Notes/Sem 6/VR/Graded Assignment 3/auto_det_chal_train_7oct/data/images/test/Datacluster Auto (89).jpg: 640x480 2 autos, Done. (0.018s)\n",
      "image 142/152 /home/dhamodhar/Notes/Sem 6/VR/Graded Assignment 3/auto_det_chal_train_7oct/data/images/test/Datacluster Auto (9).jpg: 640x480 1 auto, Done. (0.018s)\n",
      "image 143/152 /home/dhamodhar/Notes/Sem 6/VR/Graded Assignment 3/auto_det_chal_train_7oct/data/images/test/Datacluster Auto (90).jpg: 640x480 1 auto, Done. (0.018s)\n",
      "image 144/152 /home/dhamodhar/Notes/Sem 6/VR/Graded Assignment 3/auto_det_chal_train_7oct/data/images/test/Datacluster Auto (91).jpg: 640x480 2 autos, Done. (0.018s)\n",
      "image 145/152 /home/dhamodhar/Notes/Sem 6/VR/Graded Assignment 3/auto_det_chal_train_7oct/data/images/test/Datacluster Auto (92).jpg: 640x480 1 auto, Done. (0.018s)\n",
      "image 146/152 /home/dhamodhar/Notes/Sem 6/VR/Graded Assignment 3/auto_det_chal_train_7oct/data/images/test/Datacluster Auto (93).jpg: 640x480 2 autos, Done. (0.018s)\n"
     ]
    },
    {
     "name": "stdout",
     "output_type": "stream",
     "text": [
      "image 147/152 /home/dhamodhar/Notes/Sem 6/VR/Graded Assignment 3/auto_det_chal_train_7oct/data/images/test/Datacluster Auto (94).jpg: 640x480 1 auto, Done. (0.019s)\n",
      "image 148/152 /home/dhamodhar/Notes/Sem 6/VR/Graded Assignment 3/auto_det_chal_train_7oct/data/images/test/Datacluster Auto (95).jpg: 640x480 Done. (0.018s)\n",
      "image 149/152 /home/dhamodhar/Notes/Sem 6/VR/Graded Assignment 3/auto_det_chal_train_7oct/data/images/test/Datacluster Auto (96).jpg: 640x480 Done. (0.018s)\n",
      "image 150/152 /home/dhamodhar/Notes/Sem 6/VR/Graded Assignment 3/auto_det_chal_train_7oct/data/images/test/Datacluster Auto (97).jpg: 640x480 1 auto, Done. (0.018s)\n",
      "image 151/152 /home/dhamodhar/Notes/Sem 6/VR/Graded Assignment 3/auto_det_chal_train_7oct/data/images/test/Datacluster Auto (98).jpg: 640x480 1 auto, Done. (0.018s)\n",
      "image 152/152 /home/dhamodhar/Notes/Sem 6/VR/Graded Assignment 3/auto_det_chal_train_7oct/data/images/test/Datacluster Auto (99).jpg: 640x480 1 auto, Done. (0.018s)\n",
      "Speed: 0.6ms pre-process, 18.7ms inference, 1.9ms NMS per image at shape (1, 3, 640, 640)\n",
      "Results saved to \u001b[1mruns/detect/exp5\u001b[0m\n"
     ]
    }
   ],
   "source": [
    "%timeit\n",
    "!python3 detect.py --img 640 --source ../auto_det_chal_train_7oct/data/images/test/ --weights ./runs/train/exp43/weights/best.pt --conf-thres 0.4"
   ]
  }
 ],
 "metadata": {
  "kernelspec": {
   "display_name": "Python 3 (ipykernel)",
   "language": "python",
   "name": "python3"
  },
  "language_info": {
   "codemirror_mode": {
    "name": "ipython",
    "version": 3
   },
   "file_extension": ".py",
   "mimetype": "text/x-python",
   "name": "python",
   "nbconvert_exporter": "python",
   "pygments_lexer": "ipython3",
   "version": "3.8.10"
  }
 },
 "nbformat": 4,
 "nbformat_minor": 5
}
